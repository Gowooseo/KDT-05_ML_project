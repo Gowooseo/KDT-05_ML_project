{
 "cells": [
  {
   "cell_type": "code",
   "execution_count": 603,
   "id": "initial_id",
   "metadata": {
    "collapsed": true,
    "ExecuteTime": {
     "end_time": "2024-03-11T02:12:52.525905400Z",
     "start_time": "2024-03-11T02:12:51.489905Z"
    }
   },
   "outputs": [],
   "source": [
    "import pandas as pd  #데이터 파일 관련 보뮬\n",
    "from sklearn.neighbors import KNeighborsClassifier  #기계 학습 관련 모듈\n",
    "from matplotlib import pyplot as plt\n",
    "# from sklearnex import patch_sklearn\n",
    "# patch_sklearn()\n",
    "import seaborn as sns"
   ]
  },
  {
   "cell_type": "code",
   "outputs": [],
   "source": [
    "file=\"../data/bald_probability.csv\""
   ],
   "metadata": {
    "collapsed": false,
    "ExecuteTime": {
     "end_time": "2024-03-11T02:12:52.605705100Z",
     "start_time": "2024-03-11T02:12:52.525905400Z"
    }
   },
   "id": "976a144c5760c95d",
   "execution_count": 604
  },
  {
   "cell_type": "code",
   "outputs": [],
   "source": [
    "bproDF=pd.read_csv(file)"
   ],
   "metadata": {
    "collapsed": false,
    "ExecuteTime": {
     "end_time": "2024-03-11T02:12:52.678355300Z",
     "start_time": "2024-03-11T02:12:52.587544900Z"
    }
   },
   "id": "2c9ebefb46227712",
   "execution_count": 605
  },
  {
   "cell_type": "code",
   "outputs": [
    {
     "name": "stdout",
     "output_type": "stream",
     "text": [
      "<class 'pandas.core.frame.DataFrame'>\n",
      "RangeIndex: 7917 entries, 0 to 7916\n",
      "Data columns (total 14 columns):\n",
      " #   Column         Non-Null Count  Dtype  \n",
      "---  ------         --------------  -----  \n",
      " 0   age            7832 non-null   float64\n",
      " 1   gender         7840 non-null   object \n",
      " 2   job_role       6600 non-null   object \n",
      " 3   province       7831 non-null   object \n",
      " 4   salary         7843 non-null   float64\n",
      " 5   is_married     7845 non-null   float64\n",
      " 6   is_hereditary  7828 non-null   float64\n",
      " 7   weight         7861 non-null   float64\n",
      " 8   height         7843 non-null   float64\n",
      " 9   shampoo        7858 non-null   object \n",
      " 10  is_smoker      7847 non-null   float64\n",
      " 11  education      7847 non-null   object \n",
      " 12  stress         7853 non-null   float64\n",
      " 13  bald_prob      7838 non-null   float64\n",
      "dtypes: float64(9), object(5)\n",
      "memory usage: 866.0+ KB\n"
     ]
    }
   ],
   "source": [
    "bproDF.info()"
   ],
   "metadata": {
    "collapsed": false,
    "ExecuteTime": {
     "end_time": "2024-03-11T02:12:52.762181700Z",
     "start_time": "2024-03-11T02:12:52.662505100Z"
    }
   },
   "id": "ce276e76907cdd30",
   "execution_count": 606
  },
  {
   "cell_type": "markdown",
   "source": [
    "[2] 전처리 과정"
   ],
   "metadata": {
    "collapsed": false
   },
   "id": "2358cb73e87160c5"
  },
  {
   "cell_type": "code",
   "outputs": [
    {
     "data": {
      "text/plain": "82"
     },
     "execution_count": 607,
     "metadata": {},
     "output_type": "execute_result"
    }
   ],
   "source": [
    "# 데이터 중복\n",
    "bproDF.duplicated().sum()"
   ],
   "metadata": {
    "collapsed": false,
    "ExecuteTime": {
     "end_time": "2024-03-11T02:12:52.801464Z",
     "start_time": "2024-03-11T02:12:52.703871800Z"
    }
   },
   "id": "7026bce7126651d4",
   "execution_count": 607
  },
  {
   "cell_type": "code",
   "outputs": [
    {
     "data": {
      "text/plain": "       age  gender             job_role      province        salary  \\\n0     27.0  female  Government Employee      Bengkulu  7.957453e+06   \n1     53.0  female  Government Employee       Bandung  7.633003e+06   \n2     37.0  female             Employee       Bandung  6.637625e+06   \n3     36.0  female              Jobless          Palu  3.624871e+06   \n4     38.0    male                  NaN  Palangkaraya  6.031808e+06   \n...    ...     ...                  ...           ...           ...   \n7830  52.0    male  Government Employee     Manokwari  4.286318e+06   \n7831  45.0    male  Government Employee  Tanjungselor  8.646146e+06   \n7832  24.0    male  Government Employee         Jambi  6.850066e+06   \n7833  29.0    male             Employee  Palangkaraya  1.204960e+07   \n7834  42.0  female             Employee       Kendari  4.888239e+06   \n\n      is_married  is_hereditary     weight      height   shampoo  is_smoker  \\\n0            1.0            0.0  54.315053  170.428542   Pantone        1.0   \n1            1.0            0.0  72.873404  165.530097   Pantone        0.0   \n2            1.0            0.0  46.321533  154.599388  Moonsilk        0.0   \n3            1.0            0.0  51.539781  167.340481  Deadbuoy        1.0   \n4            1.0            0.0  60.726909  165.514773   Merpati        1.0   \n...          ...            ...        ...         ...       ...        ...   \n7830         1.0            0.0  46.893444  169.880171  Deadbuoy        1.0   \n7831         1.0            0.0  53.878714  170.122857   Pantone        0.0   \n7832         1.0            0.0  64.171294  161.384804  Moonsilk        0.0   \n7833         1.0            0.0  55.217752  179.602130   Pantone        1.0   \n7834         1.0            0.0  52.699072  186.913795  Deadbuoy        0.0   \n\n               education  stress  bald_prob  \n0        Bachelor Degree     5.0   0.605974  \n1        Bachelor Degree     7.0   0.532860  \n2        Bachelor Degree     4.0   0.418442  \n3      Elementary School     9.0   0.804050  \n4        Magister Degree     1.0   0.368371  \n...                  ...     ...        ...  \n7830  Senior High School     2.0   0.773141  \n7831     Bachelor Degree     2.0   0.604058  \n7832  Senior High School     8.0   0.502413  \n7833  Senior High School     6.0   0.562664  \n7834     Magister Degree     2.0   0.273705  \n\n[7835 rows x 14 columns]",
      "text/html": "<div>\n<style scoped>\n    .dataframe tbody tr th:only-of-type {\n        vertical-align: middle;\n    }\n\n    .dataframe tbody tr th {\n        vertical-align: top;\n    }\n\n    .dataframe thead th {\n        text-align: right;\n    }\n</style>\n<table border=\"1\" class=\"dataframe\">\n  <thead>\n    <tr style=\"text-align: right;\">\n      <th></th>\n      <th>age</th>\n      <th>gender</th>\n      <th>job_role</th>\n      <th>province</th>\n      <th>salary</th>\n      <th>is_married</th>\n      <th>is_hereditary</th>\n      <th>weight</th>\n      <th>height</th>\n      <th>shampoo</th>\n      <th>is_smoker</th>\n      <th>education</th>\n      <th>stress</th>\n      <th>bald_prob</th>\n    </tr>\n  </thead>\n  <tbody>\n    <tr>\n      <th>0</th>\n      <td>27.0</td>\n      <td>female</td>\n      <td>Government Employee</td>\n      <td>Bengkulu</td>\n      <td>7.957453e+06</td>\n      <td>1.0</td>\n      <td>0.0</td>\n      <td>54.315053</td>\n      <td>170.428542</td>\n      <td>Pantone</td>\n      <td>1.0</td>\n      <td>Bachelor Degree</td>\n      <td>5.0</td>\n      <td>0.605974</td>\n    </tr>\n    <tr>\n      <th>1</th>\n      <td>53.0</td>\n      <td>female</td>\n      <td>Government Employee</td>\n      <td>Bandung</td>\n      <td>7.633003e+06</td>\n      <td>1.0</td>\n      <td>0.0</td>\n      <td>72.873404</td>\n      <td>165.530097</td>\n      <td>Pantone</td>\n      <td>0.0</td>\n      <td>Bachelor Degree</td>\n      <td>7.0</td>\n      <td>0.532860</td>\n    </tr>\n    <tr>\n      <th>2</th>\n      <td>37.0</td>\n      <td>female</td>\n      <td>Employee</td>\n      <td>Bandung</td>\n      <td>6.637625e+06</td>\n      <td>1.0</td>\n      <td>0.0</td>\n      <td>46.321533</td>\n      <td>154.599388</td>\n      <td>Moonsilk</td>\n      <td>0.0</td>\n      <td>Bachelor Degree</td>\n      <td>4.0</td>\n      <td>0.418442</td>\n    </tr>\n    <tr>\n      <th>3</th>\n      <td>36.0</td>\n      <td>female</td>\n      <td>Jobless</td>\n      <td>Palu</td>\n      <td>3.624871e+06</td>\n      <td>1.0</td>\n      <td>0.0</td>\n      <td>51.539781</td>\n      <td>167.340481</td>\n      <td>Deadbuoy</td>\n      <td>1.0</td>\n      <td>Elementary School</td>\n      <td>9.0</td>\n      <td>0.804050</td>\n    </tr>\n    <tr>\n      <th>4</th>\n      <td>38.0</td>\n      <td>male</td>\n      <td>NaN</td>\n      <td>Palangkaraya</td>\n      <td>6.031808e+06</td>\n      <td>1.0</td>\n      <td>0.0</td>\n      <td>60.726909</td>\n      <td>165.514773</td>\n      <td>Merpati</td>\n      <td>1.0</td>\n      <td>Magister Degree</td>\n      <td>1.0</td>\n      <td>0.368371</td>\n    </tr>\n    <tr>\n      <th>...</th>\n      <td>...</td>\n      <td>...</td>\n      <td>...</td>\n      <td>...</td>\n      <td>...</td>\n      <td>...</td>\n      <td>...</td>\n      <td>...</td>\n      <td>...</td>\n      <td>...</td>\n      <td>...</td>\n      <td>...</td>\n      <td>...</td>\n      <td>...</td>\n    </tr>\n    <tr>\n      <th>7830</th>\n      <td>52.0</td>\n      <td>male</td>\n      <td>Government Employee</td>\n      <td>Manokwari</td>\n      <td>4.286318e+06</td>\n      <td>1.0</td>\n      <td>0.0</td>\n      <td>46.893444</td>\n      <td>169.880171</td>\n      <td>Deadbuoy</td>\n      <td>1.0</td>\n      <td>Senior High School</td>\n      <td>2.0</td>\n      <td>0.773141</td>\n    </tr>\n    <tr>\n      <th>7831</th>\n      <td>45.0</td>\n      <td>male</td>\n      <td>Government Employee</td>\n      <td>Tanjungselor</td>\n      <td>8.646146e+06</td>\n      <td>1.0</td>\n      <td>0.0</td>\n      <td>53.878714</td>\n      <td>170.122857</td>\n      <td>Pantone</td>\n      <td>0.0</td>\n      <td>Bachelor Degree</td>\n      <td>2.0</td>\n      <td>0.604058</td>\n    </tr>\n    <tr>\n      <th>7832</th>\n      <td>24.0</td>\n      <td>male</td>\n      <td>Government Employee</td>\n      <td>Jambi</td>\n      <td>6.850066e+06</td>\n      <td>1.0</td>\n      <td>0.0</td>\n      <td>64.171294</td>\n      <td>161.384804</td>\n      <td>Moonsilk</td>\n      <td>0.0</td>\n      <td>Senior High School</td>\n      <td>8.0</td>\n      <td>0.502413</td>\n    </tr>\n    <tr>\n      <th>7833</th>\n      <td>29.0</td>\n      <td>male</td>\n      <td>Employee</td>\n      <td>Palangkaraya</td>\n      <td>1.204960e+07</td>\n      <td>1.0</td>\n      <td>0.0</td>\n      <td>55.217752</td>\n      <td>179.602130</td>\n      <td>Pantone</td>\n      <td>1.0</td>\n      <td>Senior High School</td>\n      <td>6.0</td>\n      <td>0.562664</td>\n    </tr>\n    <tr>\n      <th>7834</th>\n      <td>42.0</td>\n      <td>female</td>\n      <td>Employee</td>\n      <td>Kendari</td>\n      <td>4.888239e+06</td>\n      <td>1.0</td>\n      <td>0.0</td>\n      <td>52.699072</td>\n      <td>186.913795</td>\n      <td>Deadbuoy</td>\n      <td>0.0</td>\n      <td>Magister Degree</td>\n      <td>2.0</td>\n      <td>0.273705</td>\n    </tr>\n  </tbody>\n</table>\n<p>7835 rows × 14 columns</p>\n</div>"
     },
     "execution_count": 608,
     "metadata": {},
     "output_type": "execute_result"
    }
   ],
   "source": [
    "bproDF[~bproDF.duplicated()]"
   ],
   "metadata": {
    "collapsed": false,
    "ExecuteTime": {
     "end_time": "2024-03-11T02:12:52.961877200Z",
     "start_time": "2024-03-11T02:12:52.797264100Z"
    }
   },
   "id": "1b857ac91667a05c",
   "execution_count": 608
  },
  {
   "cell_type": "code",
   "outputs": [
    {
     "data": {
      "text/plain": "(7835, 14)"
     },
     "execution_count": 609,
     "metadata": {},
     "output_type": "execute_result"
    }
   ],
   "source": [
    "bproDF[~bproDF.duplicated()].shape"
   ],
   "metadata": {
    "collapsed": false,
    "ExecuteTime": {
     "end_time": "2024-03-11T02:12:53.014371800Z",
     "start_time": "2024-03-11T02:12:52.908631600Z"
    }
   },
   "id": "b799c1e956243c33",
   "execution_count": 609
  },
  {
   "cell_type": "code",
   "outputs": [],
   "source": [
    "bproDF = bproDF[~bproDF.duplicated()]"
   ],
   "metadata": {
    "collapsed": false,
    "ExecuteTime": {
     "end_time": "2024-03-11T02:12:53.094296500Z",
     "start_time": "2024-03-11T02:12:52.992289400Z"
    }
   },
   "id": "5c2d751953064f07",
   "execution_count": 610
  },
  {
   "cell_type": "code",
   "outputs": [
    {
     "data": {
      "text/plain": "<Axes: >"
     },
     "execution_count": 611,
     "metadata": {},
     "output_type": "execute_result"
    }
   ],
   "source": [
    "bproDF.boxplot(figsize = (10, 10))\n",
    "bproDF.boxplot()"
   ],
   "metadata": {
    "collapsed": false,
    "ExecuteTime": {
     "end_time": "2024-03-11T02:12:53.318668100Z",
     "start_time": "2024-03-11T02:12:53.080671900Z"
    }
   },
   "id": "35fb70365668c872",
   "execution_count": 611
  },
  {
   "cell_type": "code",
   "outputs": [
    {
     "data": {
      "text/plain": "age                85\ngender             75\njob_role         1300\nprovince           86\nsalary             73\nis_married         70\nis_hereditary      88\nweight             56\nheight             74\nshampoo            59\nis_smoker          69\neducation          69\nstress             64\nbald_prob          78\ndtype: int64"
     },
     "execution_count": 612,
     "metadata": {},
     "output_type": "execute_result"
    }
   ],
   "source": [
    "bproDF.isna().sum()"
   ],
   "metadata": {
    "collapsed": false,
    "ExecuteTime": {
     "end_time": "2024-03-11T02:12:53.355233600Z",
     "start_time": "2024-03-11T02:12:53.220362200Z"
    }
   },
   "id": "6e3a741c1aef334c",
   "execution_count": 612
  },
  {
   "cell_type": "markdown",
   "source": [
    "데이터를 어떻게 볼 것인가?"
   ],
   "metadata": {
    "collapsed": false
   },
   "id": "f9eabdc837d5a695"
  },
  {
   "cell_type": "markdown",
   "source": [
    "[1] gender의 결측치......  => "
   ],
   "metadata": {
    "collapsed": false
   },
   "id": "e89206d1458abd8a"
  },
  {
   "cell_type": "code",
   "outputs": [
    {
     "data": {
      "text/plain": "                    age    salary  is_married  is_hereditary    weight  \\\nage            1.000000  0.009776    0.350982      -0.012875  0.002427   \nsalary         0.009776  1.000000   -0.014108      -0.003883  0.006903   \nis_married     0.350982 -0.014108    1.000000      -0.003744  0.006765   \nis_hereditary -0.012875 -0.003883   -0.003744       1.000000  0.007816   \nweight         0.002427  0.006903    0.006765       0.007816  1.000000   \nheight        -0.007828  0.012394    0.006726       0.000641  0.394286   \nis_smoker      0.006622 -0.005820   -0.005185      -0.015100  0.000074   \nstress        -0.024732  0.016902   -0.014161      -0.004490 -0.013385   \nbald_prob      0.354636  0.058562    0.125576       0.439886 -0.000688   \n\n                 height  is_smoker    stress  bald_prob  \nage           -0.007828   0.006622 -0.024732   0.354636  \nsalary         0.012394  -0.005820  0.016902   0.058562  \nis_married     0.006726  -0.005185 -0.014161   0.125576  \nis_hereditary  0.000641  -0.015100 -0.004490   0.439886  \nweight         0.394286   0.000074 -0.013385  -0.000688  \nheight         1.000000   0.001024  0.005346   0.006229  \nis_smoker      0.001024   1.000000 -0.014063   0.264001  \nstress         0.005346  -0.014063  1.000000   0.289476  \nbald_prob      0.006229   0.264001  0.289476   1.000000  ",
      "text/html": "<div>\n<style scoped>\n    .dataframe tbody tr th:only-of-type {\n        vertical-align: middle;\n    }\n\n    .dataframe tbody tr th {\n        vertical-align: top;\n    }\n\n    .dataframe thead th {\n        text-align: right;\n    }\n</style>\n<table border=\"1\" class=\"dataframe\">\n  <thead>\n    <tr style=\"text-align: right;\">\n      <th></th>\n      <th>age</th>\n      <th>salary</th>\n      <th>is_married</th>\n      <th>is_hereditary</th>\n      <th>weight</th>\n      <th>height</th>\n      <th>is_smoker</th>\n      <th>stress</th>\n      <th>bald_prob</th>\n    </tr>\n  </thead>\n  <tbody>\n    <tr>\n      <th>age</th>\n      <td>1.000000</td>\n      <td>0.009776</td>\n      <td>0.350982</td>\n      <td>-0.012875</td>\n      <td>0.002427</td>\n      <td>-0.007828</td>\n      <td>0.006622</td>\n      <td>-0.024732</td>\n      <td>0.354636</td>\n    </tr>\n    <tr>\n      <th>salary</th>\n      <td>0.009776</td>\n      <td>1.000000</td>\n      <td>-0.014108</td>\n      <td>-0.003883</td>\n      <td>0.006903</td>\n      <td>0.012394</td>\n      <td>-0.005820</td>\n      <td>0.016902</td>\n      <td>0.058562</td>\n    </tr>\n    <tr>\n      <th>is_married</th>\n      <td>0.350982</td>\n      <td>-0.014108</td>\n      <td>1.000000</td>\n      <td>-0.003744</td>\n      <td>0.006765</td>\n      <td>0.006726</td>\n      <td>-0.005185</td>\n      <td>-0.014161</td>\n      <td>0.125576</td>\n    </tr>\n    <tr>\n      <th>is_hereditary</th>\n      <td>-0.012875</td>\n      <td>-0.003883</td>\n      <td>-0.003744</td>\n      <td>1.000000</td>\n      <td>0.007816</td>\n      <td>0.000641</td>\n      <td>-0.015100</td>\n      <td>-0.004490</td>\n      <td>0.439886</td>\n    </tr>\n    <tr>\n      <th>weight</th>\n      <td>0.002427</td>\n      <td>0.006903</td>\n      <td>0.006765</td>\n      <td>0.007816</td>\n      <td>1.000000</td>\n      <td>0.394286</td>\n      <td>0.000074</td>\n      <td>-0.013385</td>\n      <td>-0.000688</td>\n    </tr>\n    <tr>\n      <th>height</th>\n      <td>-0.007828</td>\n      <td>0.012394</td>\n      <td>0.006726</td>\n      <td>0.000641</td>\n      <td>0.394286</td>\n      <td>1.000000</td>\n      <td>0.001024</td>\n      <td>0.005346</td>\n      <td>0.006229</td>\n    </tr>\n    <tr>\n      <th>is_smoker</th>\n      <td>0.006622</td>\n      <td>-0.005820</td>\n      <td>-0.005185</td>\n      <td>-0.015100</td>\n      <td>0.000074</td>\n      <td>0.001024</td>\n      <td>1.000000</td>\n      <td>-0.014063</td>\n      <td>0.264001</td>\n    </tr>\n    <tr>\n      <th>stress</th>\n      <td>-0.024732</td>\n      <td>0.016902</td>\n      <td>-0.014161</td>\n      <td>-0.004490</td>\n      <td>-0.013385</td>\n      <td>0.005346</td>\n      <td>-0.014063</td>\n      <td>1.000000</td>\n      <td>0.289476</td>\n    </tr>\n    <tr>\n      <th>bald_prob</th>\n      <td>0.354636</td>\n      <td>0.058562</td>\n      <td>0.125576</td>\n      <td>0.439886</td>\n      <td>-0.000688</td>\n      <td>0.006229</td>\n      <td>0.264001</td>\n      <td>0.289476</td>\n      <td>1.000000</td>\n    </tr>\n  </tbody>\n</table>\n</div>"
     },
     "execution_count": 613,
     "metadata": {},
     "output_type": "execute_result"
    }
   ],
   "source": [
    "bproDF.corr(numeric_only=True)"
   ],
   "metadata": {
    "collapsed": false,
    "ExecuteTime": {
     "end_time": "2024-03-11T02:12:53.472100900Z",
     "start_time": "2024-03-11T02:12:53.323795200Z"
    }
   },
   "id": "ebe12234922a66da",
   "execution_count": 613
  },
  {
   "cell_type": "code",
   "outputs": [
    {
     "name": "stdout",
     "output_type": "stream",
     "text": [
      "<class 'pandas.core.frame.DataFrame'>\n",
      "Index: 7835 entries, 0 to 7834\n",
      "Data columns (total 14 columns):\n",
      " #   Column         Non-Null Count  Dtype  \n",
      "---  ------         --------------  -----  \n",
      " 0   age            7750 non-null   float64\n",
      " 1   gender         7760 non-null   object \n",
      " 2   job_role       6535 non-null   object \n",
      " 3   province       7749 non-null   object \n",
      " 4   salary         7762 non-null   float64\n",
      " 5   is_married     7765 non-null   float64\n",
      " 6   is_hereditary  7747 non-null   float64\n",
      " 7   weight         7779 non-null   float64\n",
      " 8   height         7761 non-null   float64\n",
      " 9   shampoo        7776 non-null   object \n",
      " 10  is_smoker      7766 non-null   float64\n",
      " 11  education      7766 non-null   object \n",
      " 12  stress         7771 non-null   float64\n",
      " 13  bald_prob      7757 non-null   float64\n",
      "dtypes: float64(9), object(5)\n",
      "memory usage: 918.2+ KB\n"
     ]
    }
   ],
   "source": [
    "bproDF.info()"
   ],
   "metadata": {
    "collapsed": false,
    "ExecuteTime": {
     "end_time": "2024-03-11T02:12:53.541537400Z",
     "start_time": "2024-03-11T02:12:53.416747900Z"
    }
   },
   "id": "3efbe3774d847e90",
   "execution_count": 614
  },
  {
   "cell_type": "code",
   "outputs": [
    {
     "data": {
      "text/plain": "age   gender  job_role             province      salary        is_married  is_hereditary  weight     height      shampoo          is_smoker  education           stress  bald_prob\n2.0   male    Government Employee  Kendari       1.150700e+07  0.0         0.0            63.946479  178.733256  Merpati          1.0        Doctoral Degree     3.0     0.454950     1\n44.0  male    Employee             Denpasar      5.398613e+06  1.0         1.0            45.636652  154.206293  Merpati          1.0        Senior High School  4.0     0.720523     1\n                                                 4.882454e+06  1.0         0.0            48.380036  177.378449  Deadbuoy         1.0        Magister Degree     6.0     0.597222     1\n                                   Bengkulu      6.842743e+06  1.0         0.0            47.761236  175.948554  Pantone          0.0        Bachelor Degree     9.0     0.514561     1\n                                   Banjarmasin   1.143873e+07  1.0         0.0            64.483118  166.846595  Merpati          0.0        Magister Degree     10.0    0.672581     1\n                                                                                                                                                                                     ..\n35.0  male    Government Employee  Palangkaraya  7.387369e+06  1.0         1.0            56.012008  166.962207  Shoulder & Head  0.0        Magister Degree     3.0     0.679353     1\n                                                 7.067970e+06  1.0         0.0            53.500037  163.302635  Deadbuoy         1.0        Doctoral Degree     6.0     0.614015     1\n                                                 5.504891e+06  1.0         0.0            49.953283  158.228589  Shoulder & Head  0.0        Bachelor Degree     3.0     0.436309     1\n                                   Padang        5.354086e+06  1.0         0.0            50.244343  156.538467  Pantone          0.0        Elementary School   1.0     0.398124     1\n77.0  female  Employee             Tanjungselor  9.540787e+06  1.0         0.0            48.435989  176.707432  Deadbuoy         0.0        Bachelor Degree     4.0     0.539410     1\nName: count, Length: 5807, dtype: int64"
     },
     "execution_count": 615,
     "metadata": {},
     "output_type": "execute_result"
    }
   ],
   "source": [
    "bproDF.value_counts()"
   ],
   "metadata": {
    "collapsed": false,
    "ExecuteTime": {
     "end_time": "2024-03-11T02:12:53.677078600Z",
     "start_time": "2024-03-11T02:12:53.527861500Z"
    }
   },
   "id": "4889150299c4e107",
   "execution_count": 615
  },
  {
   "cell_type": "code",
   "outputs": [
    {
     "data": {
      "text/plain": "       age  gender             job_role      province        salary  \\\n0     27.0  female  Government Employee      Bengkulu  7.957453e+06   \n1     53.0  female  Government Employee       Bandung  7.633003e+06   \n2     37.0  female             Employee       Bandung  6.637625e+06   \n3     36.0  female              Jobless          Palu  3.624871e+06   \n4     38.0    male                  NaN  Palangkaraya  6.031808e+06   \n...    ...     ...                  ...           ...           ...   \n7830  52.0    male  Government Employee     Manokwari  4.286318e+06   \n7831  45.0    male  Government Employee  Tanjungselor  8.646146e+06   \n7832  24.0    male  Government Employee         Jambi  6.850066e+06   \n7833  29.0    male             Employee  Palangkaraya  1.204960e+07   \n7834  42.0  female             Employee       Kendari  4.888239e+06   \n\n      is_married  is_hereditary     weight      height   shampoo  is_smoker  \\\n0            1.0            0.0  54.315053  170.428542   Pantone        1.0   \n1            1.0            0.0  72.873404  165.530097   Pantone        0.0   \n2            1.0            0.0  46.321533  154.599388  Moonsilk        0.0   \n3            1.0            0.0  51.539781  167.340481  Deadbuoy        1.0   \n4            1.0            0.0  60.726909  165.514773   Merpati        1.0   \n...          ...            ...        ...         ...       ...        ...   \n7830         1.0            0.0  46.893444  169.880171  Deadbuoy        1.0   \n7831         1.0            0.0  53.878714  170.122857   Pantone        0.0   \n7832         1.0            0.0  64.171294  161.384804  Moonsilk        0.0   \n7833         1.0            0.0  55.217752  179.602130   Pantone        1.0   \n7834         1.0            0.0  52.699072  186.913795  Deadbuoy        0.0   \n\n               education  stress  bald_prob  \n0        Bachelor Degree     5.0   0.605974  \n1        Bachelor Degree     7.0   0.532860  \n2        Bachelor Degree     4.0   0.418442  \n3      Elementary School     9.0   0.804050  \n4        Magister Degree     1.0   0.368371  \n...                  ...     ...        ...  \n7830  Senior High School     2.0   0.773141  \n7831     Bachelor Degree     2.0   0.604058  \n7832  Senior High School     8.0   0.502413  \n7833  Senior High School     6.0   0.562664  \n7834     Magister Degree     2.0   0.273705  \n\n[7835 rows x 14 columns]",
      "text/html": "<div>\n<style scoped>\n    .dataframe tbody tr th:only-of-type {\n        vertical-align: middle;\n    }\n\n    .dataframe tbody tr th {\n        vertical-align: top;\n    }\n\n    .dataframe thead th {\n        text-align: right;\n    }\n</style>\n<table border=\"1\" class=\"dataframe\">\n  <thead>\n    <tr style=\"text-align: right;\">\n      <th></th>\n      <th>age</th>\n      <th>gender</th>\n      <th>job_role</th>\n      <th>province</th>\n      <th>salary</th>\n      <th>is_married</th>\n      <th>is_hereditary</th>\n      <th>weight</th>\n      <th>height</th>\n      <th>shampoo</th>\n      <th>is_smoker</th>\n      <th>education</th>\n      <th>stress</th>\n      <th>bald_prob</th>\n    </tr>\n  </thead>\n  <tbody>\n    <tr>\n      <th>0</th>\n      <td>27.0</td>\n      <td>female</td>\n      <td>Government Employee</td>\n      <td>Bengkulu</td>\n      <td>7.957453e+06</td>\n      <td>1.0</td>\n      <td>0.0</td>\n      <td>54.315053</td>\n      <td>170.428542</td>\n      <td>Pantone</td>\n      <td>1.0</td>\n      <td>Bachelor Degree</td>\n      <td>5.0</td>\n      <td>0.605974</td>\n    </tr>\n    <tr>\n      <th>1</th>\n      <td>53.0</td>\n      <td>female</td>\n      <td>Government Employee</td>\n      <td>Bandung</td>\n      <td>7.633003e+06</td>\n      <td>1.0</td>\n      <td>0.0</td>\n      <td>72.873404</td>\n      <td>165.530097</td>\n      <td>Pantone</td>\n      <td>0.0</td>\n      <td>Bachelor Degree</td>\n      <td>7.0</td>\n      <td>0.532860</td>\n    </tr>\n    <tr>\n      <th>2</th>\n      <td>37.0</td>\n      <td>female</td>\n      <td>Employee</td>\n      <td>Bandung</td>\n      <td>6.637625e+06</td>\n      <td>1.0</td>\n      <td>0.0</td>\n      <td>46.321533</td>\n      <td>154.599388</td>\n      <td>Moonsilk</td>\n      <td>0.0</td>\n      <td>Bachelor Degree</td>\n      <td>4.0</td>\n      <td>0.418442</td>\n    </tr>\n    <tr>\n      <th>3</th>\n      <td>36.0</td>\n      <td>female</td>\n      <td>Jobless</td>\n      <td>Palu</td>\n      <td>3.624871e+06</td>\n      <td>1.0</td>\n      <td>0.0</td>\n      <td>51.539781</td>\n      <td>167.340481</td>\n      <td>Deadbuoy</td>\n      <td>1.0</td>\n      <td>Elementary School</td>\n      <td>9.0</td>\n      <td>0.804050</td>\n    </tr>\n    <tr>\n      <th>4</th>\n      <td>38.0</td>\n      <td>male</td>\n      <td>NaN</td>\n      <td>Palangkaraya</td>\n      <td>6.031808e+06</td>\n      <td>1.0</td>\n      <td>0.0</td>\n      <td>60.726909</td>\n      <td>165.514773</td>\n      <td>Merpati</td>\n      <td>1.0</td>\n      <td>Magister Degree</td>\n      <td>1.0</td>\n      <td>0.368371</td>\n    </tr>\n    <tr>\n      <th>...</th>\n      <td>...</td>\n      <td>...</td>\n      <td>...</td>\n      <td>...</td>\n      <td>...</td>\n      <td>...</td>\n      <td>...</td>\n      <td>...</td>\n      <td>...</td>\n      <td>...</td>\n      <td>...</td>\n      <td>...</td>\n      <td>...</td>\n      <td>...</td>\n    </tr>\n    <tr>\n      <th>7830</th>\n      <td>52.0</td>\n      <td>male</td>\n      <td>Government Employee</td>\n      <td>Manokwari</td>\n      <td>4.286318e+06</td>\n      <td>1.0</td>\n      <td>0.0</td>\n      <td>46.893444</td>\n      <td>169.880171</td>\n      <td>Deadbuoy</td>\n      <td>1.0</td>\n      <td>Senior High School</td>\n      <td>2.0</td>\n      <td>0.773141</td>\n    </tr>\n    <tr>\n      <th>7831</th>\n      <td>45.0</td>\n      <td>male</td>\n      <td>Government Employee</td>\n      <td>Tanjungselor</td>\n      <td>8.646146e+06</td>\n      <td>1.0</td>\n      <td>0.0</td>\n      <td>53.878714</td>\n      <td>170.122857</td>\n      <td>Pantone</td>\n      <td>0.0</td>\n      <td>Bachelor Degree</td>\n      <td>2.0</td>\n      <td>0.604058</td>\n    </tr>\n    <tr>\n      <th>7832</th>\n      <td>24.0</td>\n      <td>male</td>\n      <td>Government Employee</td>\n      <td>Jambi</td>\n      <td>6.850066e+06</td>\n      <td>1.0</td>\n      <td>0.0</td>\n      <td>64.171294</td>\n      <td>161.384804</td>\n      <td>Moonsilk</td>\n      <td>0.0</td>\n      <td>Senior High School</td>\n      <td>8.0</td>\n      <td>0.502413</td>\n    </tr>\n    <tr>\n      <th>7833</th>\n      <td>29.0</td>\n      <td>male</td>\n      <td>Employee</td>\n      <td>Palangkaraya</td>\n      <td>1.204960e+07</td>\n      <td>1.0</td>\n      <td>0.0</td>\n      <td>55.217752</td>\n      <td>179.602130</td>\n      <td>Pantone</td>\n      <td>1.0</td>\n      <td>Senior High School</td>\n      <td>6.0</td>\n      <td>0.562664</td>\n    </tr>\n    <tr>\n      <th>7834</th>\n      <td>42.0</td>\n      <td>female</td>\n      <td>Employee</td>\n      <td>Kendari</td>\n      <td>4.888239e+06</td>\n      <td>1.0</td>\n      <td>0.0</td>\n      <td>52.699072</td>\n      <td>186.913795</td>\n      <td>Deadbuoy</td>\n      <td>0.0</td>\n      <td>Magister Degree</td>\n      <td>2.0</td>\n      <td>0.273705</td>\n    </tr>\n  </tbody>\n</table>\n<p>7835 rows × 14 columns</p>\n</div>"
     },
     "execution_count": 616,
     "metadata": {},
     "output_type": "execute_result"
    }
   ],
   "source": [
    "bproDF"
   ],
   "metadata": {
    "collapsed": false,
    "ExecuteTime": {
     "end_time": "2024-03-11T02:12:53.791995700Z",
     "start_time": "2024-03-11T02:12:53.636221600Z"
    }
   },
   "id": "1ea68d16883aabc5",
   "execution_count": 616
  },
  {
   "cell_type": "code",
   "outputs": [
    {
     "name": "stdout",
     "output_type": "stream",
     "text": [
      "<class 'pandas.core.frame.DataFrame'>\n",
      "Index: 7835 entries, 0 to 7834\n",
      "Data columns (total 14 columns):\n",
      " #   Column         Non-Null Count  Dtype  \n",
      "---  ------         --------------  -----  \n",
      " 0   age            7750 non-null   float64\n",
      " 1   gender         7760 non-null   object \n",
      " 2   job_role       6535 non-null   object \n",
      " 3   province       7749 non-null   object \n",
      " 4   salary         7762 non-null   float64\n",
      " 5   is_married     7765 non-null   float64\n",
      " 6   is_hereditary  7747 non-null   float64\n",
      " 7   weight         7779 non-null   float64\n",
      " 8   height         7761 non-null   float64\n",
      " 9   shampoo        7776 non-null   object \n",
      " 10  is_smoker      7766 non-null   float64\n",
      " 11  education      7766 non-null   object \n",
      " 12  stress         7771 non-null   float64\n",
      " 13  bald_prob      7757 non-null   float64\n",
      "dtypes: float64(9), object(5)\n",
      "memory usage: 918.2+ KB\n"
     ]
    }
   ],
   "source": [
    "bproDF.info()"
   ],
   "metadata": {
    "collapsed": false,
    "ExecuteTime": {
     "end_time": "2024-03-11T02:12:53.902763100Z",
     "start_time": "2024-03-11T02:12:53.742361100Z"
    }
   },
   "id": "49bb6ff09315afc0",
   "execution_count": 617
  },
  {
   "cell_type": "markdown",
   "source": [
    "[1-1] 결측치 확인\n"
   ],
   "metadata": {
    "collapsed": false
   },
   "id": "3aedf6ff434c724b"
  },
  {
   "cell_type": "code",
   "outputs": [
    {
     "data": {
      "text/plain": "age                85\ngender             75\njob_role         1300\nprovince           86\nsalary             73\nis_married         70\nis_hereditary      88\nweight             56\nheight             74\nshampoo            59\nis_smoker          69\neducation          69\nstress             64\nbald_prob          78\ndtype: int64"
     },
     "execution_count": 618,
     "metadata": {},
     "output_type": "execute_result"
    }
   ],
   "source": [
    "bproDF_na=bproDF.isnull().sum()\n",
    "bproDF_na"
   ],
   "metadata": {
    "collapsed": false,
    "ExecuteTime": {
     "end_time": "2024-03-11T02:12:54.046189900Z",
     "start_time": "2024-03-11T02:12:53.883996Z"
    }
   },
   "id": "1adee68cfc0d4a7b",
   "execution_count": 618
  },
  {
   "cell_type": "code",
   "outputs": [],
   "source": [],
   "metadata": {
    "collapsed": false,
    "ExecuteTime": {
     "end_time": "2024-03-11T02:12:54.180196300Z",
     "start_time": "2024-03-11T02:12:54.025275800Z"
    }
   },
   "id": "7c4ef9c1523f642e",
   "execution_count": 618
  },
  {
   "cell_type": "code",
   "outputs": [
    {
     "name": "stdout",
     "output_type": "stream",
     "text": [
      "       age  gender             job_role      province        salary  \\\n",
      "0     27.0  female  Government Employee      Bengkulu  7.957453e+06   \n",
      "1     53.0  female  Government Employee       Bandung  7.633003e+06   \n",
      "2     37.0  female             Employee       Bandung  6.637625e+06   \n",
      "3     36.0  female              Jobless          Palu  3.624871e+06   \n",
      "4     38.0    male                  NaN  Palangkaraya  6.031808e+06   \n",
      "...    ...     ...                  ...           ...           ...   \n",
      "7830  52.0    male  Government Employee     Manokwari  4.286318e+06   \n",
      "7831  45.0    male  Government Employee  Tanjungselor  8.646146e+06   \n",
      "7832  24.0    male  Government Employee         Jambi  6.850066e+06   \n",
      "7833  29.0    male             Employee  Palangkaraya  1.204960e+07   \n",
      "7834  42.0  female             Employee       Kendari  4.888239e+06   \n",
      "\n",
      "      is_married  is_hereditary     weight      height   shampoo  is_smoker  \\\n",
      "0            1.0            0.0  54.315053  170.428542   Pantone        1.0   \n",
      "1            1.0            0.0  72.873404  165.530097   Pantone        0.0   \n",
      "2            1.0            0.0  46.321533  154.599388  Moonsilk        0.0   \n",
      "3            1.0            0.0  51.539781  167.340481  Deadbuoy        1.0   \n",
      "4            1.0            0.0  60.726909  165.514773   Merpati        1.0   \n",
      "...          ...            ...        ...         ...       ...        ...   \n",
      "7830         1.0            0.0  46.893444  169.880171  Deadbuoy        1.0   \n",
      "7831         1.0            0.0  53.878714  170.122857   Pantone        0.0   \n",
      "7832         1.0            0.0  64.171294  161.384804  Moonsilk        0.0   \n",
      "7833         1.0            0.0  55.217752  179.602130   Pantone        1.0   \n",
      "7834         1.0            0.0  52.699072  186.913795  Deadbuoy        0.0   \n",
      "\n",
      "               education  stress  bald_prob  \n",
      "0        Bachelor Degree     5.0   0.605974  \n",
      "1        Bachelor Degree     7.0   0.532860  \n",
      "2        Bachelor Degree     4.0   0.418442  \n",
      "3      Elementary School     9.0   0.804050  \n",
      "4        Magister Degree     1.0   0.368371  \n",
      "...                  ...     ...        ...  \n",
      "7830  Senior High School     2.0   0.773141  \n",
      "7831     Bachelor Degree     2.0   0.604058  \n",
      "7832  Senior High School     8.0   0.502413  \n",
      "7833  Senior High School     6.0   0.562664  \n",
      "7834     Magister Degree     2.0   0.273705  \n",
      "\n",
      "[7835 rows x 14 columns]\n"
     ]
    }
   ],
   "source": [
    "\n",
    "\n",
    "for i in bproDF[bproDF['gender'].isnull()].index:\n",
    "    if bproDF['height'][i] >= 158:\n",
    "        bproDF.loc[i, 'gender'] = 'male'\n",
    "    else:\n",
    "        bproDF.loc[i, 'gender'] = 'female'\n",
    "\n",
    "print(bproDF)"
   ],
   "metadata": {
    "collapsed": false,
    "ExecuteTime": {
     "end_time": "2024-03-11T02:12:54.247477600Z",
     "start_time": "2024-03-11T02:12:54.103593800Z"
    }
   },
   "id": "f30d5573e033b890",
   "execution_count": 619
  },
  {
   "cell_type": "code",
   "outputs": [
    {
     "data": {
      "text/plain": "age                85\ngender             75\njob_role         1300\nprovince           86\nsalary             73\nis_married         70\nis_hereditary      88\nweight             56\nheight             74\nshampoo            59\nis_smoker          69\neducation          69\nstress             64\nbald_prob          78\ndtype: int64"
     },
     "execution_count": 620,
     "metadata": {},
     "output_type": "execute_result"
    }
   ],
   "source": [
    "bproDF_na"
   ],
   "metadata": {
    "collapsed": false,
    "ExecuteTime": {
     "end_time": "2024-03-11T02:12:54.372187500Z",
     "start_time": "2024-03-11T02:12:54.249560500Z"
    }
   },
   "id": "5d5cb775352cc86c",
   "execution_count": 620
  },
  {
   "cell_type": "code",
   "outputs": [
    {
     "data": {
      "text/plain": "170.42854234879383"
     },
     "execution_count": 621,
     "metadata": {},
     "output_type": "execute_result"
    }
   ],
   "source": [
    "bproDF['height'][0]"
   ],
   "metadata": {
    "collapsed": false,
    "ExecuteTime": {
     "end_time": "2024-03-11T02:12:54.404960600Z",
     "start_time": "2024-03-11T02:12:54.338038400Z"
    }
   },
   "id": "ec4ab79facdc74af",
   "execution_count": 621
  },
  {
   "cell_type": "code",
   "outputs": [],
   "source": [
    "#오우...많다."
   ],
   "metadata": {
    "collapsed": false,
    "ExecuteTime": {
     "end_time": "2024-03-11T02:12:54.511488900Z",
     "start_time": "2024-03-11T02:12:54.402902800Z"
    }
   },
   "id": "1fad529a0c9797ba",
   "execution_count": 622
  },
  {
   "cell_type": "markdown",
   "source": [
    "#결측치 처리하기\n",
    "#나이 컬럼에 평균 값 집어넣기"
   ],
   "metadata": {
    "collapsed": false
   },
   "id": "9e17305dbb46d618"
  },
  {
   "cell_type": "code",
   "outputs": [],
   "source": [
    "mean_age=bproDF['age'].mean()\n",
    "bproDF['age'].fillna(round(mean_age),inplace=True)"
   ],
   "metadata": {
    "collapsed": false,
    "ExecuteTime": {
     "end_time": "2024-03-11T02:12:54.591113Z",
     "start_time": "2024-03-11T02:12:54.491229300Z"
    }
   },
   "id": "a25e26000832098",
   "execution_count": 623
  },
  {
   "cell_type": "code",
   "outputs": [],
   "source": [
    "# 성별 부분에서 중요 값 채워넣기 (mode)\n",
    "# mode_gender=bproDF['gender'].mode().values[0]\n",
    "# bproDF['gender'].fillna(mode_gender,inplace=True)\n",
    "for i in bproDF[bproDF['gender'].isnull()].index:\n",
    "    if bproDF['height'][i] >= 158:\n",
    "        bproDF.loc[i, 'gender'] = 'male'\n",
    "    else:\n",
    "        bproDF.loc[i, 'gender'] = 'female'"
   ],
   "metadata": {
    "collapsed": false,
    "ExecuteTime": {
     "end_time": "2024-03-11T02:12:54.652945700Z",
     "start_time": "2024-03-11T02:12:54.544990300Z"
    }
   },
   "id": "707afa7757dd09e0",
   "execution_count": 624
  },
  {
   "cell_type": "code",
   "outputs": [],
   "source": [
    "mode_edu=bproDF['education'].mode().values[0]\n",
    "bproDF['education'].fillna(mode_edu,inplace=True)"
   ],
   "metadata": {
    "collapsed": false,
    "ExecuteTime": {
     "end_time": "2024-03-11T02:12:54.752700900Z",
     "start_time": "2024-03-11T02:12:54.655017100Z"
    }
   },
   "id": "dae098f23529c1b",
   "execution_count": 625
  },
  {
   "cell_type": "code",
   "outputs": [],
   "source": [
    "mode_shampoo=bproDF['shampoo'].mode().values[0]\n",
    "bproDF['shampoo'].fillna(mode_shampoo,inplace=True)"
   ],
   "metadata": {
    "collapsed": false,
    "ExecuteTime": {
     "end_time": "2024-03-11T02:12:54.798073300Z",
     "start_time": "2024-03-11T02:12:54.734805500Z"
    }
   },
   "id": "339142459f39e77f",
   "execution_count": 626
  },
  {
   "cell_type": "code",
   "outputs": [],
   "source": [
    "#텅 빈 값 알아서 넣어주기"
   ],
   "metadata": {
    "collapsed": false,
    "ExecuteTime": {
     "end_time": "2024-03-11T02:12:54.872350800Z",
     "start_time": "2024-03-11T02:12:54.783439Z"
    }
   },
   "id": "ea407e0011f82216",
   "execution_count": 627
  },
  {
   "cell_type": "code",
   "outputs": [],
   "source": [
    "bproDF['job_role'].fillna('Unspecified',inplace=True)"
   ],
   "metadata": {
    "collapsed": false,
    "ExecuteTime": {
     "end_time": "2024-03-11T02:12:54.929081Z",
     "start_time": "2024-03-11T02:12:54.873391800Z"
    }
   },
   "id": "81281886b9194407",
   "execution_count": 628
  },
  {
   "cell_type": "code",
   "outputs": [],
   "source": [],
   "metadata": {
    "collapsed": false,
    "ExecuteTime": {
     "end_time": "2024-03-11T02:12:55.003972700Z",
     "start_time": "2024-03-11T02:12:54.917593400Z"
    }
   },
   "id": "e3f18175f9187422",
   "execution_count": 628
  },
  {
   "cell_type": "code",
   "outputs": [],
   "source": [
    "bproDF['province'].fillna('Others',inplace=True)"
   ],
   "metadata": {
    "collapsed": false,
    "ExecuteTime": {
     "end_time": "2024-03-11T02:12:55.037431100Z",
     "start_time": "2024-03-11T02:12:54.987335700Z"
    }
   },
   "id": "d815926fbb817da",
   "execution_count": 629
  },
  {
   "cell_type": "code",
   "outputs": [],
   "source": [
    "#평균 집어넣기"
   ],
   "metadata": {
    "collapsed": false,
    "ExecuteTime": {
     "end_time": "2024-03-11T02:12:55.134947100Z",
     "start_time": "2024-03-11T02:12:55.038428500Z"
    }
   },
   "id": "4668c80b8be95c96",
   "execution_count": 630
  },
  {
   "cell_type": "code",
   "outputs": [],
   "source": [
    "mean_salary=bproDF['salary'].mean()\n",
    "bproDF['salary'].fillna(mean_salary,inplace=True)"
   ],
   "metadata": {
    "collapsed": false,
    "ExecuteTime": {
     "end_time": "2024-03-11T02:12:55.189897300Z",
     "start_time": "2024-03-11T02:12:55.098751800Z"
    }
   },
   "id": "9f2c20c27d9de9d8",
   "execution_count": 631
  },
  {
   "cell_type": "code",
   "outputs": [],
   "source": [
    "mean_married=bproDF['is_married'].mean()\n",
    "bproDF['is_married'].fillna(round(mean_married),inplace=True)"
   ],
   "metadata": {
    "collapsed": false,
    "ExecuteTime": {
     "end_time": "2024-03-11T02:12:55.239926200Z",
     "start_time": "2024-03-11T02:12:55.147962300Z"
    }
   },
   "id": "9c82209e91b41e3f",
   "execution_count": 632
  },
  {
   "cell_type": "code",
   "outputs": [],
   "source": [
    "mean_hereditary=bproDF['is_hereditary'].mean()\n",
    "bproDF['is_hereditary'].fillna(round(mean_hereditary),inplace=True)"
   ],
   "metadata": {
    "collapsed": false,
    "ExecuteTime": {
     "end_time": "2024-03-11T02:12:55.300423400Z",
     "start_time": "2024-03-11T02:12:55.228495300Z"
    }
   },
   "id": "4c2be0d5befc95b5",
   "execution_count": 633
  },
  {
   "cell_type": "code",
   "outputs": [],
   "source": [
    "mean_weight=bproDF['weight'].mean()\n",
    "bproDF['weight'].fillna(mean_weight,inplace=True)"
   ],
   "metadata": {
    "collapsed": false,
    "ExecuteTime": {
     "end_time": "2024-03-11T02:12:55.341694600Z",
     "start_time": "2024-03-11T02:12:55.297345800Z"
    }
   },
   "id": "a2d3846ba464b981",
   "execution_count": 634
  },
  {
   "cell_type": "code",
   "outputs": [],
   "source": [
    "mean_height=bproDF['height'].mean()\n",
    "bproDF['height'].fillna(mean_height,inplace=True)"
   ],
   "metadata": {
    "collapsed": false,
    "ExecuteTime": {
     "end_time": "2024-03-11T02:12:55.414531300Z",
     "start_time": "2024-03-11T02:12:55.338580300Z"
    }
   },
   "id": "b6a4905e08346242",
   "execution_count": 635
  },
  {
   "cell_type": "code",
   "outputs": [],
   "source": [
    "mean_smoke=bproDF['is_smoker'].mean()\n",
    "bproDF['is_smoker'].fillna(round(mean_smoke),inplace=True)"
   ],
   "metadata": {
    "collapsed": false,
    "ExecuteTime": {
     "end_time": "2024-03-11T02:12:55.442826100Z",
     "start_time": "2024-03-11T02:12:55.400474Z"
    }
   },
   "id": "40a79cc0007cf01d",
   "execution_count": 636
  },
  {
   "cell_type": "code",
   "outputs": [],
   "source": [
    "mean_stress=bproDF['stress'].mean()\n",
    "bproDF['stress'].fillna(round(mean_stress),inplace=True)"
   ],
   "metadata": {
    "collapsed": false,
    "ExecuteTime": {
     "end_time": "2024-03-11T02:12:55.517145Z",
     "start_time": "2024-03-11T02:12:55.443824200Z"
    }
   },
   "id": "b7e5b9fcd7c27777",
   "execution_count": 637
  },
  {
   "cell_type": "code",
   "outputs": [],
   "source": [
    "# bald_probability에서 null 제거하기\n",
    "bproDF=bproDF[~bproDF['bald_prob'].isnull()]\n"
   ],
   "metadata": {
    "collapsed": false,
    "ExecuteTime": {
     "end_time": "2024-03-11T02:12:55.540755700Z",
     "start_time": "2024-03-11T02:12:55.499662600Z"
    }
   },
   "id": "dbad59a0da05d2bc",
   "execution_count": 638
  },
  {
   "cell_type": "code",
   "outputs": [],
   "source": [
    "bproDF_na=bproDF.isnull().sum()"
   ],
   "metadata": {
    "collapsed": false,
    "ExecuteTime": {
     "end_time": "2024-03-11T02:12:55.628951Z",
     "start_time": "2024-03-11T02:12:55.542841500Z"
    }
   },
   "id": "f2e893fca2c3baef",
   "execution_count": 639
  },
  {
   "cell_type": "code",
   "outputs": [
    {
     "data": {
      "text/plain": "age              0\ngender           0\njob_role         0\nprovince         0\nsalary           0\nis_married       0\nis_hereditary    0\nweight           0\nheight           0\nshampoo          0\nis_smoker        0\neducation        0\nstress           0\nbald_prob        0\ndtype: int64"
     },
     "execution_count": 640,
     "metadata": {},
     "output_type": "execute_result"
    }
   ],
   "source": [
    "bproDF_na\n"
   ],
   "metadata": {
    "collapsed": false,
    "ExecuteTime": {
     "end_time": "2024-03-11T02:12:55.704207300Z",
     "start_time": "2024-03-11T02:12:55.612303500Z"
    }
   },
   "id": "e74a1248fc119b5f",
   "execution_count": 640
  },
  {
   "cell_type": "code",
   "outputs": [
    {
     "data": {
      "text/plain": "       age  gender             job_role      province        salary  \\\n0     27.0  female  Government Employee      Bengkulu  7.957453e+06   \n1     53.0  female  Government Employee       Bandung  7.633003e+06   \n2     37.0  female             Employee       Bandung  6.637625e+06   \n3     36.0  female              Jobless          Palu  3.624871e+06   \n4     38.0    male          Unspecified  Palangkaraya  6.031808e+06   \n...    ...     ...                  ...           ...           ...   \n7830  52.0    male  Government Employee     Manokwari  4.286318e+06   \n7831  45.0    male  Government Employee  Tanjungselor  8.646146e+06   \n7832  24.0    male  Government Employee         Jambi  6.850066e+06   \n7833  29.0    male             Employee  Palangkaraya  1.204960e+07   \n7834  42.0  female             Employee       Kendari  4.888239e+06   \n\n      is_married  is_hereditary     weight      height   shampoo  is_smoker  \\\n0            1.0            0.0  54.315053  170.428542   Pantone        1.0   \n1            1.0            0.0  72.873404  165.530097   Pantone        0.0   \n2            1.0            0.0  46.321533  154.599388  Moonsilk        0.0   \n3            1.0            0.0  51.539781  167.340481  Deadbuoy        1.0   \n4            1.0            0.0  60.726909  165.514773   Merpati        1.0   \n...          ...            ...        ...         ...       ...        ...   \n7830         1.0            0.0  46.893444  169.880171  Deadbuoy        1.0   \n7831         1.0            0.0  53.878714  170.122857   Pantone        0.0   \n7832         1.0            0.0  64.171294  161.384804  Moonsilk        0.0   \n7833         1.0            0.0  55.217752  179.602130   Pantone        1.0   \n7834         1.0            0.0  52.699072  186.913795  Deadbuoy        0.0   \n\n               education  stress  bald_prob  \n0        Bachelor Degree     5.0   0.605974  \n1        Bachelor Degree     7.0   0.532860  \n2        Bachelor Degree     4.0   0.418442  \n3      Elementary School     9.0   0.804050  \n4        Magister Degree     1.0   0.368371  \n...                  ...     ...        ...  \n7830  Senior High School     2.0   0.773141  \n7831     Bachelor Degree     2.0   0.604058  \n7832  Senior High School     8.0   0.502413  \n7833  Senior High School     6.0   0.562664  \n7834     Magister Degree     2.0   0.273705  \n\n[7757 rows x 14 columns]",
      "text/html": "<div>\n<style scoped>\n    .dataframe tbody tr th:only-of-type {\n        vertical-align: middle;\n    }\n\n    .dataframe tbody tr th {\n        vertical-align: top;\n    }\n\n    .dataframe thead th {\n        text-align: right;\n    }\n</style>\n<table border=\"1\" class=\"dataframe\">\n  <thead>\n    <tr style=\"text-align: right;\">\n      <th></th>\n      <th>age</th>\n      <th>gender</th>\n      <th>job_role</th>\n      <th>province</th>\n      <th>salary</th>\n      <th>is_married</th>\n      <th>is_hereditary</th>\n      <th>weight</th>\n      <th>height</th>\n      <th>shampoo</th>\n      <th>is_smoker</th>\n      <th>education</th>\n      <th>stress</th>\n      <th>bald_prob</th>\n    </tr>\n  </thead>\n  <tbody>\n    <tr>\n      <th>0</th>\n      <td>27.0</td>\n      <td>female</td>\n      <td>Government Employee</td>\n      <td>Bengkulu</td>\n      <td>7.957453e+06</td>\n      <td>1.0</td>\n      <td>0.0</td>\n      <td>54.315053</td>\n      <td>170.428542</td>\n      <td>Pantone</td>\n      <td>1.0</td>\n      <td>Bachelor Degree</td>\n      <td>5.0</td>\n      <td>0.605974</td>\n    </tr>\n    <tr>\n      <th>1</th>\n      <td>53.0</td>\n      <td>female</td>\n      <td>Government Employee</td>\n      <td>Bandung</td>\n      <td>7.633003e+06</td>\n      <td>1.0</td>\n      <td>0.0</td>\n      <td>72.873404</td>\n      <td>165.530097</td>\n      <td>Pantone</td>\n      <td>0.0</td>\n      <td>Bachelor Degree</td>\n      <td>7.0</td>\n      <td>0.532860</td>\n    </tr>\n    <tr>\n      <th>2</th>\n      <td>37.0</td>\n      <td>female</td>\n      <td>Employee</td>\n      <td>Bandung</td>\n      <td>6.637625e+06</td>\n      <td>1.0</td>\n      <td>0.0</td>\n      <td>46.321533</td>\n      <td>154.599388</td>\n      <td>Moonsilk</td>\n      <td>0.0</td>\n      <td>Bachelor Degree</td>\n      <td>4.0</td>\n      <td>0.418442</td>\n    </tr>\n    <tr>\n      <th>3</th>\n      <td>36.0</td>\n      <td>female</td>\n      <td>Jobless</td>\n      <td>Palu</td>\n      <td>3.624871e+06</td>\n      <td>1.0</td>\n      <td>0.0</td>\n      <td>51.539781</td>\n      <td>167.340481</td>\n      <td>Deadbuoy</td>\n      <td>1.0</td>\n      <td>Elementary School</td>\n      <td>9.0</td>\n      <td>0.804050</td>\n    </tr>\n    <tr>\n      <th>4</th>\n      <td>38.0</td>\n      <td>male</td>\n      <td>Unspecified</td>\n      <td>Palangkaraya</td>\n      <td>6.031808e+06</td>\n      <td>1.0</td>\n      <td>0.0</td>\n      <td>60.726909</td>\n      <td>165.514773</td>\n      <td>Merpati</td>\n      <td>1.0</td>\n      <td>Magister Degree</td>\n      <td>1.0</td>\n      <td>0.368371</td>\n    </tr>\n    <tr>\n      <th>...</th>\n      <td>...</td>\n      <td>...</td>\n      <td>...</td>\n      <td>...</td>\n      <td>...</td>\n      <td>...</td>\n      <td>...</td>\n      <td>...</td>\n      <td>...</td>\n      <td>...</td>\n      <td>...</td>\n      <td>...</td>\n      <td>...</td>\n      <td>...</td>\n    </tr>\n    <tr>\n      <th>7830</th>\n      <td>52.0</td>\n      <td>male</td>\n      <td>Government Employee</td>\n      <td>Manokwari</td>\n      <td>4.286318e+06</td>\n      <td>1.0</td>\n      <td>0.0</td>\n      <td>46.893444</td>\n      <td>169.880171</td>\n      <td>Deadbuoy</td>\n      <td>1.0</td>\n      <td>Senior High School</td>\n      <td>2.0</td>\n      <td>0.773141</td>\n    </tr>\n    <tr>\n      <th>7831</th>\n      <td>45.0</td>\n      <td>male</td>\n      <td>Government Employee</td>\n      <td>Tanjungselor</td>\n      <td>8.646146e+06</td>\n      <td>1.0</td>\n      <td>0.0</td>\n      <td>53.878714</td>\n      <td>170.122857</td>\n      <td>Pantone</td>\n      <td>0.0</td>\n      <td>Bachelor Degree</td>\n      <td>2.0</td>\n      <td>0.604058</td>\n    </tr>\n    <tr>\n      <th>7832</th>\n      <td>24.0</td>\n      <td>male</td>\n      <td>Government Employee</td>\n      <td>Jambi</td>\n      <td>6.850066e+06</td>\n      <td>1.0</td>\n      <td>0.0</td>\n      <td>64.171294</td>\n      <td>161.384804</td>\n      <td>Moonsilk</td>\n      <td>0.0</td>\n      <td>Senior High School</td>\n      <td>8.0</td>\n      <td>0.502413</td>\n    </tr>\n    <tr>\n      <th>7833</th>\n      <td>29.0</td>\n      <td>male</td>\n      <td>Employee</td>\n      <td>Palangkaraya</td>\n      <td>1.204960e+07</td>\n      <td>1.0</td>\n      <td>0.0</td>\n      <td>55.217752</td>\n      <td>179.602130</td>\n      <td>Pantone</td>\n      <td>1.0</td>\n      <td>Senior High School</td>\n      <td>6.0</td>\n      <td>0.562664</td>\n    </tr>\n    <tr>\n      <th>7834</th>\n      <td>42.0</td>\n      <td>female</td>\n      <td>Employee</td>\n      <td>Kendari</td>\n      <td>4.888239e+06</td>\n      <td>1.0</td>\n      <td>0.0</td>\n      <td>52.699072</td>\n      <td>186.913795</td>\n      <td>Deadbuoy</td>\n      <td>0.0</td>\n      <td>Magister Degree</td>\n      <td>2.0</td>\n      <td>0.273705</td>\n    </tr>\n  </tbody>\n</table>\n<p>7757 rows × 14 columns</p>\n</div>"
     },
     "execution_count": 641,
     "metadata": {},
     "output_type": "execute_result"
    }
   ],
   "source": [
    "bproDF"
   ],
   "metadata": {
    "collapsed": false,
    "ExecuteTime": {
     "end_time": "2024-03-11T02:12:55.762932Z",
     "start_time": "2024-03-11T02:12:55.644569400Z"
    }
   },
   "id": "f62b4d8b41081c52",
   "execution_count": 641
  },
  {
   "cell_type": "code",
   "outputs": [],
   "source": [
    "cor_bald=bproDF.corr(numeric_only=True)"
   ],
   "metadata": {
    "collapsed": false,
    "ExecuteTime": {
     "end_time": "2024-03-11T02:12:55.849768100Z",
     "start_time": "2024-03-11T02:12:55.751362500Z"
    }
   },
   "id": "325ee33d6e0fff2c",
   "execution_count": 642
  },
  {
   "cell_type": "code",
   "outputs": [
    {
     "data": {
      "text/plain": "                    age    salary  is_married  is_hereditary    weight  \\\nage            1.000000  0.010703    0.347367      -0.011338  0.002739   \nsalary         0.010703  1.000000   -0.013812      -0.003866  0.009862   \nis_married     0.347367 -0.013812    1.000000      -0.003135  0.006382   \nis_hereditary -0.011338 -0.003866   -0.003135       1.000000  0.006703   \nweight         0.002739  0.009862    0.006382       0.006703  1.000000   \nheight        -0.006100  0.013850    0.008667       0.003332  0.389920   \nis_smoker      0.007164 -0.005561   -0.004346      -0.014558 -0.001635   \nstress        -0.026499  0.015103   -0.015405      -0.003764 -0.012359   \nbald_prob      0.351822  0.058254    0.124883       0.437696 -0.000685   \n\n                 height  is_smoker    stress  bald_prob  \nage           -0.006100   0.007164 -0.026499   0.351822  \nsalary         0.013850  -0.005561  0.015103   0.058254  \nis_married     0.008667  -0.004346 -0.015405   0.124883  \nis_hereditary  0.003332  -0.014558 -0.003764   0.437696  \nweight         0.389920  -0.001635 -0.012359  -0.000685  \nheight         1.000000  -0.000818  0.005741   0.006200  \nis_smoker     -0.000818   1.000000 -0.013842   0.261128  \nstress         0.005741  -0.013842  1.000000   0.288255  \nbald_prob      0.006200   0.261128  0.288255   1.000000  ",
      "text/html": "<div>\n<style scoped>\n    .dataframe tbody tr th:only-of-type {\n        vertical-align: middle;\n    }\n\n    .dataframe tbody tr th {\n        vertical-align: top;\n    }\n\n    .dataframe thead th {\n        text-align: right;\n    }\n</style>\n<table border=\"1\" class=\"dataframe\">\n  <thead>\n    <tr style=\"text-align: right;\">\n      <th></th>\n      <th>age</th>\n      <th>salary</th>\n      <th>is_married</th>\n      <th>is_hereditary</th>\n      <th>weight</th>\n      <th>height</th>\n      <th>is_smoker</th>\n      <th>stress</th>\n      <th>bald_prob</th>\n    </tr>\n  </thead>\n  <tbody>\n    <tr>\n      <th>age</th>\n      <td>1.000000</td>\n      <td>0.010703</td>\n      <td>0.347367</td>\n      <td>-0.011338</td>\n      <td>0.002739</td>\n      <td>-0.006100</td>\n      <td>0.007164</td>\n      <td>-0.026499</td>\n      <td>0.351822</td>\n    </tr>\n    <tr>\n      <th>salary</th>\n      <td>0.010703</td>\n      <td>1.000000</td>\n      <td>-0.013812</td>\n      <td>-0.003866</td>\n      <td>0.009862</td>\n      <td>0.013850</td>\n      <td>-0.005561</td>\n      <td>0.015103</td>\n      <td>0.058254</td>\n    </tr>\n    <tr>\n      <th>is_married</th>\n      <td>0.347367</td>\n      <td>-0.013812</td>\n      <td>1.000000</td>\n      <td>-0.003135</td>\n      <td>0.006382</td>\n      <td>0.008667</td>\n      <td>-0.004346</td>\n      <td>-0.015405</td>\n      <td>0.124883</td>\n    </tr>\n    <tr>\n      <th>is_hereditary</th>\n      <td>-0.011338</td>\n      <td>-0.003866</td>\n      <td>-0.003135</td>\n      <td>1.000000</td>\n      <td>0.006703</td>\n      <td>0.003332</td>\n      <td>-0.014558</td>\n      <td>-0.003764</td>\n      <td>0.437696</td>\n    </tr>\n    <tr>\n      <th>weight</th>\n      <td>0.002739</td>\n      <td>0.009862</td>\n      <td>0.006382</td>\n      <td>0.006703</td>\n      <td>1.000000</td>\n      <td>0.389920</td>\n      <td>-0.001635</td>\n      <td>-0.012359</td>\n      <td>-0.000685</td>\n    </tr>\n    <tr>\n      <th>height</th>\n      <td>-0.006100</td>\n      <td>0.013850</td>\n      <td>0.008667</td>\n      <td>0.003332</td>\n      <td>0.389920</td>\n      <td>1.000000</td>\n      <td>-0.000818</td>\n      <td>0.005741</td>\n      <td>0.006200</td>\n    </tr>\n    <tr>\n      <th>is_smoker</th>\n      <td>0.007164</td>\n      <td>-0.005561</td>\n      <td>-0.004346</td>\n      <td>-0.014558</td>\n      <td>-0.001635</td>\n      <td>-0.000818</td>\n      <td>1.000000</td>\n      <td>-0.013842</td>\n      <td>0.261128</td>\n    </tr>\n    <tr>\n      <th>stress</th>\n      <td>-0.026499</td>\n      <td>0.015103</td>\n      <td>-0.015405</td>\n      <td>-0.003764</td>\n      <td>-0.012359</td>\n      <td>0.005741</td>\n      <td>-0.013842</td>\n      <td>1.000000</td>\n      <td>0.288255</td>\n    </tr>\n    <tr>\n      <th>bald_prob</th>\n      <td>0.351822</td>\n      <td>0.058254</td>\n      <td>0.124883</td>\n      <td>0.437696</td>\n      <td>-0.000685</td>\n      <td>0.006200</td>\n      <td>0.261128</td>\n      <td>0.288255</td>\n      <td>1.000000</td>\n    </tr>\n  </tbody>\n</table>\n</div>"
     },
     "execution_count": 643,
     "metadata": {},
     "output_type": "execute_result"
    }
   ],
   "source": [
    "cor_bald"
   ],
   "metadata": {
    "collapsed": false,
    "ExecuteTime": {
     "end_time": "2024-03-11T02:12:55.953645400Z",
     "start_time": "2024-03-11T02:12:55.834053700Z"
    }
   },
   "id": "d94aac4d310b252b",
   "execution_count": 643
  },
  {
   "cell_type": "code",
   "outputs": [
    {
     "data": {
      "text/plain": "<Axes: >"
     },
     "execution_count": 644,
     "metadata": {},
     "output_type": "execute_result"
    }
   ],
   "source": [
    "plt.figure(figsize=(10,10))\n",
    "sns.heatmap(data =cor_bald, annot=True, \n",
    "fmt = '.2f', linewidths=.5, cmap='Blues')"
   ],
   "metadata": {
    "collapsed": false,
    "ExecuteTime": {
     "end_time": "2024-03-11T02:12:56.142016700Z",
     "start_time": "2024-03-11T02:12:55.912616700Z"
    }
   },
   "id": "39bebd4ac941c602",
   "execution_count": 644
  },
  {
   "cell_type": "code",
   "outputs": [
    {
     "data": {
      "text/plain": "Index(['age', 'gender', 'job_role', 'province', 'salary', 'is_married',\n       'is_hereditary', 'weight', 'height', 'shampoo', 'is_smoker',\n       'education', 'stress', 'bald_prob'],\n      dtype='object')"
     },
     "execution_count": 645,
     "metadata": {},
     "output_type": "execute_result"
    }
   ],
   "source": [
    "bproDF.columns"
   ],
   "metadata": {
    "collapsed": false,
    "ExecuteTime": {
     "end_time": "2024-03-11T02:12:56.181867900Z",
     "start_time": "2024-03-11T02:12:56.028713900Z"
    }
   },
   "id": "f09cb4a9d3791038",
   "execution_count": 645
  },
  {
   "cell_type": "code",
   "outputs": [
    {
     "name": "stderr",
     "output_type": "stream",
     "text": [
      "C:\\Users\\kdp\\AppData\\Local\\Temp\\ipykernel_1332\\4893508.py:5: SettingWithCopyWarning: \n",
      "A value is trying to be set on a copy of a slice from a DataFrame.\n",
      "Try using .loc[row_indexer,col_indexer] = value instead\n",
      "\n",
      "See the caveats in the documentation: https://pandas.pydata.org/pandas-docs/stable/user_guide/indexing.html#returning-a-view-versus-a-copy\n",
      "  bproDF['age_range'] = bproDF['age'].apply(lambda x: '0+' if x < 10\n",
      "C:\\Users\\kdp\\AppData\\Local\\Temp\\ipykernel_1332\\4893508.py:16: SettingWithCopyWarning: \n",
      "A value is trying to be set on a copy of a slice from a DataFrame.\n",
      "Try using .loc[row_indexer,col_indexer] = value instead\n",
      "\n",
      "See the caveats in the documentation: https://pandas.pydata.org/pandas-docs/stable/user_guide/indexing.html#returning-a-view-versus-a-copy\n",
      "  bproDF['salary_range'] = bproDF['salary'].apply(lambda x: 'low' if x < 3070000\n",
      "C:\\Users\\kdp\\AppData\\Local\\Temp\\ipykernel_1332\\4893508.py:22: SettingWithCopyWarning: \n",
      "A value is trying to be set on a copy of a slice from a DataFrame.\n",
      "Try using .loc[row_indexer,col_indexer] = value instead\n",
      "\n",
      "See the caveats in the documentation: https://pandas.pydata.org/pandas-docs/stable/user_guide/indexing.html#returning-a-view-versus-a-copy\n",
      "  bproDF['stress_range'] = bproDF['stress'].apply(lambda x: \"Level 1\" if x <= 3\n",
      "C:\\Users\\kdp\\AppData\\Local\\Temp\\ipykernel_1332\\4893508.py:28: SettingWithCopyWarning: \n",
      "A value is trying to be set on a copy of a slice from a DataFrame.\n",
      "Try using .loc[row_indexer,col_indexer] = value instead\n",
      "\n",
      "See the caveats in the documentation: https://pandas.pydata.org/pandas-docs/stable/user_guide/indexing.html#returning-a-view-versus-a-copy\n",
      "  bproDF['probability'] =bproDF['bald_prob'].apply(lambda x: 'Low' if x <= 0.5\n",
      "C:\\Users\\kdp\\AppData\\Local\\Temp\\ipykernel_1332\\4893508.py:32: SettingWithCopyWarning: \n",
      "A value is trying to be set on a copy of a slice from a DataFrame.\n",
      "Try using .loc[row_indexer,col_indexer] = value instead\n",
      "\n",
      "See the caveats in the documentation: https://pandas.pydata.org/pandas-docs/stable/user_guide/indexing.html#returning-a-view-versus-a-copy\n",
      "  bproDF['marriage_status'] = bproDF['is_married'].apply(lambda x: 'Yes' if x == 1 else 'No')\n",
      "C:\\Users\\kdp\\AppData\\Local\\Temp\\ipykernel_1332\\4893508.py:33: SettingWithCopyWarning: \n",
      "A value is trying to be set on a copy of a slice from a DataFrame.\n",
      "Try using .loc[row_indexer,col_indexer] = value instead\n",
      "\n",
      "See the caveats in the documentation: https://pandas.pydata.org/pandas-docs/stable/user_guide/indexing.html#returning-a-view-versus-a-copy\n",
      "  bproDF['smoking'] = bproDF['is_smoker'].apply(lambda x: 'Yes' if x == 1 else 'No')\n",
      "C:\\Users\\kdp\\AppData\\Local\\Temp\\ipykernel_1332\\4893508.py:34: SettingWithCopyWarning: \n",
      "A value is trying to be set on a copy of a slice from a DataFrame.\n",
      "Try using .loc[row_indexer,col_indexer] = value instead\n",
      "\n",
      "See the caveats in the documentation: https://pandas.pydata.org/pandas-docs/stable/user_guide/indexing.html#returning-a-view-versus-a-copy\n",
      "  bproDF['family_hereditary'] = bproDF['is_hereditary'].apply(lambda x: 'Yes' if x == 1 else 'No')\n",
      "C:\\Users\\kdp\\AppData\\Local\\Temp\\ipykernel_1332\\4893508.py:35: SettingWithCopyWarning: \n",
      "A value is trying to be set on a copy of a slice from a DataFrame.\n",
      "Try using .loc[row_indexer,col_indexer] = value instead\n",
      "\n",
      "See the caveats in the documentation: https://pandas.pydata.org/pandas-docs/stable/user_guide/indexing.html#returning-a-view-versus-a-copy\n",
      "  bproDF['BMI']=(bproDF['weight']/bproDF['height'])**2\n",
      "C:\\Users\\kdp\\AppData\\Local\\Temp\\ipykernel_1332\\4893508.py:36: SettingWithCopyWarning: \n",
      "A value is trying to be set on a copy of a slice from a DataFrame.\n",
      "Try using .loc[row_indexer,col_indexer] = value instead\n",
      "\n",
      "See the caveats in the documentation: https://pandas.pydata.org/pandas-docs/stable/user_guide/indexing.html#returning-a-view-versus-a-copy\n",
      "  bproDF['obesity type']=bproDF['BMI'].apply(lambda x:'low weight' if x<18.5 else \"normal weight\" if 18.5<=x<23 else \"high weight\" if 23<=x<25 else \"obesity\" if 25<=x<40 else \"very obesity\")\n"
     ]
    },
    {
     "data": {
      "text/plain": "Index(['age', 'gender', 'job_role', 'province', 'salary', 'is_married',\n       'is_hereditary', 'weight', 'height', 'shampoo', 'is_smoker',\n       'education', 'stress', 'bald_prob', 'age_range', 'salary_range',\n       'stress_range', 'probability', 'marriage_status', 'smoking',\n       'family_hereditary', 'BMI', 'obesity type'],\n      dtype='object')"
     },
     "execution_count": 646,
     "metadata": {},
     "output_type": "execute_result"
    }
   ],
   "source": [
    "\n",
    "df_err = bproDF[bproDF['age'] < 10]\n",
    "bproDF = bproDF[~bproDF['age'].isin(df_err['age'])]\n",
    "\n",
    "\n",
    "bproDF['age_range'] = bproDF['age'].apply(lambda x: '0+' if x < 10\n",
    "                                  else '10+' if 10 <= x < 20\n",
    "                                  else '20+' if 20 <= x < 30\n",
    "                                  else '30+' if 30 <= x < 40\n",
    "                                  else '40+' if 40 <= x < 50\n",
    "                                  else '50+' if 50 <= x < 60\n",
    "                                  else '60+' if 60 <= x < 70\n",
    "                                  else '70+' if 70 <= x < 80\n",
    "                                  else '80+')\n",
    "\n",
    "\n",
    "bproDF['salary_range'] = bproDF['salary'].apply(lambda x: 'low' if x < 3070000\n",
    "                                        else 'middle' if 3070000 <= x < 8000000\n",
    "                                        else 'high') \n",
    "                                        \n",
    "\n",
    "\n",
    "bproDF['stress_range'] = bproDF['stress'].apply(lambda x: \"Level 1\" if x <= 3\n",
    "                                                     else \"Level 2\" if 4 <= x <= 6\n",
    "                                                     else \"Level 3\" if 7 <= x <= 9\n",
    "                                                     else \"Level 4\")\n",
    "\n",
    "\n",
    "bproDF['probability'] =bproDF['bald_prob'].apply(lambda x: 'Low' if x <= 0.5\n",
    "                                        else 'High')\n",
    "\n",
    "\n",
    "bproDF['marriage_status'] = bproDF['is_married'].apply(lambda x: 'Yes' if x == 1 else 'No')\n",
    "bproDF['smoking'] = bproDF['is_smoker'].apply(lambda x: 'Yes' if x == 1 else 'No')\n",
    "bproDF['family_hereditary'] = bproDF['is_hereditary'].apply(lambda x: 'Yes' if x == 1 else 'No')\n",
    "bproDF['BMI']=(bproDF['weight']/bproDF['height'])**2\n",
    "bproDF['obesity type']=bproDF['BMI'].apply(lambda x:'low weight' if x<18.5 else \"normal weight\" if 18.5<=x<23 else \"high weight\" if 23<=x<25 else \"obesity\" if 25<=x<40 else \"very obesity\")\n",
    "                                             \n",
    "                                               \n",
    "                                               \n",
    "                                              \n",
    "\n",
    "bproDF.columns"
   ],
   "metadata": {
    "collapsed": false,
    "ExecuteTime": {
     "end_time": "2024-03-11T02:12:56.334850300Z",
     "start_time": "2024-03-11T02:12:56.173580400Z"
    }
   },
   "id": "3cf7057418648ad0",
   "execution_count": 646
  },
  {
   "cell_type": "code",
   "outputs": [
    {
     "name": "stdout",
     "output_type": "stream",
     "text": [
      "<class 'pandas.core.frame.DataFrame'>\n",
      "Index: 7750 entries, 0 to 7834\n",
      "Data columns (total 23 columns):\n",
      " #   Column             Non-Null Count  Dtype  \n",
      "---  ------             --------------  -----  \n",
      " 0   age                7750 non-null   float64\n",
      " 1   gender             7750 non-null   object \n",
      " 2   job_role           7750 non-null   object \n",
      " 3   province           7750 non-null   object \n",
      " 4   salary             7750 non-null   float64\n",
      " 5   is_married         7750 non-null   float64\n",
      " 6   is_hereditary      7750 non-null   float64\n",
      " 7   weight             7750 non-null   float64\n",
      " 8   height             7750 non-null   float64\n",
      " 9   shampoo            7750 non-null   object \n",
      " 10  is_smoker          7750 non-null   float64\n",
      " 11  education          7750 non-null   object \n",
      " 12  stress             7750 non-null   float64\n",
      " 13  bald_prob          7750 non-null   float64\n",
      " 14  age_range          7750 non-null   object \n",
      " 15  salary_range       7750 non-null   object \n",
      " 16  stress_range       7750 non-null   object \n",
      " 17  probability        7750 non-null   object \n",
      " 18  marriage_status    7750 non-null   object \n",
      " 19  smoking            7750 non-null   object \n",
      " 20  family_hereditary  7750 non-null   object \n",
      " 21  BMI                7750 non-null   float64\n",
      " 22  obesity type       7750 non-null   object \n",
      "dtypes: float64(10), object(13)\n",
      "memory usage: 1.4+ MB\n"
     ]
    }
   ],
   "source": [
    "bproDF.info()"
   ],
   "metadata": {
    "collapsed": false,
    "ExecuteTime": {
     "end_time": "2024-03-11T02:12:56.378131300Z",
     "start_time": "2024-03-11T02:12:56.252825100Z"
    }
   },
   "id": "219f5fa781f74145",
   "execution_count": 647
  },
  {
   "cell_type": "code",
   "outputs": [],
   "source": [],
   "metadata": {
    "collapsed": false,
    "ExecuteTime": {
     "end_time": "2024-03-11T02:12:56.496753200Z",
     "start_time": "2024-03-11T02:12:56.360314500Z"
    }
   },
   "id": "313d443c4dd8da55",
   "execution_count": 647
  },
  {
   "cell_type": "code",
   "outputs": [
    {
     "data": {
      "text/plain": "                    age    salary  is_married  is_hereditary    weight  \\\nage            1.000000  0.011377    0.335560      -0.012923  0.003425   \nsalary         0.011377  1.000000   -0.012801      -0.003772  0.009982   \nis_married     0.335560 -0.012801    1.000000      -0.006400  0.007821   \nis_hereditary -0.012923 -0.003772   -0.006400       1.000000  0.006798   \nweight         0.003425  0.009982    0.007821       0.006798  1.000000   \nheight        -0.005570  0.014072    0.010043       0.003418  0.389833   \nis_smoker      0.008551 -0.005680   -0.001654      -0.014366 -0.001583   \nstress        -0.027253  0.014862   -0.016736      -0.003837 -0.012058   \nbald_prob      0.351014  0.058547    0.121769       0.437712 -0.000390   \nBMI            0.008295  0.002315    0.006717       0.005687  0.922347   \n\n                 height  is_smoker    stress  bald_prob       BMI  \nage           -0.005570   0.008551 -0.027253   0.351014  0.008295  \nsalary         0.014072  -0.005680  0.014862   0.058547  0.002315  \nis_married     0.010043  -0.001654 -0.016736   0.121769  0.006717  \nis_hereditary  0.003418  -0.014366 -0.003837   0.437712  0.005687  \nweight         0.389833  -0.001583 -0.012058  -0.000390  0.922347  \nheight         1.000000  -0.001122  0.005670   0.005765  0.022041  \nis_smoker     -0.001122   1.000000 -0.013973   0.261299 -0.001942  \nstress         0.005670  -0.013973  1.000000   0.287893 -0.015880  \nbald_prob      0.005765   0.261299  0.287893   1.000000 -0.001859  \nBMI            0.022041  -0.001942 -0.015880  -0.001859  1.000000  ",
      "text/html": "<div>\n<style scoped>\n    .dataframe tbody tr th:only-of-type {\n        vertical-align: middle;\n    }\n\n    .dataframe tbody tr th {\n        vertical-align: top;\n    }\n\n    .dataframe thead th {\n        text-align: right;\n    }\n</style>\n<table border=\"1\" class=\"dataframe\">\n  <thead>\n    <tr style=\"text-align: right;\">\n      <th></th>\n      <th>age</th>\n      <th>salary</th>\n      <th>is_married</th>\n      <th>is_hereditary</th>\n      <th>weight</th>\n      <th>height</th>\n      <th>is_smoker</th>\n      <th>stress</th>\n      <th>bald_prob</th>\n      <th>BMI</th>\n    </tr>\n  </thead>\n  <tbody>\n    <tr>\n      <th>age</th>\n      <td>1.000000</td>\n      <td>0.011377</td>\n      <td>0.335560</td>\n      <td>-0.012923</td>\n      <td>0.003425</td>\n      <td>-0.005570</td>\n      <td>0.008551</td>\n      <td>-0.027253</td>\n      <td>0.351014</td>\n      <td>0.008295</td>\n    </tr>\n    <tr>\n      <th>salary</th>\n      <td>0.011377</td>\n      <td>1.000000</td>\n      <td>-0.012801</td>\n      <td>-0.003772</td>\n      <td>0.009982</td>\n      <td>0.014072</td>\n      <td>-0.005680</td>\n      <td>0.014862</td>\n      <td>0.058547</td>\n      <td>0.002315</td>\n    </tr>\n    <tr>\n      <th>is_married</th>\n      <td>0.335560</td>\n      <td>-0.012801</td>\n      <td>1.000000</td>\n      <td>-0.006400</td>\n      <td>0.007821</td>\n      <td>0.010043</td>\n      <td>-0.001654</td>\n      <td>-0.016736</td>\n      <td>0.121769</td>\n      <td>0.006717</td>\n    </tr>\n    <tr>\n      <th>is_hereditary</th>\n      <td>-0.012923</td>\n      <td>-0.003772</td>\n      <td>-0.006400</td>\n      <td>1.000000</td>\n      <td>0.006798</td>\n      <td>0.003418</td>\n      <td>-0.014366</td>\n      <td>-0.003837</td>\n      <td>0.437712</td>\n      <td>0.005687</td>\n    </tr>\n    <tr>\n      <th>weight</th>\n      <td>0.003425</td>\n      <td>0.009982</td>\n      <td>0.007821</td>\n      <td>0.006798</td>\n      <td>1.000000</td>\n      <td>0.389833</td>\n      <td>-0.001583</td>\n      <td>-0.012058</td>\n      <td>-0.000390</td>\n      <td>0.922347</td>\n    </tr>\n    <tr>\n      <th>height</th>\n      <td>-0.005570</td>\n      <td>0.014072</td>\n      <td>0.010043</td>\n      <td>0.003418</td>\n      <td>0.389833</td>\n      <td>1.000000</td>\n      <td>-0.001122</td>\n      <td>0.005670</td>\n      <td>0.005765</td>\n      <td>0.022041</td>\n    </tr>\n    <tr>\n      <th>is_smoker</th>\n      <td>0.008551</td>\n      <td>-0.005680</td>\n      <td>-0.001654</td>\n      <td>-0.014366</td>\n      <td>-0.001583</td>\n      <td>-0.001122</td>\n      <td>1.000000</td>\n      <td>-0.013973</td>\n      <td>0.261299</td>\n      <td>-0.001942</td>\n    </tr>\n    <tr>\n      <th>stress</th>\n      <td>-0.027253</td>\n      <td>0.014862</td>\n      <td>-0.016736</td>\n      <td>-0.003837</td>\n      <td>-0.012058</td>\n      <td>0.005670</td>\n      <td>-0.013973</td>\n      <td>1.000000</td>\n      <td>0.287893</td>\n      <td>-0.015880</td>\n    </tr>\n    <tr>\n      <th>bald_prob</th>\n      <td>0.351014</td>\n      <td>0.058547</td>\n      <td>0.121769</td>\n      <td>0.437712</td>\n      <td>-0.000390</td>\n      <td>0.005765</td>\n      <td>0.261299</td>\n      <td>0.287893</td>\n      <td>1.000000</td>\n      <td>-0.001859</td>\n    </tr>\n    <tr>\n      <th>BMI</th>\n      <td>0.008295</td>\n      <td>0.002315</td>\n      <td>0.006717</td>\n      <td>0.005687</td>\n      <td>0.922347</td>\n      <td>0.022041</td>\n      <td>-0.001942</td>\n      <td>-0.015880</td>\n      <td>-0.001859</td>\n      <td>1.000000</td>\n    </tr>\n  </tbody>\n</table>\n</div>"
     },
     "execution_count": 648,
     "metadata": {},
     "output_type": "execute_result"
    }
   ],
   "source": [
    "bproDF.corr(numeric_only=True)"
   ],
   "metadata": {
    "collapsed": false,
    "ExecuteTime": {
     "end_time": "2024-03-11T02:12:56.555199900Z",
     "start_time": "2024-03-11T02:12:56.483570Z"
    }
   },
   "id": "7e4f06d23d8500f1",
   "execution_count": 648
  },
  {
   "cell_type": "code",
   "outputs": [
    {
     "data": {
      "text/plain": "                    age    salary  is_married  is_hereditary    weight  \\\nage            1.000000 -0.001310    0.238853      -0.010720  0.003286   \nsalary        -0.001310  1.000000   -0.008653       0.002579  0.006602   \nis_married     0.238853 -0.008653    1.000000      -0.006400  0.002722   \nis_hereditary -0.010720  0.002579   -0.006400       1.000000  0.008158   \nweight         0.003286  0.006602    0.002722       0.008158  1.000000   \nheight        -0.003074  0.011045    0.008960       0.004979  0.335645   \nis_smoker      0.008905 -0.004560   -0.001654      -0.014366  0.003107   \nstress        -0.024912  0.018101   -0.016563      -0.003599 -0.017302   \nbald_prob      0.362501  0.049189    0.122046       0.428164  0.002086   \nBMI            0.004180  0.001502   -0.002011       0.005381  0.887862   \n\n                 height  is_smoker    stress  bald_prob       BMI  \nage           -0.003074   0.008905 -0.024912   0.362501  0.004180  \nsalary         0.011045  -0.004560  0.018101   0.049189  0.001502  \nis_married     0.008960  -0.001654 -0.016563   0.122046 -0.002011  \nis_hereditary  0.004979  -0.014366 -0.003599   0.428164  0.005381  \nweight         0.335645   0.003107 -0.017302   0.002086  0.887862  \nheight         1.000000  -0.000161  0.006889   0.009497 -0.087636  \nis_smoker     -0.000161   1.000000 -0.013624   0.263648  0.006357  \nstress         0.006889  -0.013624  1.000000   0.286831 -0.019221  \nbald_prob      0.009497   0.263648  0.286831   1.000000 -0.002594  \nBMI           -0.087636   0.006357 -0.019221  -0.002594  1.000000  ",
      "text/html": "<div>\n<style scoped>\n    .dataframe tbody tr th:only-of-type {\n        vertical-align: middle;\n    }\n\n    .dataframe tbody tr th {\n        vertical-align: top;\n    }\n\n    .dataframe thead th {\n        text-align: right;\n    }\n</style>\n<table border=\"1\" class=\"dataframe\">\n  <thead>\n    <tr style=\"text-align: right;\">\n      <th></th>\n      <th>age</th>\n      <th>salary</th>\n      <th>is_married</th>\n      <th>is_hereditary</th>\n      <th>weight</th>\n      <th>height</th>\n      <th>is_smoker</th>\n      <th>stress</th>\n      <th>bald_prob</th>\n      <th>BMI</th>\n    </tr>\n  </thead>\n  <tbody>\n    <tr>\n      <th>age</th>\n      <td>1.000000</td>\n      <td>-0.001310</td>\n      <td>0.238853</td>\n      <td>-0.010720</td>\n      <td>0.003286</td>\n      <td>-0.003074</td>\n      <td>0.008905</td>\n      <td>-0.024912</td>\n      <td>0.362501</td>\n      <td>0.004180</td>\n    </tr>\n    <tr>\n      <th>salary</th>\n      <td>-0.001310</td>\n      <td>1.000000</td>\n      <td>-0.008653</td>\n      <td>0.002579</td>\n      <td>0.006602</td>\n      <td>0.011045</td>\n      <td>-0.004560</td>\n      <td>0.018101</td>\n      <td>0.049189</td>\n      <td>0.001502</td>\n    </tr>\n    <tr>\n      <th>is_married</th>\n      <td>0.238853</td>\n      <td>-0.008653</td>\n      <td>1.000000</td>\n      <td>-0.006400</td>\n      <td>0.002722</td>\n      <td>0.008960</td>\n      <td>-0.001654</td>\n      <td>-0.016563</td>\n      <td>0.122046</td>\n      <td>-0.002011</td>\n    </tr>\n    <tr>\n      <th>is_hereditary</th>\n      <td>-0.010720</td>\n      <td>0.002579</td>\n      <td>-0.006400</td>\n      <td>1.000000</td>\n      <td>0.008158</td>\n      <td>0.004979</td>\n      <td>-0.014366</td>\n      <td>-0.003599</td>\n      <td>0.428164</td>\n      <td>0.005381</td>\n    </tr>\n    <tr>\n      <th>weight</th>\n      <td>0.003286</td>\n      <td>0.006602</td>\n      <td>0.002722</td>\n      <td>0.008158</td>\n      <td>1.000000</td>\n      <td>0.335645</td>\n      <td>0.003107</td>\n      <td>-0.017302</td>\n      <td>0.002086</td>\n      <td>0.887862</td>\n    </tr>\n    <tr>\n      <th>height</th>\n      <td>-0.003074</td>\n      <td>0.011045</td>\n      <td>0.008960</td>\n      <td>0.004979</td>\n      <td>0.335645</td>\n      <td>1.000000</td>\n      <td>-0.000161</td>\n      <td>0.006889</td>\n      <td>0.009497</td>\n      <td>-0.087636</td>\n    </tr>\n    <tr>\n      <th>is_smoker</th>\n      <td>0.008905</td>\n      <td>-0.004560</td>\n      <td>-0.001654</td>\n      <td>-0.014366</td>\n      <td>0.003107</td>\n      <td>-0.000161</td>\n      <td>1.000000</td>\n      <td>-0.013624</td>\n      <td>0.263648</td>\n      <td>0.006357</td>\n    </tr>\n    <tr>\n      <th>stress</th>\n      <td>-0.024912</td>\n      <td>0.018101</td>\n      <td>-0.016563</td>\n      <td>-0.003599</td>\n      <td>-0.017302</td>\n      <td>0.006889</td>\n      <td>-0.013624</td>\n      <td>1.000000</td>\n      <td>0.286831</td>\n      <td>-0.019221</td>\n    </tr>\n    <tr>\n      <th>bald_prob</th>\n      <td>0.362501</td>\n      <td>0.049189</td>\n      <td>0.122046</td>\n      <td>0.428164</td>\n      <td>0.002086</td>\n      <td>0.009497</td>\n      <td>0.263648</td>\n      <td>0.286831</td>\n      <td>1.000000</td>\n      <td>-0.002594</td>\n    </tr>\n    <tr>\n      <th>BMI</th>\n      <td>0.004180</td>\n      <td>0.001502</td>\n      <td>-0.002011</td>\n      <td>0.005381</td>\n      <td>0.887862</td>\n      <td>-0.087636</td>\n      <td>0.006357</td>\n      <td>-0.019221</td>\n      <td>-0.002594</td>\n      <td>1.000000</td>\n    </tr>\n  </tbody>\n</table>\n</div>"
     },
     "execution_count": 649,
     "metadata": {},
     "output_type": "execute_result"
    }
   ],
   "source": [
    "bproDF.corr(numeric_only=True,method='spearman')"
   ],
   "metadata": {
    "collapsed": false,
    "ExecuteTime": {
     "end_time": "2024-03-11T02:12:56.655609Z",
     "start_time": "2024-03-11T02:12:56.536479800Z"
    }
   },
   "id": "634d2cf92fb19c8b",
   "execution_count": 649
  },
  {
   "cell_type": "code",
   "outputs": [
    {
     "data": {
      "text/plain": "                    age    salary  is_married  is_hereditary    weight  \\\nage            1.000000 -0.000945    0.197828      -0.008879  0.002257   \nsalary        -0.000945  1.000000   -0.007066       0.002106  0.004357   \nis_married     0.197828 -0.007066    1.000000      -0.006400  0.002223   \nis_hereditary -0.008879  0.002106   -0.006400       1.000000  0.006662   \nweight         0.002257  0.004357    0.002223       0.006662  1.000000   \nheight        -0.002099  0.007304    0.007316       0.004065  0.228012   \nis_smoker      0.007376 -0.003724   -0.001654      -0.014366  0.002537   \nstress        -0.017694  0.012696   -0.014184      -0.003083 -0.012092   \nbald_prob      0.249344  0.032834    0.099664       0.349645  0.001439   \nBMI            0.002813  0.000916   -0.001642       0.004394  0.709994   \n\n                 height  is_smoker    stress  bald_prob       BMI  \nage           -0.002099   0.007376 -0.017694   0.249344  0.002813  \nsalary         0.007304  -0.003724  0.012696   0.032834  0.000916  \nis_married     0.007316  -0.001654 -0.014184   0.099664 -0.001642  \nis_hereditary  0.004065  -0.014366 -0.003083   0.349645  0.004394  \nweight         0.228012   0.002537 -0.012092   0.001439  0.709994  \nheight         1.000000  -0.000131  0.004796   0.006333 -0.062030  \nis_smoker     -0.000131   1.000000 -0.011667   0.215299  0.005191  \nstress         0.004796  -0.011667  1.000000   0.201877 -0.013483  \nbald_prob      0.006333   0.215299  0.201877   1.000000 -0.001674  \nBMI           -0.062030   0.005191 -0.013483  -0.001674  1.000000  ",
      "text/html": "<div>\n<style scoped>\n    .dataframe tbody tr th:only-of-type {\n        vertical-align: middle;\n    }\n\n    .dataframe tbody tr th {\n        vertical-align: top;\n    }\n\n    .dataframe thead th {\n        text-align: right;\n    }\n</style>\n<table border=\"1\" class=\"dataframe\">\n  <thead>\n    <tr style=\"text-align: right;\">\n      <th></th>\n      <th>age</th>\n      <th>salary</th>\n      <th>is_married</th>\n      <th>is_hereditary</th>\n      <th>weight</th>\n      <th>height</th>\n      <th>is_smoker</th>\n      <th>stress</th>\n      <th>bald_prob</th>\n      <th>BMI</th>\n    </tr>\n  </thead>\n  <tbody>\n    <tr>\n      <th>age</th>\n      <td>1.000000</td>\n      <td>-0.000945</td>\n      <td>0.197828</td>\n      <td>-0.008879</td>\n      <td>0.002257</td>\n      <td>-0.002099</td>\n      <td>0.007376</td>\n      <td>-0.017694</td>\n      <td>0.249344</td>\n      <td>0.002813</td>\n    </tr>\n    <tr>\n      <th>salary</th>\n      <td>-0.000945</td>\n      <td>1.000000</td>\n      <td>-0.007066</td>\n      <td>0.002106</td>\n      <td>0.004357</td>\n      <td>0.007304</td>\n      <td>-0.003724</td>\n      <td>0.012696</td>\n      <td>0.032834</td>\n      <td>0.000916</td>\n    </tr>\n    <tr>\n      <th>is_married</th>\n      <td>0.197828</td>\n      <td>-0.007066</td>\n      <td>1.000000</td>\n      <td>-0.006400</td>\n      <td>0.002223</td>\n      <td>0.007316</td>\n      <td>-0.001654</td>\n      <td>-0.014184</td>\n      <td>0.099664</td>\n      <td>-0.001642</td>\n    </tr>\n    <tr>\n      <th>is_hereditary</th>\n      <td>-0.008879</td>\n      <td>0.002106</td>\n      <td>-0.006400</td>\n      <td>1.000000</td>\n      <td>0.006662</td>\n      <td>0.004065</td>\n      <td>-0.014366</td>\n      <td>-0.003083</td>\n      <td>0.349645</td>\n      <td>0.004394</td>\n    </tr>\n    <tr>\n      <th>weight</th>\n      <td>0.002257</td>\n      <td>0.004357</td>\n      <td>0.002223</td>\n      <td>0.006662</td>\n      <td>1.000000</td>\n      <td>0.228012</td>\n      <td>0.002537</td>\n      <td>-0.012092</td>\n      <td>0.001439</td>\n      <td>0.709994</td>\n    </tr>\n    <tr>\n      <th>height</th>\n      <td>-0.002099</td>\n      <td>0.007304</td>\n      <td>0.007316</td>\n      <td>0.004065</td>\n      <td>0.228012</td>\n      <td>1.000000</td>\n      <td>-0.000131</td>\n      <td>0.004796</td>\n      <td>0.006333</td>\n      <td>-0.062030</td>\n    </tr>\n    <tr>\n      <th>is_smoker</th>\n      <td>0.007376</td>\n      <td>-0.003724</td>\n      <td>-0.001654</td>\n      <td>-0.014366</td>\n      <td>0.002537</td>\n      <td>-0.000131</td>\n      <td>1.000000</td>\n      <td>-0.011667</td>\n      <td>0.215299</td>\n      <td>0.005191</td>\n    </tr>\n    <tr>\n      <th>stress</th>\n      <td>-0.017694</td>\n      <td>0.012696</td>\n      <td>-0.014184</td>\n      <td>-0.003083</td>\n      <td>-0.012092</td>\n      <td>0.004796</td>\n      <td>-0.011667</td>\n      <td>1.000000</td>\n      <td>0.201877</td>\n      <td>-0.013483</td>\n    </tr>\n    <tr>\n      <th>bald_prob</th>\n      <td>0.249344</td>\n      <td>0.032834</td>\n      <td>0.099664</td>\n      <td>0.349645</td>\n      <td>0.001439</td>\n      <td>0.006333</td>\n      <td>0.215299</td>\n      <td>0.201877</td>\n      <td>1.000000</td>\n      <td>-0.001674</td>\n    </tr>\n    <tr>\n      <th>BMI</th>\n      <td>0.002813</td>\n      <td>0.000916</td>\n      <td>-0.001642</td>\n      <td>0.004394</td>\n      <td>0.709994</td>\n      <td>-0.062030</td>\n      <td>0.005191</td>\n      <td>-0.013483</td>\n      <td>-0.001674</td>\n      <td>1.000000</td>\n    </tr>\n  </tbody>\n</table>\n</div>"
     },
     "execution_count": 650,
     "metadata": {},
     "output_type": "execute_result"
    }
   ],
   "source": [
    "bproDF.corr(numeric_only=True,method='kendall')"
   ],
   "metadata": {
    "collapsed": false,
    "ExecuteTime": {
     "end_time": "2024-03-11T02:12:56.881204100Z",
     "start_time": "2024-03-11T02:12:56.630214600Z"
    }
   },
   "id": "cfe16a85fffd92e7",
   "execution_count": 650
  },
  {
   "cell_type": "code",
   "outputs": [],
   "source": [
    "#BMI 와 탈모 간의 상관관계"
   ],
   "metadata": {
    "collapsed": false,
    "ExecuteTime": {
     "end_time": "2024-03-11T02:12:56.902450Z",
     "start_time": "2024-03-11T02:12:56.719003600Z"
    }
   },
   "id": "396d86f03a48c99f",
   "execution_count": 651
  },
  {
   "cell_type": "code",
   "outputs": [],
   "source": [
    "corr_BMI = bproDF['bald_prob'].corr(bproDF['BMI'], method='pearson')"
   ],
   "metadata": {
    "collapsed": false,
    "ExecuteTime": {
     "end_time": "2024-03-11T02:12:57.078438200Z",
     "start_time": "2024-03-11T02:12:56.887728900Z"
    }
   },
   "id": "f67e84647e111ce7",
   "execution_count": 652
  },
  {
   "cell_type": "code",
   "outputs": [
    {
     "data": {
      "text/plain": "       age  gender             job_role      province        salary  \\\n0     27.0  female  Government Employee      Bengkulu  7.957453e+06   \n1     53.0  female  Government Employee       Bandung  7.633003e+06   \n2     37.0  female             Employee       Bandung  6.637625e+06   \n3     36.0  female              Jobless          Palu  3.624871e+06   \n4     38.0    male          Unspecified  Palangkaraya  6.031808e+06   \n...    ...     ...                  ...           ...           ...   \n7830  52.0    male  Government Employee     Manokwari  4.286318e+06   \n7831  45.0    male  Government Employee  Tanjungselor  8.646146e+06   \n7832  24.0    male  Government Employee         Jambi  6.850066e+06   \n7833  29.0    male             Employee  Palangkaraya  1.204960e+07   \n7834  42.0  female             Employee       Kendari  4.888239e+06   \n\n      is_married  is_hereditary     weight      height   shampoo  ...  \\\n0            1.0            0.0  54.315053  170.428542   Pantone  ...   \n1            1.0            0.0  72.873404  165.530097   Pantone  ...   \n2            1.0            0.0  46.321533  154.599388  Moonsilk  ...   \n3            1.0            0.0  51.539781  167.340481  Deadbuoy  ...   \n4            1.0            0.0  60.726909  165.514773   Merpati  ...   \n...          ...            ...        ...         ...       ...  ...   \n7830         1.0            0.0  46.893444  169.880171  Deadbuoy  ...   \n7831         1.0            0.0  53.878714  170.122857   Pantone  ...   \n7832         1.0            0.0  64.171294  161.384804  Moonsilk  ...   \n7833         1.0            0.0  55.217752  179.602130   Pantone  ...   \n7834         1.0            0.0  52.699072  186.913795  Deadbuoy  ...   \n\n      bald_prob age_range  salary_range  stress_range probability  \\\n0      0.605974       20+        middle       Level 2        High   \n1      0.532860       50+        middle       Level 3        High   \n2      0.418442       30+        middle       Level 2         Low   \n3      0.804050       30+        middle       Level 3        High   \n4      0.368371       30+        middle       Level 1         Low   \n...         ...       ...           ...           ...         ...   \n7830   0.773141       50+        middle       Level 1        High   \n7831   0.604058       40+          high       Level 1        High   \n7832   0.502413       20+        middle       Level 3        High   \n7833   0.562664       20+          high       Level 2        High   \n7834   0.273705       40+        middle       Level 1         Low   \n\n     marriage_status smoking family_hereditary       BMI obesity type  \n0                Yes     Yes                No  0.101568   low weight  \n1                Yes      No                No  0.193814   low weight  \n2                Yes      No                No  0.089774   low weight  \n3                Yes     Yes                No  0.094860   low weight  \n4                Yes     Yes                No  0.134614   low weight  \n...              ...     ...               ...       ...          ...  \n7830             Yes     Yes                No  0.076197   low weight  \n7831             Yes      No                No  0.100302   low weight  \n7832             Yes      No                No  0.158109   low weight  \n7833             Yes     Yes                No  0.094522   low weight  \n7834             Yes      No                No  0.079492   low weight  \n\n[7750 rows x 23 columns]",
      "text/html": "<div>\n<style scoped>\n    .dataframe tbody tr th:only-of-type {\n        vertical-align: middle;\n    }\n\n    .dataframe tbody tr th {\n        vertical-align: top;\n    }\n\n    .dataframe thead th {\n        text-align: right;\n    }\n</style>\n<table border=\"1\" class=\"dataframe\">\n  <thead>\n    <tr style=\"text-align: right;\">\n      <th></th>\n      <th>age</th>\n      <th>gender</th>\n      <th>job_role</th>\n      <th>province</th>\n      <th>salary</th>\n      <th>is_married</th>\n      <th>is_hereditary</th>\n      <th>weight</th>\n      <th>height</th>\n      <th>shampoo</th>\n      <th>...</th>\n      <th>bald_prob</th>\n      <th>age_range</th>\n      <th>salary_range</th>\n      <th>stress_range</th>\n      <th>probability</th>\n      <th>marriage_status</th>\n      <th>smoking</th>\n      <th>family_hereditary</th>\n      <th>BMI</th>\n      <th>obesity type</th>\n    </tr>\n  </thead>\n  <tbody>\n    <tr>\n      <th>0</th>\n      <td>27.0</td>\n      <td>female</td>\n      <td>Government Employee</td>\n      <td>Bengkulu</td>\n      <td>7.957453e+06</td>\n      <td>1.0</td>\n      <td>0.0</td>\n      <td>54.315053</td>\n      <td>170.428542</td>\n      <td>Pantone</td>\n      <td>...</td>\n      <td>0.605974</td>\n      <td>20+</td>\n      <td>middle</td>\n      <td>Level 2</td>\n      <td>High</td>\n      <td>Yes</td>\n      <td>Yes</td>\n      <td>No</td>\n      <td>0.101568</td>\n      <td>low weight</td>\n    </tr>\n    <tr>\n      <th>1</th>\n      <td>53.0</td>\n      <td>female</td>\n      <td>Government Employee</td>\n      <td>Bandung</td>\n      <td>7.633003e+06</td>\n      <td>1.0</td>\n      <td>0.0</td>\n      <td>72.873404</td>\n      <td>165.530097</td>\n      <td>Pantone</td>\n      <td>...</td>\n      <td>0.532860</td>\n      <td>50+</td>\n      <td>middle</td>\n      <td>Level 3</td>\n      <td>High</td>\n      <td>Yes</td>\n      <td>No</td>\n      <td>No</td>\n      <td>0.193814</td>\n      <td>low weight</td>\n    </tr>\n    <tr>\n      <th>2</th>\n      <td>37.0</td>\n      <td>female</td>\n      <td>Employee</td>\n      <td>Bandung</td>\n      <td>6.637625e+06</td>\n      <td>1.0</td>\n      <td>0.0</td>\n      <td>46.321533</td>\n      <td>154.599388</td>\n      <td>Moonsilk</td>\n      <td>...</td>\n      <td>0.418442</td>\n      <td>30+</td>\n      <td>middle</td>\n      <td>Level 2</td>\n      <td>Low</td>\n      <td>Yes</td>\n      <td>No</td>\n      <td>No</td>\n      <td>0.089774</td>\n      <td>low weight</td>\n    </tr>\n    <tr>\n      <th>3</th>\n      <td>36.0</td>\n      <td>female</td>\n      <td>Jobless</td>\n      <td>Palu</td>\n      <td>3.624871e+06</td>\n      <td>1.0</td>\n      <td>0.0</td>\n      <td>51.539781</td>\n      <td>167.340481</td>\n      <td>Deadbuoy</td>\n      <td>...</td>\n      <td>0.804050</td>\n      <td>30+</td>\n      <td>middle</td>\n      <td>Level 3</td>\n      <td>High</td>\n      <td>Yes</td>\n      <td>Yes</td>\n      <td>No</td>\n      <td>0.094860</td>\n      <td>low weight</td>\n    </tr>\n    <tr>\n      <th>4</th>\n      <td>38.0</td>\n      <td>male</td>\n      <td>Unspecified</td>\n      <td>Palangkaraya</td>\n      <td>6.031808e+06</td>\n      <td>1.0</td>\n      <td>0.0</td>\n      <td>60.726909</td>\n      <td>165.514773</td>\n      <td>Merpati</td>\n      <td>...</td>\n      <td>0.368371</td>\n      <td>30+</td>\n      <td>middle</td>\n      <td>Level 1</td>\n      <td>Low</td>\n      <td>Yes</td>\n      <td>Yes</td>\n      <td>No</td>\n      <td>0.134614</td>\n      <td>low weight</td>\n    </tr>\n    <tr>\n      <th>...</th>\n      <td>...</td>\n      <td>...</td>\n      <td>...</td>\n      <td>...</td>\n      <td>...</td>\n      <td>...</td>\n      <td>...</td>\n      <td>...</td>\n      <td>...</td>\n      <td>...</td>\n      <td>...</td>\n      <td>...</td>\n      <td>...</td>\n      <td>...</td>\n      <td>...</td>\n      <td>...</td>\n      <td>...</td>\n      <td>...</td>\n      <td>...</td>\n      <td>...</td>\n      <td>...</td>\n    </tr>\n    <tr>\n      <th>7830</th>\n      <td>52.0</td>\n      <td>male</td>\n      <td>Government Employee</td>\n      <td>Manokwari</td>\n      <td>4.286318e+06</td>\n      <td>1.0</td>\n      <td>0.0</td>\n      <td>46.893444</td>\n      <td>169.880171</td>\n      <td>Deadbuoy</td>\n      <td>...</td>\n      <td>0.773141</td>\n      <td>50+</td>\n      <td>middle</td>\n      <td>Level 1</td>\n      <td>High</td>\n      <td>Yes</td>\n      <td>Yes</td>\n      <td>No</td>\n      <td>0.076197</td>\n      <td>low weight</td>\n    </tr>\n    <tr>\n      <th>7831</th>\n      <td>45.0</td>\n      <td>male</td>\n      <td>Government Employee</td>\n      <td>Tanjungselor</td>\n      <td>8.646146e+06</td>\n      <td>1.0</td>\n      <td>0.0</td>\n      <td>53.878714</td>\n      <td>170.122857</td>\n      <td>Pantone</td>\n      <td>...</td>\n      <td>0.604058</td>\n      <td>40+</td>\n      <td>high</td>\n      <td>Level 1</td>\n      <td>High</td>\n      <td>Yes</td>\n      <td>No</td>\n      <td>No</td>\n      <td>0.100302</td>\n      <td>low weight</td>\n    </tr>\n    <tr>\n      <th>7832</th>\n      <td>24.0</td>\n      <td>male</td>\n      <td>Government Employee</td>\n      <td>Jambi</td>\n      <td>6.850066e+06</td>\n      <td>1.0</td>\n      <td>0.0</td>\n      <td>64.171294</td>\n      <td>161.384804</td>\n      <td>Moonsilk</td>\n      <td>...</td>\n      <td>0.502413</td>\n      <td>20+</td>\n      <td>middle</td>\n      <td>Level 3</td>\n      <td>High</td>\n      <td>Yes</td>\n      <td>No</td>\n      <td>No</td>\n      <td>0.158109</td>\n      <td>low weight</td>\n    </tr>\n    <tr>\n      <th>7833</th>\n      <td>29.0</td>\n      <td>male</td>\n      <td>Employee</td>\n      <td>Palangkaraya</td>\n      <td>1.204960e+07</td>\n      <td>1.0</td>\n      <td>0.0</td>\n      <td>55.217752</td>\n      <td>179.602130</td>\n      <td>Pantone</td>\n      <td>...</td>\n      <td>0.562664</td>\n      <td>20+</td>\n      <td>high</td>\n      <td>Level 2</td>\n      <td>High</td>\n      <td>Yes</td>\n      <td>Yes</td>\n      <td>No</td>\n      <td>0.094522</td>\n      <td>low weight</td>\n    </tr>\n    <tr>\n      <th>7834</th>\n      <td>42.0</td>\n      <td>female</td>\n      <td>Employee</td>\n      <td>Kendari</td>\n      <td>4.888239e+06</td>\n      <td>1.0</td>\n      <td>0.0</td>\n      <td>52.699072</td>\n      <td>186.913795</td>\n      <td>Deadbuoy</td>\n      <td>...</td>\n      <td>0.273705</td>\n      <td>40+</td>\n      <td>middle</td>\n      <td>Level 1</td>\n      <td>Low</td>\n      <td>Yes</td>\n      <td>No</td>\n      <td>No</td>\n      <td>0.079492</td>\n      <td>low weight</td>\n    </tr>\n  </tbody>\n</table>\n<p>7750 rows × 23 columns</p>\n</div>"
     },
     "execution_count": 653,
     "metadata": {},
     "output_type": "execute_result"
    }
   ],
   "source": [
    "bproDF"
   ],
   "metadata": {
    "collapsed": false,
    "ExecuteTime": {
     "end_time": "2024-03-11T02:12:57.190030400Z",
     "start_time": "2024-03-11T02:12:56.992007400Z"
    }
   },
   "id": "7bf8fcac1500628e",
   "execution_count": 653
  },
  {
   "cell_type": "code",
   "outputs": [],
   "source": [
    "# (3) 기계학습 데이터셋 준비 => 피쳐와 타겟 분리"
   ],
   "metadata": {
    "collapsed": false,
    "ExecuteTime": {
     "end_time": "2024-03-11T02:12:57.287036300Z",
     "start_time": "2024-03-11T02:12:57.146838200Z"
    }
   },
   "id": "a3d366775628516a",
   "execution_count": 654
  },
  {
   "cell_type": "code",
   "outputs": [],
   "source": [
    "#모듈 임포트 \n",
    "from sklearn.model_selection import train_test_split\n",
    "from sklearn.preprocessing import StandardScaler\n",
    "from sklearn.linear_model import LogisticRegression\n",
    "from sklearn.metrics import accuracy_score, precision_score, recall_score,classification_report,confusion_matrix\n",
    "\n",
    "select=['age_range','stress_range','is_married','is_smoker','family_hereditary']"
   ],
   "metadata": {
    "collapsed": false,
    "ExecuteTime": {
     "end_time": "2024-03-11T02:12:57.437601100Z",
     "start_time": "2024-03-11T02:12:57.289094100Z"
    }
   },
   "id": "e98e9f5ecb5b1c41",
   "execution_count": 655
  },
  {
   "cell_type": "code",
   "outputs": [],
   "source": [
    "# 상관관계 없는 피쳐들을 잘 못 상관관계를 나타내는 일이 없도록 dummies 메서드를 사용한다.\n"
   ],
   "metadata": {
    "collapsed": false,
    "ExecuteTime": {
     "end_time": "2024-03-11T02:12:57.548515500Z",
     "start_time": "2024-03-11T02:12:57.421717800Z"
    }
   },
   "id": "7824987bfa5019d4",
   "execution_count": 656
  },
  {
   "cell_type": "code",
   "outputs": [],
   "source": [
    "dummies=pd.get_dummies(bproDF[select])"
   ],
   "metadata": {
    "collapsed": false,
    "ExecuteTime": {
     "end_time": "2024-03-11T02:12:57.600737400Z",
     "start_time": "2024-03-11T02:12:57.517718600Z"
    }
   },
   "id": "6a46b5ac915c8bae",
   "execution_count": 657
  },
  {
   "cell_type": "code",
   "outputs": [],
   "source": [
    "feature=bproDF[['age', 'stress', 'is_married', 'is_smoker','is_hereditary']]\n",
    "target=bproDF['probability']"
   ],
   "metadata": {
    "collapsed": false,
    "ExecuteTime": {
     "end_time": "2024-03-11T02:12:57.691334600Z",
     "start_time": "2024-03-11T02:12:57.603257900Z"
    }
   },
   "id": "a6ada4dfa2d06ec0",
   "execution_count": 658
  },
  {
   "cell_type": "code",
   "outputs": [],
   "source": [
    "# 그래프로 산포도 그려보기\n",
    "def print_feature(nrows, ncols, df, target, features, corrs):\n",
    "    plt.figure(figsize=(12, 8))  # 새로운 그림 생성\n",
    "    \n",
    "    for idx in range(len(features)):\n",
    "        plt.subplot(nrows, ncols, idx + 1)\n",
    "        plt.scatter(df[target], df[features[idx]], label=f'corr:{corrs[idx]:.2f}')\n",
    "        plt.legend()\n",
    "        plt.xlabel(target)\n",
    "        plt.ylabel(features[idx])\n",
    "    \n",
    "    plt.tight_layout()\n",
    "    plt.show()"
   ],
   "metadata": {
    "collapsed": false,
    "ExecuteTime": {
     "end_time": "2024-03-11T02:12:57.777867400Z",
     "start_time": "2024-03-11T02:12:57.675765900Z"
    }
   },
   "id": "bd5b422ee0dbcc74",
   "execution_count": 659
  },
  {
   "cell_type": "code",
   "outputs": [],
   "source": [
    "corrList=bproDF.corr(numeric_only=True)['bald_prob'].to_list()\n"
   ],
   "metadata": {
    "collapsed": false,
    "ExecuteTime": {
     "end_time": "2024-03-11T02:12:57.806284800Z",
     "start_time": "2024-03-11T02:12:57.754253700Z"
    }
   },
   "id": "6b040176e1e44b87",
   "execution_count": 660
  },
  {
   "cell_type": "code",
   "outputs": [
    {
     "data": {
      "text/plain": "[0.3510138530113167,\n 0.05854714538978923,\n 0.12176901772660158,\n 0.43771217794286843,\n -0.00039035393429623025,\n 0.005765177133962315,\n 0.26129872934035864,\n 0.28789267047159944,\n 1.0,\n -0.001858689682609019]"
     },
     "execution_count": 661,
     "metadata": {},
     "output_type": "execute_result"
    }
   ],
   "source": [
    "corrList"
   ],
   "metadata": {
    "collapsed": false,
    "ExecuteTime": {
     "end_time": "2024-03-11T02:12:57.886789100Z",
     "start_time": "2024-03-11T02:12:57.807282600Z"
    }
   },
   "id": "620edd0f3a4193d",
   "execution_count": 661
  },
  {
   "cell_type": "code",
   "outputs": [],
   "source": [
    "# print_feature(10,10,bproDF,target,feature,)"
   ],
   "metadata": {
    "collapsed": false,
    "ExecuteTime": {
     "end_time": "2024-03-11T02:12:57.970759400Z",
     "start_time": "2024-03-11T02:12:57.883492500Z"
    }
   },
   "id": "487269355fc82a96",
   "execution_count": 662
  },
  {
   "cell_type": "code",
   "outputs": [],
   "source": [
    "#트레인과 테스트로 분할\n"
   ],
   "metadata": {
    "collapsed": false,
    "ExecuteTime": {
     "end_time": "2024-03-11T02:12:58.023034500Z",
     "start_time": "2024-03-11T02:12:57.949424600Z"
    }
   },
   "id": "98cf8b399b7c329b",
   "execution_count": 663
  },
  {
   "cell_type": "code",
   "outputs": [],
   "source": [
    "X_train, X_test, y_train, y_test = train_test_split(feature,target,test_size=0.2,random_state=41)"
   ],
   "metadata": {
    "collapsed": false,
    "ExecuteTime": {
     "end_time": "2024-03-11T02:12:58.076286600Z",
     "start_time": "2024-03-11T02:12:58.001936Z"
    }
   },
   "id": "5247f8158ad7e591",
   "execution_count": 664
  },
  {
   "cell_type": "code",
   "outputs": [],
   "source": [
    "#스케일링 "
   ],
   "metadata": {
    "collapsed": false,
    "ExecuteTime": {
     "end_time": "2024-03-11T02:12:58.156592400Z",
     "start_time": "2024-03-11T02:12:58.077385400Z"
    }
   },
   "id": "ec8266a82d347b3",
   "execution_count": 665
  },
  {
   "cell_type": "code",
   "outputs": [],
   "source": [
    "from sklearn.preprocessing import StandardScaler\n",
    "sc=StandardScaler()\n",
    "sc.fit_transform(X_train)\n",
    "\n",
    "X_train_sc=sc.transform(X_train)\n",
    "X_test=sc.transform(X_test)"
   ],
   "metadata": {
    "collapsed": false,
    "ExecuteTime": {
     "end_time": "2024-03-11T02:12:58.207935600Z",
     "start_time": "2024-03-11T02:12:58.142653900Z"
    }
   },
   "id": "b64594a2c76d13b2",
   "execution_count": 666
  },
  {
   "cell_type": "code",
   "outputs": [],
   "source": [],
   "metadata": {
    "collapsed": false,
    "ExecuteTime": {
     "end_time": "2024-03-11T02:12:58.307946100Z",
     "start_time": "2024-03-11T02:12:58.209000600Z"
    }
   },
   "id": "630dfd0548cfc889",
   "execution_count": 666
  },
  {
   "cell_type": "markdown",
   "source": [
    "[모델 학습] "
   ],
   "metadata": {
    "collapsed": false
   },
   "id": "68b39a1c7669448d"
  },
  {
   "cell_type": "markdown",
   "source": [
    "[1-1] LogisticRegression"
   ],
   "metadata": {
    "collapsed": false
   },
   "id": "af6ab2b20be66cfa"
  },
  {
   "cell_type": "code",
   "outputs": [
    {
     "data": {
      "text/plain": "LogisticRegression()",
      "text/html": "<style>#sk-container-id-23 {color: black;}#sk-container-id-23 pre{padding: 0;}#sk-container-id-23 div.sk-toggleable {background-color: white;}#sk-container-id-23 label.sk-toggleable__label {cursor: pointer;display: block;width: 100%;margin-bottom: 0;padding: 0.3em;box-sizing: border-box;text-align: center;}#sk-container-id-23 label.sk-toggleable__label-arrow:before {content: \"▸\";float: left;margin-right: 0.25em;color: #696969;}#sk-container-id-23 label.sk-toggleable__label-arrow:hover:before {color: black;}#sk-container-id-23 div.sk-estimator:hover label.sk-toggleable__label-arrow:before {color: black;}#sk-container-id-23 div.sk-toggleable__content {max-height: 0;max-width: 0;overflow: hidden;text-align: left;background-color: #f0f8ff;}#sk-container-id-23 div.sk-toggleable__content pre {margin: 0.2em;color: black;border-radius: 0.25em;background-color: #f0f8ff;}#sk-container-id-23 input.sk-toggleable__control:checked~div.sk-toggleable__content {max-height: 200px;max-width: 100%;overflow: auto;}#sk-container-id-23 input.sk-toggleable__control:checked~label.sk-toggleable__label-arrow:before {content: \"▾\";}#sk-container-id-23 div.sk-estimator input.sk-toggleable__control:checked~label.sk-toggleable__label {background-color: #d4ebff;}#sk-container-id-23 div.sk-label input.sk-toggleable__control:checked~label.sk-toggleable__label {background-color: #d4ebff;}#sk-container-id-23 input.sk-hidden--visually {border: 0;clip: rect(1px 1px 1px 1px);clip: rect(1px, 1px, 1px, 1px);height: 1px;margin: -1px;overflow: hidden;padding: 0;position: absolute;width: 1px;}#sk-container-id-23 div.sk-estimator {font-family: monospace;background-color: #f0f8ff;border: 1px dotted black;border-radius: 0.25em;box-sizing: border-box;margin-bottom: 0.5em;}#sk-container-id-23 div.sk-estimator:hover {background-color: #d4ebff;}#sk-container-id-23 div.sk-parallel-item::after {content: \"\";width: 100%;border-bottom: 1px solid gray;flex-grow: 1;}#sk-container-id-23 div.sk-label:hover label.sk-toggleable__label {background-color: #d4ebff;}#sk-container-id-23 div.sk-serial::before {content: \"\";position: absolute;border-left: 1px solid gray;box-sizing: border-box;top: 0;bottom: 0;left: 50%;z-index: 0;}#sk-container-id-23 div.sk-serial {display: flex;flex-direction: column;align-items: center;background-color: white;padding-right: 0.2em;padding-left: 0.2em;position: relative;}#sk-container-id-23 div.sk-item {position: relative;z-index: 1;}#sk-container-id-23 div.sk-parallel {display: flex;align-items: stretch;justify-content: center;background-color: white;position: relative;}#sk-container-id-23 div.sk-item::before, #sk-container-id-23 div.sk-parallel-item::before {content: \"\";position: absolute;border-left: 1px solid gray;box-sizing: border-box;top: 0;bottom: 0;left: 50%;z-index: -1;}#sk-container-id-23 div.sk-parallel-item {display: flex;flex-direction: column;z-index: 1;position: relative;background-color: white;}#sk-container-id-23 div.sk-parallel-item:first-child::after {align-self: flex-end;width: 50%;}#sk-container-id-23 div.sk-parallel-item:last-child::after {align-self: flex-start;width: 50%;}#sk-container-id-23 div.sk-parallel-item:only-child::after {width: 0;}#sk-container-id-23 div.sk-dashed-wrapped {border: 1px dashed gray;margin: 0 0.4em 0.5em 0.4em;box-sizing: border-box;padding-bottom: 0.4em;background-color: white;}#sk-container-id-23 div.sk-label label {font-family: monospace;font-weight: bold;display: inline-block;line-height: 1.2em;}#sk-container-id-23 div.sk-label-container {text-align: center;}#sk-container-id-23 div.sk-container {/* jupyter's `normalize.less` sets `[hidden] { display: none; }` but bootstrap.min.css set `[hidden] { display: none !important; }` so we also need the `!important` here to be able to override the default hidden behavior on the sphinx rendered scikit-learn.org. See: https://github.com/scikit-learn/scikit-learn/issues/21755 */display: inline-block !important;position: relative;}#sk-container-id-23 div.sk-text-repr-fallback {display: none;}</style><div id=\"sk-container-id-23\" class=\"sk-top-container\"><div class=\"sk-text-repr-fallback\"><pre>LogisticRegression()</pre><b>In a Jupyter environment, please rerun this cell to show the HTML representation or trust the notebook. <br />On GitHub, the HTML representation is unable to render, please try loading this page with nbviewer.org.</b></div><div class=\"sk-container\" hidden><div class=\"sk-item\"><div class=\"sk-estimator sk-toggleable\"><input class=\"sk-toggleable__control sk-hidden--visually\" id=\"sk-estimator-id-35\" type=\"checkbox\" checked><label for=\"sk-estimator-id-35\" class=\"sk-toggleable__label sk-toggleable__label-arrow\">LogisticRegression</label><div class=\"sk-toggleable__content\"><pre>LogisticRegression()</pre></div></div></div></div></div>"
     },
     "execution_count": 667,
     "metadata": {},
     "output_type": "execute_result"
    }
   ],
   "source": [
    "LR_model=LogisticRegression()\n",
    "\n",
    "LR_model.fit(X_train_sc,y_train)\n"
   ],
   "metadata": {
    "collapsed": false,
    "ExecuteTime": {
     "end_time": "2024-03-11T02:12:58.396895200Z",
     "start_time": "2024-03-11T02:12:58.282793100Z"
    }
   },
   "id": "50d403697f7f74a4",
   "execution_count": 667
  },
  {
   "cell_type": "code",
   "outputs": [],
   "source": [
    "#LR 모델의 스코어 내기\n",
    "LR_train_score=LR_model.score(X_train_sc,y_train)\n",
    "LR_test_score=LR_model.score(X_test,y_test)"
   ],
   "metadata": {
    "collapsed": false,
    "ExecuteTime": {
     "end_time": "2024-03-11T02:12:58.465031400Z",
     "start_time": "2024-03-11T02:12:58.335833700Z"
    }
   },
   "id": "ca4215ca17fd31a2",
   "execution_count": 668
  },
  {
   "cell_type": "code",
   "outputs": [
    {
     "name": "stdout",
     "output_type": "stream",
     "text": [
      "Training score: 0.7691935483870967 Test score: 0.7683870967741936\n"
     ]
    }
   ],
   "source": [
    "print(f'Training score: {LR_train_score}', f'Test score: {LR_test_score}')"
   ],
   "metadata": {
    "collapsed": false,
    "ExecuteTime": {
     "end_time": "2024-03-11T02:12:58.546339500Z",
     "start_time": "2024-03-11T02:12:58.451528100Z"
    }
   },
   "id": "9fb35a6f9440c7af",
   "execution_count": 669
  },
  {
   "cell_type": "code",
   "outputs": [],
   "source": [
    "#예측: predict 사용"
   ],
   "metadata": {
    "collapsed": false,
    "ExecuteTime": {
     "end_time": "2024-03-11T02:12:58.620067300Z",
     "start_time": "2024-03-11T02:12:58.545259500Z"
    }
   },
   "id": "fe7c4bfc040dd39",
   "execution_count": 670
  },
  {
   "cell_type": "code",
   "outputs": [
    {
     "data": {
      "text/plain": "array(['High', 'Low', 'Low', ..., 'High', 'High', 'High'], dtype=object)"
     },
     "execution_count": 671,
     "metadata": {},
     "output_type": "execute_result"
    }
   ],
   "source": [
    "#확률도 같이\n",
    "y_pred=LR_model.predict(X_test)\n",
    "y_pred"
   ],
   "metadata": {
    "collapsed": false,
    "ExecuteTime": {
     "end_time": "2024-03-11T02:12:58.670734Z",
     "start_time": "2024-03-11T02:12:58.584803400Z"
    }
   },
   "id": "e1c6e5daea33b94d",
   "execution_count": 671
  },
  {
   "cell_type": "code",
   "outputs": [
    {
     "data": {
      "text/plain": "array([[0.79059759, 0.20940241],\n       [0.15209746, 0.84790254],\n       [0.07947315, 0.92052685],\n       ...,\n       [0.81280923, 0.18719077],\n       [0.92837111, 0.07162889],\n       [0.92229136, 0.07770864]])"
     },
     "execution_count": 672,
     "metadata": {},
     "output_type": "execute_result"
    }
   ],
   "source": [
    "y_prob=LR_model.predict_proba(X_test)\n",
    "y_prob"
   ],
   "metadata": {
    "collapsed": false,
    "ExecuteTime": {
     "end_time": "2024-03-11T02:12:58.761858800Z",
     "start_time": "2024-03-11T02:12:58.671731600Z"
    }
   },
   "id": "ae123c8764371156",
   "execution_count": 672
  },
  {
   "cell_type": "code",
   "outputs": [
    {
     "data": {
      "text/plain": "0.7683870967741936"
     },
     "execution_count": 673,
     "metadata": {},
     "output_type": "execute_result"
    }
   ],
   "source": [
    "#정확도\n",
    "accuracy=accuracy_score(y_test,y_pred)\n",
    "accuracy"
   ],
   "metadata": {
    "collapsed": false,
    "ExecuteTime": {
     "end_time": "2024-03-11T02:12:58.818001700Z",
     "start_time": "2024-03-11T02:12:58.722336400Z"
    }
   },
   "id": "48d306b7500f3a37",
   "execution_count": 673
  },
  {
   "cell_type": "code",
   "outputs": [],
   "source": [
    "# # #재현율\n",
    "# precision=precision_score(y_test,y_pred)\n",
    "#  # 안됨......"
   ],
   "metadata": {
    "collapsed": false,
    "ExecuteTime": {
     "end_time": "2024-03-11T02:12:58.921944200Z",
     "start_time": "2024-03-11T02:12:58.802212Z"
    }
   },
   "id": "2d5f015937397915",
   "execution_count": 674
  },
  {
   "cell_type": "code",
   "outputs": [
    {
     "name": "stdout",
     "output_type": "stream",
     "text": [
      "결과표:\n",
      "              precision    recall  f1-score   support\n",
      "\n",
      "        High       0.80      0.86      0.83      1003\n",
      "         Low       0.70      0.60      0.64       547\n",
      "\n",
      "    accuracy                           0.77      1550\n",
      "   macro avg       0.75      0.73      0.74      1550\n",
      "weighted avg       0.76      0.77      0.76      1550\n"
     ]
    }
   ],
   "source": [
    "result_predict=classification_report(y_test,y_pred)\n",
    "\n",
    "print(f'결과표:\\n{result_predict}')\n"
   ],
   "metadata": {
    "collapsed": false,
    "ExecuteTime": {
     "end_time": "2024-03-11T02:12:59.040660900Z",
     "start_time": "2024-03-11T02:12:58.905406200Z"
    }
   },
   "id": "b866b25ff777e976",
   "execution_count": 675
  },
  {
   "cell_type": "markdown",
   "source": [
    "[1-2] DecisionTree model "
   ],
   "metadata": {
    "collapsed": false
   },
   "id": "b0c33a985f076640"
  },
  {
   "cell_type": "code",
   "outputs": [
    {
     "data": {
      "text/plain": "DecisionTreeClassifier(random_state=23)",
      "text/html": "<style>#sk-container-id-24 {color: black;}#sk-container-id-24 pre{padding: 0;}#sk-container-id-24 div.sk-toggleable {background-color: white;}#sk-container-id-24 label.sk-toggleable__label {cursor: pointer;display: block;width: 100%;margin-bottom: 0;padding: 0.3em;box-sizing: border-box;text-align: center;}#sk-container-id-24 label.sk-toggleable__label-arrow:before {content: \"▸\";float: left;margin-right: 0.25em;color: #696969;}#sk-container-id-24 label.sk-toggleable__label-arrow:hover:before {color: black;}#sk-container-id-24 div.sk-estimator:hover label.sk-toggleable__label-arrow:before {color: black;}#sk-container-id-24 div.sk-toggleable__content {max-height: 0;max-width: 0;overflow: hidden;text-align: left;background-color: #f0f8ff;}#sk-container-id-24 div.sk-toggleable__content pre {margin: 0.2em;color: black;border-radius: 0.25em;background-color: #f0f8ff;}#sk-container-id-24 input.sk-toggleable__control:checked~div.sk-toggleable__content {max-height: 200px;max-width: 100%;overflow: auto;}#sk-container-id-24 input.sk-toggleable__control:checked~label.sk-toggleable__label-arrow:before {content: \"▾\";}#sk-container-id-24 div.sk-estimator input.sk-toggleable__control:checked~label.sk-toggleable__label {background-color: #d4ebff;}#sk-container-id-24 div.sk-label input.sk-toggleable__control:checked~label.sk-toggleable__label {background-color: #d4ebff;}#sk-container-id-24 input.sk-hidden--visually {border: 0;clip: rect(1px 1px 1px 1px);clip: rect(1px, 1px, 1px, 1px);height: 1px;margin: -1px;overflow: hidden;padding: 0;position: absolute;width: 1px;}#sk-container-id-24 div.sk-estimator {font-family: monospace;background-color: #f0f8ff;border: 1px dotted black;border-radius: 0.25em;box-sizing: border-box;margin-bottom: 0.5em;}#sk-container-id-24 div.sk-estimator:hover {background-color: #d4ebff;}#sk-container-id-24 div.sk-parallel-item::after {content: \"\";width: 100%;border-bottom: 1px solid gray;flex-grow: 1;}#sk-container-id-24 div.sk-label:hover label.sk-toggleable__label {background-color: #d4ebff;}#sk-container-id-24 div.sk-serial::before {content: \"\";position: absolute;border-left: 1px solid gray;box-sizing: border-box;top: 0;bottom: 0;left: 50%;z-index: 0;}#sk-container-id-24 div.sk-serial {display: flex;flex-direction: column;align-items: center;background-color: white;padding-right: 0.2em;padding-left: 0.2em;position: relative;}#sk-container-id-24 div.sk-item {position: relative;z-index: 1;}#sk-container-id-24 div.sk-parallel {display: flex;align-items: stretch;justify-content: center;background-color: white;position: relative;}#sk-container-id-24 div.sk-item::before, #sk-container-id-24 div.sk-parallel-item::before {content: \"\";position: absolute;border-left: 1px solid gray;box-sizing: border-box;top: 0;bottom: 0;left: 50%;z-index: -1;}#sk-container-id-24 div.sk-parallel-item {display: flex;flex-direction: column;z-index: 1;position: relative;background-color: white;}#sk-container-id-24 div.sk-parallel-item:first-child::after {align-self: flex-end;width: 50%;}#sk-container-id-24 div.sk-parallel-item:last-child::after {align-self: flex-start;width: 50%;}#sk-container-id-24 div.sk-parallel-item:only-child::after {width: 0;}#sk-container-id-24 div.sk-dashed-wrapped {border: 1px dashed gray;margin: 0 0.4em 0.5em 0.4em;box-sizing: border-box;padding-bottom: 0.4em;background-color: white;}#sk-container-id-24 div.sk-label label {font-family: monospace;font-weight: bold;display: inline-block;line-height: 1.2em;}#sk-container-id-24 div.sk-label-container {text-align: center;}#sk-container-id-24 div.sk-container {/* jupyter's `normalize.less` sets `[hidden] { display: none; }` but bootstrap.min.css set `[hidden] { display: none !important; }` so we also need the `!important` here to be able to override the default hidden behavior on the sphinx rendered scikit-learn.org. See: https://github.com/scikit-learn/scikit-learn/issues/21755 */display: inline-block !important;position: relative;}#sk-container-id-24 div.sk-text-repr-fallback {display: none;}</style><div id=\"sk-container-id-24\" class=\"sk-top-container\"><div class=\"sk-text-repr-fallback\"><pre>DecisionTreeClassifier(random_state=23)</pre><b>In a Jupyter environment, please rerun this cell to show the HTML representation or trust the notebook. <br />On GitHub, the HTML representation is unable to render, please try loading this page with nbviewer.org.</b></div><div class=\"sk-container\" hidden><div class=\"sk-item\"><div class=\"sk-estimator sk-toggleable\"><input class=\"sk-toggleable__control sk-hidden--visually\" id=\"sk-estimator-id-36\" type=\"checkbox\" checked><label for=\"sk-estimator-id-36\" class=\"sk-toggleable__label sk-toggleable__label-arrow\">DecisionTreeClassifier</label><div class=\"sk-toggleable__content\"><pre>DecisionTreeClassifier(random_state=23)</pre></div></div></div></div></div>"
     },
     "execution_count": 676,
     "metadata": {},
     "output_type": "execute_result"
    }
   ],
   "source": [
    "#DecisionTreeClassifier 인스턴스\n",
    "from sklearn.tree import DecisionTreeClassifier\n",
    "dt_model=DecisionTreeClassifier(random_state=23)\n",
    "dt_model.fit(X_train_sc,y_train)"
   ],
   "metadata": {
    "collapsed": false,
    "ExecuteTime": {
     "end_time": "2024-03-11T02:12:59.141346900Z",
     "start_time": "2024-03-11T02:12:58.973492100Z"
    }
   },
   "id": "f4153352b5fd8ecb",
   "execution_count": 676
  },
  {
   "cell_type": "markdown",
   "source": [
    "[2-3] SVC 모델"
   ],
   "metadata": {
    "collapsed": false
   },
   "id": "92bbf94eab00493c"
  },
  {
   "cell_type": "code",
   "outputs": [
    {
     "data": {
      "text/plain": "SVC(probability=True)",
      "text/html": "<style>#sk-container-id-25 {color: black;}#sk-container-id-25 pre{padding: 0;}#sk-container-id-25 div.sk-toggleable {background-color: white;}#sk-container-id-25 label.sk-toggleable__label {cursor: pointer;display: block;width: 100%;margin-bottom: 0;padding: 0.3em;box-sizing: border-box;text-align: center;}#sk-container-id-25 label.sk-toggleable__label-arrow:before {content: \"▸\";float: left;margin-right: 0.25em;color: #696969;}#sk-container-id-25 label.sk-toggleable__label-arrow:hover:before {color: black;}#sk-container-id-25 div.sk-estimator:hover label.sk-toggleable__label-arrow:before {color: black;}#sk-container-id-25 div.sk-toggleable__content {max-height: 0;max-width: 0;overflow: hidden;text-align: left;background-color: #f0f8ff;}#sk-container-id-25 div.sk-toggleable__content pre {margin: 0.2em;color: black;border-radius: 0.25em;background-color: #f0f8ff;}#sk-container-id-25 input.sk-toggleable__control:checked~div.sk-toggleable__content {max-height: 200px;max-width: 100%;overflow: auto;}#sk-container-id-25 input.sk-toggleable__control:checked~label.sk-toggleable__label-arrow:before {content: \"▾\";}#sk-container-id-25 div.sk-estimator input.sk-toggleable__control:checked~label.sk-toggleable__label {background-color: #d4ebff;}#sk-container-id-25 div.sk-label input.sk-toggleable__control:checked~label.sk-toggleable__label {background-color: #d4ebff;}#sk-container-id-25 input.sk-hidden--visually {border: 0;clip: rect(1px 1px 1px 1px);clip: rect(1px, 1px, 1px, 1px);height: 1px;margin: -1px;overflow: hidden;padding: 0;position: absolute;width: 1px;}#sk-container-id-25 div.sk-estimator {font-family: monospace;background-color: #f0f8ff;border: 1px dotted black;border-radius: 0.25em;box-sizing: border-box;margin-bottom: 0.5em;}#sk-container-id-25 div.sk-estimator:hover {background-color: #d4ebff;}#sk-container-id-25 div.sk-parallel-item::after {content: \"\";width: 100%;border-bottom: 1px solid gray;flex-grow: 1;}#sk-container-id-25 div.sk-label:hover label.sk-toggleable__label {background-color: #d4ebff;}#sk-container-id-25 div.sk-serial::before {content: \"\";position: absolute;border-left: 1px solid gray;box-sizing: border-box;top: 0;bottom: 0;left: 50%;z-index: 0;}#sk-container-id-25 div.sk-serial {display: flex;flex-direction: column;align-items: center;background-color: white;padding-right: 0.2em;padding-left: 0.2em;position: relative;}#sk-container-id-25 div.sk-item {position: relative;z-index: 1;}#sk-container-id-25 div.sk-parallel {display: flex;align-items: stretch;justify-content: center;background-color: white;position: relative;}#sk-container-id-25 div.sk-item::before, #sk-container-id-25 div.sk-parallel-item::before {content: \"\";position: absolute;border-left: 1px solid gray;box-sizing: border-box;top: 0;bottom: 0;left: 50%;z-index: -1;}#sk-container-id-25 div.sk-parallel-item {display: flex;flex-direction: column;z-index: 1;position: relative;background-color: white;}#sk-container-id-25 div.sk-parallel-item:first-child::after {align-self: flex-end;width: 50%;}#sk-container-id-25 div.sk-parallel-item:last-child::after {align-self: flex-start;width: 50%;}#sk-container-id-25 div.sk-parallel-item:only-child::after {width: 0;}#sk-container-id-25 div.sk-dashed-wrapped {border: 1px dashed gray;margin: 0 0.4em 0.5em 0.4em;box-sizing: border-box;padding-bottom: 0.4em;background-color: white;}#sk-container-id-25 div.sk-label label {font-family: monospace;font-weight: bold;display: inline-block;line-height: 1.2em;}#sk-container-id-25 div.sk-label-container {text-align: center;}#sk-container-id-25 div.sk-container {/* jupyter's `normalize.less` sets `[hidden] { display: none; }` but bootstrap.min.css set `[hidden] { display: none !important; }` so we also need the `!important` here to be able to override the default hidden behavior on the sphinx rendered scikit-learn.org. See: https://github.com/scikit-learn/scikit-learn/issues/21755 */display: inline-block !important;position: relative;}#sk-container-id-25 div.sk-text-repr-fallback {display: none;}</style><div id=\"sk-container-id-25\" class=\"sk-top-container\"><div class=\"sk-text-repr-fallback\"><pre>SVC(probability=True)</pre><b>In a Jupyter environment, please rerun this cell to show the HTML representation or trust the notebook. <br />On GitHub, the HTML representation is unable to render, please try loading this page with nbviewer.org.</b></div><div class=\"sk-container\" hidden><div class=\"sk-item\"><div class=\"sk-estimator sk-toggleable\"><input class=\"sk-toggleable__control sk-hidden--visually\" id=\"sk-estimator-id-37\" type=\"checkbox\" checked><label for=\"sk-estimator-id-37\" class=\"sk-toggleable__label sk-toggleable__label-arrow\">SVC</label><div class=\"sk-toggleable__content\"><pre>SVC(probability=True)</pre></div></div></div></div></div>"
     },
     "execution_count": 677,
     "metadata": {},
     "output_type": "execute_result"
    }
   ],
   "source": [
    "from sklearn.svm import SVC\n",
    "svc_model=SVC(probability=True)\n",
    "svc_model.fit(X_train_sc,y_train)"
   ],
   "metadata": {
    "collapsed": false,
    "ExecuteTime": {
     "end_time": "2024-03-11T02:13:05.426914200Z",
     "start_time": "2024-03-11T02:12:59.064678800Z"
    }
   },
   "id": "cdf9b0b6514c2bcf",
   "execution_count": 677
  },
  {
   "cell_type": "markdown",
   "source": [
    "[2-4] 랜덤 포레스트"
   ],
   "metadata": {
    "collapsed": false
   },
   "id": "47b76770b16aaa46"
  },
  {
   "cell_type": "code",
   "outputs": [
    {
     "data": {
      "text/plain": "RandomForestClassifier(random_state=5)",
      "text/html": "<style>#sk-container-id-26 {color: black;}#sk-container-id-26 pre{padding: 0;}#sk-container-id-26 div.sk-toggleable {background-color: white;}#sk-container-id-26 label.sk-toggleable__label {cursor: pointer;display: block;width: 100%;margin-bottom: 0;padding: 0.3em;box-sizing: border-box;text-align: center;}#sk-container-id-26 label.sk-toggleable__label-arrow:before {content: \"▸\";float: left;margin-right: 0.25em;color: #696969;}#sk-container-id-26 label.sk-toggleable__label-arrow:hover:before {color: black;}#sk-container-id-26 div.sk-estimator:hover label.sk-toggleable__label-arrow:before {color: black;}#sk-container-id-26 div.sk-toggleable__content {max-height: 0;max-width: 0;overflow: hidden;text-align: left;background-color: #f0f8ff;}#sk-container-id-26 div.sk-toggleable__content pre {margin: 0.2em;color: black;border-radius: 0.25em;background-color: #f0f8ff;}#sk-container-id-26 input.sk-toggleable__control:checked~div.sk-toggleable__content {max-height: 200px;max-width: 100%;overflow: auto;}#sk-container-id-26 input.sk-toggleable__control:checked~label.sk-toggleable__label-arrow:before {content: \"▾\";}#sk-container-id-26 div.sk-estimator input.sk-toggleable__control:checked~label.sk-toggleable__label {background-color: #d4ebff;}#sk-container-id-26 div.sk-label input.sk-toggleable__control:checked~label.sk-toggleable__label {background-color: #d4ebff;}#sk-container-id-26 input.sk-hidden--visually {border: 0;clip: rect(1px 1px 1px 1px);clip: rect(1px, 1px, 1px, 1px);height: 1px;margin: -1px;overflow: hidden;padding: 0;position: absolute;width: 1px;}#sk-container-id-26 div.sk-estimator {font-family: monospace;background-color: #f0f8ff;border: 1px dotted black;border-radius: 0.25em;box-sizing: border-box;margin-bottom: 0.5em;}#sk-container-id-26 div.sk-estimator:hover {background-color: #d4ebff;}#sk-container-id-26 div.sk-parallel-item::after {content: \"\";width: 100%;border-bottom: 1px solid gray;flex-grow: 1;}#sk-container-id-26 div.sk-label:hover label.sk-toggleable__label {background-color: #d4ebff;}#sk-container-id-26 div.sk-serial::before {content: \"\";position: absolute;border-left: 1px solid gray;box-sizing: border-box;top: 0;bottom: 0;left: 50%;z-index: 0;}#sk-container-id-26 div.sk-serial {display: flex;flex-direction: column;align-items: center;background-color: white;padding-right: 0.2em;padding-left: 0.2em;position: relative;}#sk-container-id-26 div.sk-item {position: relative;z-index: 1;}#sk-container-id-26 div.sk-parallel {display: flex;align-items: stretch;justify-content: center;background-color: white;position: relative;}#sk-container-id-26 div.sk-item::before, #sk-container-id-26 div.sk-parallel-item::before {content: \"\";position: absolute;border-left: 1px solid gray;box-sizing: border-box;top: 0;bottom: 0;left: 50%;z-index: -1;}#sk-container-id-26 div.sk-parallel-item {display: flex;flex-direction: column;z-index: 1;position: relative;background-color: white;}#sk-container-id-26 div.sk-parallel-item:first-child::after {align-self: flex-end;width: 50%;}#sk-container-id-26 div.sk-parallel-item:last-child::after {align-self: flex-start;width: 50%;}#sk-container-id-26 div.sk-parallel-item:only-child::after {width: 0;}#sk-container-id-26 div.sk-dashed-wrapped {border: 1px dashed gray;margin: 0 0.4em 0.5em 0.4em;box-sizing: border-box;padding-bottom: 0.4em;background-color: white;}#sk-container-id-26 div.sk-label label {font-family: monospace;font-weight: bold;display: inline-block;line-height: 1.2em;}#sk-container-id-26 div.sk-label-container {text-align: center;}#sk-container-id-26 div.sk-container {/* jupyter's `normalize.less` sets `[hidden] { display: none; }` but bootstrap.min.css set `[hidden] { display: none !important; }` so we also need the `!important` here to be able to override the default hidden behavior on the sphinx rendered scikit-learn.org. See: https://github.com/scikit-learn/scikit-learn/issues/21755 */display: inline-block !important;position: relative;}#sk-container-id-26 div.sk-text-repr-fallback {display: none;}</style><div id=\"sk-container-id-26\" class=\"sk-top-container\"><div class=\"sk-text-repr-fallback\"><pre>RandomForestClassifier(random_state=5)</pre><b>In a Jupyter environment, please rerun this cell to show the HTML representation or trust the notebook. <br />On GitHub, the HTML representation is unable to render, please try loading this page with nbviewer.org.</b></div><div class=\"sk-container\" hidden><div class=\"sk-item\"><div class=\"sk-estimator sk-toggleable\"><input class=\"sk-toggleable__control sk-hidden--visually\" id=\"sk-estimator-id-38\" type=\"checkbox\" checked><label for=\"sk-estimator-id-38\" class=\"sk-toggleable__label sk-toggleable__label-arrow\">RandomForestClassifier</label><div class=\"sk-toggleable__content\"><pre>RandomForestClassifier(random_state=5)</pre></div></div></div></div></div>"
     },
     "execution_count": 678,
     "metadata": {},
     "output_type": "execute_result"
    }
   ],
   "source": [
    "from sklearn.ensemble import RandomForestClassifier\n",
    "rf_model=RandomForestClassifier(random_state=5)\n",
    "rf_model.fit(X_train_sc,y_train)"
   ],
   "metadata": {
    "collapsed": false,
    "ExecuteTime": {
     "end_time": "2024-03-11T02:13:05.947163500Z",
     "start_time": "2024-03-11T02:13:05.431075500Z"
    }
   },
   "id": "9d2601e13349a6eb",
   "execution_count": 678
  },
  {
   "cell_type": "markdown",
   "source": [
    "[2-5] lightbgm\n"
   ],
   "metadata": {
    "collapsed": false
   },
   "id": "3b71dfb531843fa5"
  },
  {
   "cell_type": "code",
   "outputs": [
    {
     "name": "stdout",
     "output_type": "stream",
     "text": [
      "4.1.0\n"
     ]
    }
   ],
   "source": [
    "import lightgbm\n",
    "\n",
    "print(lightgbm.__version__)"
   ],
   "metadata": {
    "collapsed": false,
    "ExecuteTime": {
     "end_time": "2024-03-11T02:13:06.028525500Z",
     "start_time": "2024-03-11T02:13:05.945559400Z"
    }
   },
   "id": "e37dcde5d535144e",
   "execution_count": 679
  },
  {
   "cell_type": "markdown",
   "source": [
    "[3] 3개의 모델 한꺼번에 비교( 같은 데이터셋을 이용한 비교)"
   ],
   "metadata": {
    "collapsed": false
   },
   "id": "c77ce47e7dac142b"
  },
  {
   "cell_type": "code",
   "outputs": [],
   "source": [
    "# X_train, y_train을 다시 쪼개서 90%는 학습과 10%는 검증용 데이터로 분리\n",
    "X_tr, X_val, y_tr, y_val= train_test_split(X_train, \n",
    "                                           y_train, \n",
    "                                           test_size=0.1, \n",
    "                                           random_state=156 )\n"
   ],
   "metadata": {
    "collapsed": false,
    "ExecuteTime": {
     "end_time": "2024-03-11T02:13:06.058537100Z",
     "start_time": "2024-03-11T02:13:05.962880600Z"
    }
   },
   "id": "3a34dc7f8abc8e42",
   "execution_count": 680
  },
  {
   "cell_type": "code",
   "outputs": [],
   "source": [
    "# XGBoost와 동일하게 n_estimators는 400 설정.\n",
    "from lightgbm import LGBMClassifier\n",
    "lgbm_wrapper = LGBMClassifier(n_estimators=400, learning_rate=0.05)\n"
   ],
   "metadata": {
    "collapsed": false,
    "ExecuteTime": {
     "end_time": "2024-03-11T02:13:06.091642600Z",
     "start_time": "2024-03-11T02:13:05.978642100Z"
    }
   },
   "id": "a4be7e9d95df32bf",
   "execution_count": 681
  },
  {
   "cell_type": "code",
   "outputs": [
    {
     "name": "stdout",
     "output_type": "stream",
     "text": [
      "[LightGBM] [Warning] early_stopping_round is set=50, early_stopping_rounds=50 will be ignored. Current value: early_stopping_round=50\n",
      "[LightGBM] [Info] Number of positive: 1948, number of negative: 3632\n",
      "[LightGBM] [Info] Auto-choosing row-wise multi-threading, the overhead of testing was 0.000125 seconds.\n",
      "You can set `force_row_wise=true` to remove the overhead.\n",
      "And if memory is not enough, you can set `force_col_wise=true`.\n",
      "[LightGBM] [Info] Total Bins 78\n",
      "[LightGBM] [Info] Number of data points in the train set: 5580, number of used features: 5\n",
      "[LightGBM] [Warning] early_stopping_round is set=50, early_stopping_rounds=50 will be ignored. Current value: early_stopping_round=50\n",
      "[LightGBM] [Info] [binary:BoostFromScore]: pavg=0.349104 -> initscore=-0.622980\n",
      "[LightGBM] [Info] Start training from score -0.622980\n",
      "Training until validation scores don't improve for 50 rounds\n",
      "Early stopping, best iteration is:\n",
      "[49]\ttraining's binary_logloss: 0.433148\tvalid_1's binary_logloss: 0.471193\n"
     ]
    },
    {
     "data": {
      "text/plain": "LGBMClassifier(early_stopping_rounds=50, learning_rate=0.05, n_estimators=400)",
      "text/html": "<style>#sk-container-id-27 {color: black;}#sk-container-id-27 pre{padding: 0;}#sk-container-id-27 div.sk-toggleable {background-color: white;}#sk-container-id-27 label.sk-toggleable__label {cursor: pointer;display: block;width: 100%;margin-bottom: 0;padding: 0.3em;box-sizing: border-box;text-align: center;}#sk-container-id-27 label.sk-toggleable__label-arrow:before {content: \"▸\";float: left;margin-right: 0.25em;color: #696969;}#sk-container-id-27 label.sk-toggleable__label-arrow:hover:before {color: black;}#sk-container-id-27 div.sk-estimator:hover label.sk-toggleable__label-arrow:before {color: black;}#sk-container-id-27 div.sk-toggleable__content {max-height: 0;max-width: 0;overflow: hidden;text-align: left;background-color: #f0f8ff;}#sk-container-id-27 div.sk-toggleable__content pre {margin: 0.2em;color: black;border-radius: 0.25em;background-color: #f0f8ff;}#sk-container-id-27 input.sk-toggleable__control:checked~div.sk-toggleable__content {max-height: 200px;max-width: 100%;overflow: auto;}#sk-container-id-27 input.sk-toggleable__control:checked~label.sk-toggleable__label-arrow:before {content: \"▾\";}#sk-container-id-27 div.sk-estimator input.sk-toggleable__control:checked~label.sk-toggleable__label {background-color: #d4ebff;}#sk-container-id-27 div.sk-label input.sk-toggleable__control:checked~label.sk-toggleable__label {background-color: #d4ebff;}#sk-container-id-27 input.sk-hidden--visually {border: 0;clip: rect(1px 1px 1px 1px);clip: rect(1px, 1px, 1px, 1px);height: 1px;margin: -1px;overflow: hidden;padding: 0;position: absolute;width: 1px;}#sk-container-id-27 div.sk-estimator {font-family: monospace;background-color: #f0f8ff;border: 1px dotted black;border-radius: 0.25em;box-sizing: border-box;margin-bottom: 0.5em;}#sk-container-id-27 div.sk-estimator:hover {background-color: #d4ebff;}#sk-container-id-27 div.sk-parallel-item::after {content: \"\";width: 100%;border-bottom: 1px solid gray;flex-grow: 1;}#sk-container-id-27 div.sk-label:hover label.sk-toggleable__label {background-color: #d4ebff;}#sk-container-id-27 div.sk-serial::before {content: \"\";position: absolute;border-left: 1px solid gray;box-sizing: border-box;top: 0;bottom: 0;left: 50%;z-index: 0;}#sk-container-id-27 div.sk-serial {display: flex;flex-direction: column;align-items: center;background-color: white;padding-right: 0.2em;padding-left: 0.2em;position: relative;}#sk-container-id-27 div.sk-item {position: relative;z-index: 1;}#sk-container-id-27 div.sk-parallel {display: flex;align-items: stretch;justify-content: center;background-color: white;position: relative;}#sk-container-id-27 div.sk-item::before, #sk-container-id-27 div.sk-parallel-item::before {content: \"\";position: absolute;border-left: 1px solid gray;box-sizing: border-box;top: 0;bottom: 0;left: 50%;z-index: -1;}#sk-container-id-27 div.sk-parallel-item {display: flex;flex-direction: column;z-index: 1;position: relative;background-color: white;}#sk-container-id-27 div.sk-parallel-item:first-child::after {align-self: flex-end;width: 50%;}#sk-container-id-27 div.sk-parallel-item:last-child::after {align-self: flex-start;width: 50%;}#sk-container-id-27 div.sk-parallel-item:only-child::after {width: 0;}#sk-container-id-27 div.sk-dashed-wrapped {border: 1px dashed gray;margin: 0 0.4em 0.5em 0.4em;box-sizing: border-box;padding-bottom: 0.4em;background-color: white;}#sk-container-id-27 div.sk-label label {font-family: monospace;font-weight: bold;display: inline-block;line-height: 1.2em;}#sk-container-id-27 div.sk-label-container {text-align: center;}#sk-container-id-27 div.sk-container {/* jupyter's `normalize.less` sets `[hidden] { display: none; }` but bootstrap.min.css set `[hidden] { display: none !important; }` so we also need the `!important` here to be able to override the default hidden behavior on the sphinx rendered scikit-learn.org. See: https://github.com/scikit-learn/scikit-learn/issues/21755 */display: inline-block !important;position: relative;}#sk-container-id-27 div.sk-text-repr-fallback {display: none;}</style><div id=\"sk-container-id-27\" class=\"sk-top-container\"><div class=\"sk-text-repr-fallback\"><pre>LGBMClassifier(early_stopping_rounds=50, learning_rate=0.05, n_estimators=400)</pre><b>In a Jupyter environment, please rerun this cell to show the HTML representation or trust the notebook. <br />On GitHub, the HTML representation is unable to render, please try loading this page with nbviewer.org.</b></div><div class=\"sk-container\" hidden><div class=\"sk-item\"><div class=\"sk-estimator sk-toggleable\"><input class=\"sk-toggleable__control sk-hidden--visually\" id=\"sk-estimator-id-39\" type=\"checkbox\" checked><label for=\"sk-estimator-id-39\" class=\"sk-toggleable__label sk-toggleable__label-arrow\">LGBMClassifier</label><div class=\"sk-toggleable__content\"><pre>LGBMClassifier(early_stopping_rounds=50, learning_rate=0.05, n_estimators=400)</pre></div></div></div></div></div>"
     },
     "execution_count": 682,
     "metadata": {},
     "output_type": "execute_result"
    }
   ],
   "source": [
    "# LightGBM도 XGBoost와 동일하게 조기 중단 수행 가능\n",
    "evals = [(X_tr, y_tr), (X_val, y_val)]\n",
    "\n",
    "lgbm_wrapper.set_params(early_stopping_rounds=50)\n",
    "lgbm_wrapper.fit(X_tr, y_tr, \n",
    "                 eval_metric=\"logloss\", \n",
    "                 eval_set=evals)"
   ],
   "metadata": {
    "collapsed": false,
    "ExecuteTime": {
     "end_time": "2024-03-11T02:13:06.218328400Z",
     "start_time": "2024-03-11T02:13:05.997090400Z"
    }
   },
   "id": "a7017507cea763e",
   "execution_count": 682
  },
  {
   "cell_type": "code",
   "outputs": [],
   "source": [
    "from sklearn.metrics import confusion_matrix, accuracy_score\n",
    "from sklearn.metrics import precision_score, recall_score\n",
    "from sklearn.metrics import f1_score, roc_auc_score"
   ],
   "metadata": {
    "collapsed": false,
    "ExecuteTime": {
     "end_time": "2024-03-11T02:13:06.236542400Z",
     "start_time": "2024-03-11T02:13:06.073032100Z"
    }
   },
   "id": "53373b5ebe2562b3",
   "execution_count": 683
  },
  {
   "cell_type": "code",
   "outputs": [],
   "source": [
    "#확률 보기\n",
    "preds = lgbm_wrapper.predict(X_test)\n",
    "pred_proba = lgbm_wrapper.predict_proba(X_test)[:, 1]"
   ],
   "metadata": {
    "collapsed": false,
    "ExecuteTime": {
     "end_time": "2024-03-11T02:13:06.266584600Z",
     "start_time": "2024-03-11T02:13:06.088491400Z"
    }
   },
   "id": "47a09461036a257c",
   "execution_count": 684
  },
  {
   "cell_type": "code",
   "outputs": [],
   "source": [
    "def get_clf_eval(y_test, pred=None, pred_proba=None):\n",
    "    confusion = confusion_matrix( y_test, pred)\n",
    "    accuracy = accuracy_score(y_test , pred)\n",
    "    precision = precision_score(y_test , pred)\n",
    "    recall = recall_score(y_test , pred)\n",
    "    f1 = f1_score(y_test,pred)\n",
    "\n",
    "    print('오차 행렬')\n",
    "    print(confusion)\n",
    "    # ROC-AUC print 추가\n",
    "    print(f'정확도: {accuracy:.4f}, 정밀도: {precision:.4f}, 재현율: {recall:.4f}, F1: {f1:.4f}, AUC:{4:.4f}')"
   ],
   "metadata": {
    "collapsed": false,
    "ExecuteTime": {
     "end_time": "2024-03-11T02:13:06.271799200Z",
     "start_time": "2024-03-11T02:13:06.106479200Z"
    }
   },
   "id": "5a16726dc60c6979",
   "execution_count": 685
  },
  {
   "cell_type": "code",
   "outputs": [],
   "source": [
    "# get_clf_eval(y_test, preds, pred_proba)"
   ],
   "metadata": {
    "collapsed": false,
    "ExecuteTime": {
     "end_time": "2024-03-11T02:13:06.331872300Z",
     "start_time": "2024-03-11T02:13:06.118342400Z"
    }
   },
   "id": "2f88580b8803a713",
   "execution_count": 686
  },
  {
   "cell_type": "code",
   "outputs": [],
   "source": [],
   "metadata": {
    "collapsed": false,
    "ExecuteTime": {
     "end_time": "2024-03-11T02:13:06.365121400Z",
     "start_time": "2024-03-11T02:13:06.134940500Z"
    }
   },
   "id": "31dd91499c66f842",
   "execution_count": 686
  },
  {
   "cell_type": "code",
   "outputs": [],
   "source": [],
   "metadata": {
    "collapsed": false,
    "ExecuteTime": {
     "end_time": "2024-03-11T02:13:06.394674100Z",
     "start_time": "2024-03-11T02:13:06.150020Z"
    }
   },
   "id": "a7836ecbc75e94cd",
   "execution_count": 686
  },
  {
   "cell_type": "code",
   "outputs": [],
   "source": [
    "from sklearn.ensemble import VotingClassifier\n",
    "voting_model=VotingClassifier(estimators=[('LR_model',LR_model),('dt_model',dt_model),('svc_model',svc_model),('rf_model',rf_model)],verbose=True)"
   ],
   "metadata": {
    "collapsed": false,
    "ExecuteTime": {
     "end_time": "2024-03-11T02:13:06.398918Z",
     "start_time": "2024-03-11T02:13:06.164969800Z"
    }
   },
   "id": "70e20e9307172f2b",
   "execution_count": 687
  },
  {
   "cell_type": "code",
   "outputs": [
    {
     "name": "stdout",
     "output_type": "stream",
     "text": [
      "[Voting] ................. (1 of 4) Processing LR_model, total=   0.0s\n",
      "[Voting] ................. (2 of 4) Processing dt_model, total=   0.0s\n",
      "[Voting] ................ (3 of 4) Processing svc_model, total=   6.6s\n",
      "[Voting] ................. (4 of 4) Processing rf_model, total=   0.6s\n"
     ]
    },
    {
     "data": {
      "text/plain": "VotingClassifier(estimators=[('LR_model', LogisticRegression()),\n                             ('dt_model',\n                              DecisionTreeClassifier(random_state=23)),\n                             ('svc_model', SVC(probability=True)),\n                             ('rf_model',\n                              RandomForestClassifier(random_state=5))],\n                 verbose=True)",
      "text/html": "<style>#sk-container-id-28 {color: black;}#sk-container-id-28 pre{padding: 0;}#sk-container-id-28 div.sk-toggleable {background-color: white;}#sk-container-id-28 label.sk-toggleable__label {cursor: pointer;display: block;width: 100%;margin-bottom: 0;padding: 0.3em;box-sizing: border-box;text-align: center;}#sk-container-id-28 label.sk-toggleable__label-arrow:before {content: \"▸\";float: left;margin-right: 0.25em;color: #696969;}#sk-container-id-28 label.sk-toggleable__label-arrow:hover:before {color: black;}#sk-container-id-28 div.sk-estimator:hover label.sk-toggleable__label-arrow:before {color: black;}#sk-container-id-28 div.sk-toggleable__content {max-height: 0;max-width: 0;overflow: hidden;text-align: left;background-color: #f0f8ff;}#sk-container-id-28 div.sk-toggleable__content pre {margin: 0.2em;color: black;border-radius: 0.25em;background-color: #f0f8ff;}#sk-container-id-28 input.sk-toggleable__control:checked~div.sk-toggleable__content {max-height: 200px;max-width: 100%;overflow: auto;}#sk-container-id-28 input.sk-toggleable__control:checked~label.sk-toggleable__label-arrow:before {content: \"▾\";}#sk-container-id-28 div.sk-estimator input.sk-toggleable__control:checked~label.sk-toggleable__label {background-color: #d4ebff;}#sk-container-id-28 div.sk-label input.sk-toggleable__control:checked~label.sk-toggleable__label {background-color: #d4ebff;}#sk-container-id-28 input.sk-hidden--visually {border: 0;clip: rect(1px 1px 1px 1px);clip: rect(1px, 1px, 1px, 1px);height: 1px;margin: -1px;overflow: hidden;padding: 0;position: absolute;width: 1px;}#sk-container-id-28 div.sk-estimator {font-family: monospace;background-color: #f0f8ff;border: 1px dotted black;border-radius: 0.25em;box-sizing: border-box;margin-bottom: 0.5em;}#sk-container-id-28 div.sk-estimator:hover {background-color: #d4ebff;}#sk-container-id-28 div.sk-parallel-item::after {content: \"\";width: 100%;border-bottom: 1px solid gray;flex-grow: 1;}#sk-container-id-28 div.sk-label:hover label.sk-toggleable__label {background-color: #d4ebff;}#sk-container-id-28 div.sk-serial::before {content: \"\";position: absolute;border-left: 1px solid gray;box-sizing: border-box;top: 0;bottom: 0;left: 50%;z-index: 0;}#sk-container-id-28 div.sk-serial {display: flex;flex-direction: column;align-items: center;background-color: white;padding-right: 0.2em;padding-left: 0.2em;position: relative;}#sk-container-id-28 div.sk-item {position: relative;z-index: 1;}#sk-container-id-28 div.sk-parallel {display: flex;align-items: stretch;justify-content: center;background-color: white;position: relative;}#sk-container-id-28 div.sk-item::before, #sk-container-id-28 div.sk-parallel-item::before {content: \"\";position: absolute;border-left: 1px solid gray;box-sizing: border-box;top: 0;bottom: 0;left: 50%;z-index: -1;}#sk-container-id-28 div.sk-parallel-item {display: flex;flex-direction: column;z-index: 1;position: relative;background-color: white;}#sk-container-id-28 div.sk-parallel-item:first-child::after {align-self: flex-end;width: 50%;}#sk-container-id-28 div.sk-parallel-item:last-child::after {align-self: flex-start;width: 50%;}#sk-container-id-28 div.sk-parallel-item:only-child::after {width: 0;}#sk-container-id-28 div.sk-dashed-wrapped {border: 1px dashed gray;margin: 0 0.4em 0.5em 0.4em;box-sizing: border-box;padding-bottom: 0.4em;background-color: white;}#sk-container-id-28 div.sk-label label {font-family: monospace;font-weight: bold;display: inline-block;line-height: 1.2em;}#sk-container-id-28 div.sk-label-container {text-align: center;}#sk-container-id-28 div.sk-container {/* jupyter's `normalize.less` sets `[hidden] { display: none; }` but bootstrap.min.css set `[hidden] { display: none !important; }` so we also need the `!important` here to be able to override the default hidden behavior on the sphinx rendered scikit-learn.org. See: https://github.com/scikit-learn/scikit-learn/issues/21755 */display: inline-block !important;position: relative;}#sk-container-id-28 div.sk-text-repr-fallback {display: none;}</style><div id=\"sk-container-id-28\" class=\"sk-top-container\"><div class=\"sk-text-repr-fallback\"><pre>VotingClassifier(estimators=[(&#x27;LR_model&#x27;, LogisticRegression()),\n                             (&#x27;dt_model&#x27;,\n                              DecisionTreeClassifier(random_state=23)),\n                             (&#x27;svc_model&#x27;, SVC(probability=True)),\n                             (&#x27;rf_model&#x27;,\n                              RandomForestClassifier(random_state=5))],\n                 verbose=True)</pre><b>In a Jupyter environment, please rerun this cell to show the HTML representation or trust the notebook. <br />On GitHub, the HTML representation is unable to render, please try loading this page with nbviewer.org.</b></div><div class=\"sk-container\" hidden><div class=\"sk-item sk-dashed-wrapped\"><div class=\"sk-label-container\"><div class=\"sk-label sk-toggleable\"><input class=\"sk-toggleable__control sk-hidden--visually\" id=\"sk-estimator-id-40\" type=\"checkbox\" ><label for=\"sk-estimator-id-40\" class=\"sk-toggleable__label sk-toggleable__label-arrow\">VotingClassifier</label><div class=\"sk-toggleable__content\"><pre>VotingClassifier(estimators=[(&#x27;LR_model&#x27;, LogisticRegression()),\n                             (&#x27;dt_model&#x27;,\n                              DecisionTreeClassifier(random_state=23)),\n                             (&#x27;svc_model&#x27;, SVC(probability=True)),\n                             (&#x27;rf_model&#x27;,\n                              RandomForestClassifier(random_state=5))],\n                 verbose=True)</pre></div></div></div><div class=\"sk-parallel\"><div class=\"sk-parallel-item\"><div class=\"sk-item\"><div class=\"sk-label-container\"><div class=\"sk-label sk-toggleable\"><label>LR_model</label></div></div><div class=\"sk-serial\"><div class=\"sk-item\"><div class=\"sk-estimator sk-toggleable\"><input class=\"sk-toggleable__control sk-hidden--visually\" id=\"sk-estimator-id-41\" type=\"checkbox\" ><label for=\"sk-estimator-id-41\" class=\"sk-toggleable__label sk-toggleable__label-arrow\">LogisticRegression</label><div class=\"sk-toggleable__content\"><pre>LogisticRegression()</pre></div></div></div></div></div></div><div class=\"sk-parallel-item\"><div class=\"sk-item\"><div class=\"sk-label-container\"><div class=\"sk-label sk-toggleable\"><label>dt_model</label></div></div><div class=\"sk-serial\"><div class=\"sk-item\"><div class=\"sk-estimator sk-toggleable\"><input class=\"sk-toggleable__control sk-hidden--visually\" id=\"sk-estimator-id-42\" type=\"checkbox\" ><label for=\"sk-estimator-id-42\" class=\"sk-toggleable__label sk-toggleable__label-arrow\">DecisionTreeClassifier</label><div class=\"sk-toggleable__content\"><pre>DecisionTreeClassifier(random_state=23)</pre></div></div></div></div></div></div><div class=\"sk-parallel-item\"><div class=\"sk-item\"><div class=\"sk-label-container\"><div class=\"sk-label sk-toggleable\"><label>svc_model</label></div></div><div class=\"sk-serial\"><div class=\"sk-item\"><div class=\"sk-estimator sk-toggleable\"><input class=\"sk-toggleable__control sk-hidden--visually\" id=\"sk-estimator-id-43\" type=\"checkbox\" ><label for=\"sk-estimator-id-43\" class=\"sk-toggleable__label sk-toggleable__label-arrow\">SVC</label><div class=\"sk-toggleable__content\"><pre>SVC(probability=True)</pre></div></div></div></div></div></div><div class=\"sk-parallel-item\"><div class=\"sk-item\"><div class=\"sk-label-container\"><div class=\"sk-label sk-toggleable\"><label>rf_model</label></div></div><div class=\"sk-serial\"><div class=\"sk-item\"><div class=\"sk-estimator sk-toggleable\"><input class=\"sk-toggleable__control sk-hidden--visually\" id=\"sk-estimator-id-44\" type=\"checkbox\" ><label for=\"sk-estimator-id-44\" class=\"sk-toggleable__label sk-toggleable__label-arrow\">RandomForestClassifier</label><div class=\"sk-toggleable__content\"><pre>RandomForestClassifier(random_state=5)</pre></div></div></div></div></div></div></div></div></div></div>"
     },
     "execution_count": 688,
     "metadata": {},
     "output_type": "execute_result"
    }
   ],
   "source": [
    "voting_model.fit(X_train_sc,y_train)"
   ],
   "metadata": {
    "collapsed": false,
    "ExecuteTime": {
     "end_time": "2024-03-11T02:13:13.384247700Z",
     "start_time": "2024-03-11T02:13:06.183906200Z"
    }
   },
   "id": "d8f6a26e878ba279",
   "execution_count": 688
  },
  {
   "cell_type": "code",
   "outputs": [],
   "source": [
    "#이 부분 잘 모르겠음\n",
    "# new_data=pd.DataFrame([X_test.iloc[0]],columns=X_test.columns)\n",
    "# new_data"
   ],
   "metadata": {
    "collapsed": false,
    "ExecuteTime": {
     "end_time": "2024-03-11T02:13:13.429875900Z",
     "start_time": "2024-03-11T02:13:13.384247700Z"
    }
   },
   "id": "697b0a3c7b6b3a09",
   "execution_count": 689
  },
  {
   "cell_type": "code",
   "outputs": [
    {
     "name": "stdout",
     "output_type": "stream",
     "text": [
      "[LogisticRegression] Train score: 0.7691935483870967,Test score: 0.7683870967741936\n",
      "[DecisionTreeClassifier] Train score: 0.8187096774193549,Test score: 0.7561290322580645\n",
      "[RandomForestClassifier] Train score: 0.7733870967741936,Test score: 0.7761290322580645\n"
     ]
    }
   ],
   "source": [
    "print(f'[LogisticRegression] Train score: {LR_model.score(X_train_sc,y_train)},Test score: {LR_model.score(X_test,y_test)}')\n",
    "\n",
    "print(f'[DecisionTreeClassifier] Train score: {dt_model.score(X_train_sc,y_train)},Test score: {dt_model.score(X_test,y_test)}')\n",
    "\n",
    "print(f'[RandomForestClassifier] Train score: {svc_model.score(X_train_sc,y_train)},Test score: {svc_model.score(X_test,y_test)}')"
   ],
   "metadata": {
    "collapsed": false,
    "ExecuteTime": {
     "end_time": "2024-03-11T02:13:16.228291200Z",
     "start_time": "2024-03-11T02:13:13.400148700Z"
    }
   },
   "id": "75de3e3922f362",
   "execution_count": 690
  },
  {
   "cell_type": "code",
   "outputs": [],
   "source": [
    "# 1. 금융 및 보험 서비스 finance work: 518만 루피아\n",
    "# 2. 정보통신 infomation : 505만 루피아\n",
    "# 3. 채광 및 채석 mining: 481만 루피아\n",
    "# 4. 전기 및 가스 조달 electronic&gas: 449만 루피아\n",
    "# 5. 부동산 property: 442만 루피아\n",
    "# 6. 기업 서비스 company service: 393만 루피아\n",
    "# 7. 정부 행정 government administration: 385만 루피아\n",
    "# 8. 건강 서비스 및 사회 활동 health care:\n",
    "# 362만 루피아\n",
    "# 9. 운송 및 창고 transport& ware house: 360만 루피아\n"
   ],
   "metadata": {
    "collapsed": false,
    "ExecuteTime": {
     "end_time": "2024-03-11T02:13:16.265488Z",
     "start_time": "2024-03-11T02:13:16.220264900Z"
    }
   },
   "id": "9c7154401ed363bb",
   "execution_count": 691
  },
  {
   "cell_type": "code",
   "outputs": [],
   "source": [
    "# 모듈 로딩\n",
    "from sklearn.model_selection import GridSearchCV,RandomizedSearchCV\n",
    "\n",
    "# 모델 조합 조건\n",
    "# CV => 기본 5,..\n",
    "# DT의 하이퍼파라미터 => max_depth,gini.....\n",
    "dt_model = DecisionTreeClassifier()\n",
    "n_cv =5\n",
    "params={'criterion':['gini','entropy','log_loss'],\n",
    "        'max_depth':[5,10,15],\n",
    "        'min_samples_split':[2,4,6]\n",
    "        }\n",
    "# 하이퍼파라미터 조합된 모델 생성 후 교차검증 데이터셋으로 학습\n",
    "#시켜주는 인스턴스\n",
    "gs=GridSearchCV(dt_model,param_grid=params,cv=n_cv)"
   ],
   "metadata": {
    "collapsed": false,
    "ExecuteTime": {
     "end_time": "2024-03-11T02:13:16.300012200Z",
     "start_time": "2024-03-11T02:13:16.232053900Z"
    }
   },
   "id": "94f9a0caeaf3609f",
   "execution_count": 692
  },
  {
   "cell_type": "code",
   "outputs": [],
   "source": [
    "# 조합된 모델들의 학습 진행\n",
    "result=gs.fit(X_train_sc,y_train)"
   ],
   "metadata": {
    "collapsed": false,
    "ExecuteTime": {
     "end_time": "2024-03-11T02:13:17.708646100Z",
     "start_time": "2024-03-11T02:13:16.250006200Z"
    }
   },
   "id": "7c50d239cd5e605d",
   "execution_count": 693
  },
  {
   "cell_type": "code",
   "outputs": [
    {
     "data": {
      "text/plain": "(6200, 5)"
     },
     "execution_count": 694,
     "metadata": {},
     "output_type": "execute_result"
    }
   ],
   "source": [
    "X_train_sc.shape"
   ],
   "metadata": {
    "collapsed": false,
    "ExecuteTime": {
     "end_time": "2024-03-11T02:13:17.741706600Z",
     "start_time": "2024-03-11T02:13:17.710290800Z"
    }
   },
   "id": "2200c3ad82e25bb6",
   "execution_count": 694
  },
  {
   "cell_type": "code",
   "outputs": [
    {
     "data": {
      "text/plain": "GridSearchCV(cv=5, estimator=DecisionTreeClassifier(),\n             param_grid={'criterion': ['gini', 'entropy', 'log_loss'],\n                         'max_depth': [5, 10, 15],\n                         'min_samples_split': [2, 4, 6]})",
      "text/html": "<style>#sk-container-id-29 {color: black;}#sk-container-id-29 pre{padding: 0;}#sk-container-id-29 div.sk-toggleable {background-color: white;}#sk-container-id-29 label.sk-toggleable__label {cursor: pointer;display: block;width: 100%;margin-bottom: 0;padding: 0.3em;box-sizing: border-box;text-align: center;}#sk-container-id-29 label.sk-toggleable__label-arrow:before {content: \"▸\";float: left;margin-right: 0.25em;color: #696969;}#sk-container-id-29 label.sk-toggleable__label-arrow:hover:before {color: black;}#sk-container-id-29 div.sk-estimator:hover label.sk-toggleable__label-arrow:before {color: black;}#sk-container-id-29 div.sk-toggleable__content {max-height: 0;max-width: 0;overflow: hidden;text-align: left;background-color: #f0f8ff;}#sk-container-id-29 div.sk-toggleable__content pre {margin: 0.2em;color: black;border-radius: 0.25em;background-color: #f0f8ff;}#sk-container-id-29 input.sk-toggleable__control:checked~div.sk-toggleable__content {max-height: 200px;max-width: 100%;overflow: auto;}#sk-container-id-29 input.sk-toggleable__control:checked~label.sk-toggleable__label-arrow:before {content: \"▾\";}#sk-container-id-29 div.sk-estimator input.sk-toggleable__control:checked~label.sk-toggleable__label {background-color: #d4ebff;}#sk-container-id-29 div.sk-label input.sk-toggleable__control:checked~label.sk-toggleable__label {background-color: #d4ebff;}#sk-container-id-29 input.sk-hidden--visually {border: 0;clip: rect(1px 1px 1px 1px);clip: rect(1px, 1px, 1px, 1px);height: 1px;margin: -1px;overflow: hidden;padding: 0;position: absolute;width: 1px;}#sk-container-id-29 div.sk-estimator {font-family: monospace;background-color: #f0f8ff;border: 1px dotted black;border-radius: 0.25em;box-sizing: border-box;margin-bottom: 0.5em;}#sk-container-id-29 div.sk-estimator:hover {background-color: #d4ebff;}#sk-container-id-29 div.sk-parallel-item::after {content: \"\";width: 100%;border-bottom: 1px solid gray;flex-grow: 1;}#sk-container-id-29 div.sk-label:hover label.sk-toggleable__label {background-color: #d4ebff;}#sk-container-id-29 div.sk-serial::before {content: \"\";position: absolute;border-left: 1px solid gray;box-sizing: border-box;top: 0;bottom: 0;left: 50%;z-index: 0;}#sk-container-id-29 div.sk-serial {display: flex;flex-direction: column;align-items: center;background-color: white;padding-right: 0.2em;padding-left: 0.2em;position: relative;}#sk-container-id-29 div.sk-item {position: relative;z-index: 1;}#sk-container-id-29 div.sk-parallel {display: flex;align-items: stretch;justify-content: center;background-color: white;position: relative;}#sk-container-id-29 div.sk-item::before, #sk-container-id-29 div.sk-parallel-item::before {content: \"\";position: absolute;border-left: 1px solid gray;box-sizing: border-box;top: 0;bottom: 0;left: 50%;z-index: -1;}#sk-container-id-29 div.sk-parallel-item {display: flex;flex-direction: column;z-index: 1;position: relative;background-color: white;}#sk-container-id-29 div.sk-parallel-item:first-child::after {align-self: flex-end;width: 50%;}#sk-container-id-29 div.sk-parallel-item:last-child::after {align-self: flex-start;width: 50%;}#sk-container-id-29 div.sk-parallel-item:only-child::after {width: 0;}#sk-container-id-29 div.sk-dashed-wrapped {border: 1px dashed gray;margin: 0 0.4em 0.5em 0.4em;box-sizing: border-box;padding-bottom: 0.4em;background-color: white;}#sk-container-id-29 div.sk-label label {font-family: monospace;font-weight: bold;display: inline-block;line-height: 1.2em;}#sk-container-id-29 div.sk-label-container {text-align: center;}#sk-container-id-29 div.sk-container {/* jupyter's `normalize.less` sets `[hidden] { display: none; }` but bootstrap.min.css set `[hidden] { display: none !important; }` so we also need the `!important` here to be able to override the default hidden behavior on the sphinx rendered scikit-learn.org. See: https://github.com/scikit-learn/scikit-learn/issues/21755 */display: inline-block !important;position: relative;}#sk-container-id-29 div.sk-text-repr-fallback {display: none;}</style><div id=\"sk-container-id-29\" class=\"sk-top-container\"><div class=\"sk-text-repr-fallback\"><pre>GridSearchCV(cv=5, estimator=DecisionTreeClassifier(),\n             param_grid={&#x27;criterion&#x27;: [&#x27;gini&#x27;, &#x27;entropy&#x27;, &#x27;log_loss&#x27;],\n                         &#x27;max_depth&#x27;: [5, 10, 15],\n                         &#x27;min_samples_split&#x27;: [2, 4, 6]})</pre><b>In a Jupyter environment, please rerun this cell to show the HTML representation or trust the notebook. <br />On GitHub, the HTML representation is unable to render, please try loading this page with nbviewer.org.</b></div><div class=\"sk-container\" hidden><div class=\"sk-item sk-dashed-wrapped\"><div class=\"sk-label-container\"><div class=\"sk-label sk-toggleable\"><input class=\"sk-toggleable__control sk-hidden--visually\" id=\"sk-estimator-id-45\" type=\"checkbox\" ><label for=\"sk-estimator-id-45\" class=\"sk-toggleable__label sk-toggleable__label-arrow\">GridSearchCV</label><div class=\"sk-toggleable__content\"><pre>GridSearchCV(cv=5, estimator=DecisionTreeClassifier(),\n             param_grid={&#x27;criterion&#x27;: [&#x27;gini&#x27;, &#x27;entropy&#x27;, &#x27;log_loss&#x27;],\n                         &#x27;max_depth&#x27;: [5, 10, 15],\n                         &#x27;min_samples_split&#x27;: [2, 4, 6]})</pre></div></div></div><div class=\"sk-parallel\"><div class=\"sk-parallel-item\"><div class=\"sk-item\"><div class=\"sk-label-container\"><div class=\"sk-label sk-toggleable\"><input class=\"sk-toggleable__control sk-hidden--visually\" id=\"sk-estimator-id-46\" type=\"checkbox\" ><label for=\"sk-estimator-id-46\" class=\"sk-toggleable__label sk-toggleable__label-arrow\">estimator: DecisionTreeClassifier</label><div class=\"sk-toggleable__content\"><pre>DecisionTreeClassifier()</pre></div></div></div><div class=\"sk-serial\"><div class=\"sk-item\"><div class=\"sk-estimator sk-toggleable\"><input class=\"sk-toggleable__control sk-hidden--visually\" id=\"sk-estimator-id-47\" type=\"checkbox\" ><label for=\"sk-estimator-id-47\" class=\"sk-toggleable__label sk-toggleable__label-arrow\">DecisionTreeClassifier</label><div class=\"sk-toggleable__content\"><pre>DecisionTreeClassifier()</pre></div></div></div></div></div></div></div></div></div></div>"
     },
     "execution_count": 695,
     "metadata": {},
     "output_type": "execute_result"
    }
   ],
   "source": [
    "# 결과 확인 \n",
    "result"
   ],
   "metadata": {
    "collapsed": false,
    "ExecuteTime": {
     "end_time": "2024-03-11T02:13:17.775659600Z",
     "start_time": "2024-03-11T02:13:17.723899800Z"
    }
   },
   "id": "8cfb7f77734b7f02",
   "execution_count": 695
  },
  {
   "cell_type": "code",
   "outputs": [],
   "source": [
    "# 학습 후 저장된 모델 파라미터 확인 \n",
    "#교차 학습의 결과 알려주는 코드\n",
    "gs.cv_results_\n",
    "#보기 불편해서 데이터 프레임에 담기\n",
    "cv_resultsDF=pd.DataFrame(gs.cv_results_)"
   ],
   "metadata": {
    "collapsed": false,
    "ExecuteTime": {
     "end_time": "2024-03-11T02:13:17.874762100Z",
     "start_time": "2024-03-11T02:13:17.741706600Z"
    }
   },
   "id": "c18bd0bdcd1f5eba",
   "execution_count": 696
  },
  {
   "cell_type": "code",
   "outputs": [
    {
     "data": {
      "text/plain": "    mean_fit_time  std_fit_time  mean_score_time  std_score_time  \\\n0        0.008237      0.007544         0.000368        0.000451   \n1        0.005170      0.006687         0.005012        0.009437   \n2        0.003616      0.005258         0.003006        0.005058   \n3        0.013117      0.006585         0.000000        0.000000   \n4        0.007180      0.007933         0.002826        0.005652   \n5        0.006026      0.007839         0.003506        0.006139   \n6        0.011668      0.005097         0.001483        0.000995   \n7        0.006249      0.007654         0.003138        0.006277   \n8        0.006373      0.007808         0.000000        0.000000   \n9        0.003123      0.006246         0.003141        0.006283   \n10       0.009737      0.003434         0.001610        0.001008   \n11       0.006400      0.007841         0.003016        0.006032   \n12       0.006796      0.005086         0.001226        0.001647   \n13       0.007928      0.006145         0.003394        0.005843   \n14       0.007671      0.001051         0.001753        0.000388   \n15       0.010146      0.004475         0.001414        0.001206   \n16       0.009761      0.005307         0.000997        0.001261   \n17       0.007133      0.007268         0.003322        0.005911   \n18       0.003460      0.006043         0.003126        0.006251   \n19       0.006388      0.007879         0.000190        0.000379   \n20       0.003618      0.006647         0.002915        0.005829   \n21       0.009845      0.008045         0.003025        0.005783   \n22       0.010048      0.004874         0.000399        0.000797   \n23       0.011927      0.005755         0.001375        0.001174   \n24       0.007334      0.007295         0.005649        0.006966   \n25       0.013589      0.006389         0.000000        0.000000   \n26       0.016634      0.000210         0.000000        0.000000   \n\n   param_criterion param_max_depth param_min_samples_split  \\\n0             gini               5                       2   \n1             gini               5                       4   \n2             gini               5                       6   \n3             gini              10                       2   \n4             gini              10                       4   \n5             gini              10                       6   \n6             gini              15                       2   \n7             gini              15                       4   \n8             gini              15                       6   \n9          entropy               5                       2   \n10         entropy               5                       4   \n11         entropy               5                       6   \n12         entropy              10                       2   \n13         entropy              10                       4   \n14         entropy              10                       6   \n15         entropy              15                       2   \n16         entropy              15                       4   \n17         entropy              15                       6   \n18        log_loss               5                       2   \n19        log_loss               5                       4   \n20        log_loss               5                       6   \n21        log_loss              10                       2   \n22        log_loss              10                       4   \n23        log_loss              10                       6   \n24        log_loss              15                       2   \n25        log_loss              15                       4   \n26        log_loss              15                       6   \n\n                                               params  split0_test_score  \\\n0   {'criterion': 'gini', 'max_depth': 5, 'min_sam...           0.762097   \n1   {'criterion': 'gini', 'max_depth': 5, 'min_sam...           0.762097   \n2   {'criterion': 'gini', 'max_depth': 5, 'min_sam...           0.762097   \n3   {'criterion': 'gini', 'max_depth': 10, 'min_sa...           0.766935   \n4   {'criterion': 'gini', 'max_depth': 10, 'min_sa...           0.767742   \n5   {'criterion': 'gini', 'max_depth': 10, 'min_sa...           0.768548   \n6   {'criterion': 'gini', 'max_depth': 15, 'min_sa...           0.759677   \n7   {'criterion': 'gini', 'max_depth': 15, 'min_sa...           0.761290   \n8   {'criterion': 'gini', 'max_depth': 15, 'min_sa...           0.760484   \n9   {'criterion': 'entropy', 'max_depth': 5, 'min_...           0.762903   \n10  {'criterion': 'entropy', 'max_depth': 5, 'min_...           0.762903   \n11  {'criterion': 'entropy', 'max_depth': 5, 'min_...           0.762097   \n12  {'criterion': 'entropy', 'max_depth': 10, 'min...           0.758065   \n13  {'criterion': 'entropy', 'max_depth': 10, 'min...           0.759677   \n14  {'criterion': 'entropy', 'max_depth': 10, 'min...           0.759677   \n15  {'criterion': 'entropy', 'max_depth': 15, 'min...           0.757258   \n16  {'criterion': 'entropy', 'max_depth': 15, 'min...           0.761290   \n17  {'criterion': 'entropy', 'max_depth': 15, 'min...           0.760484   \n18  {'criterion': 'log_loss', 'max_depth': 5, 'min...           0.762903   \n19  {'criterion': 'log_loss', 'max_depth': 5, 'min...           0.762903   \n20  {'criterion': 'log_loss', 'max_depth': 5, 'min...           0.762097   \n21  {'criterion': 'log_loss', 'max_depth': 10, 'mi...           0.757258   \n22  {'criterion': 'log_loss', 'max_depth': 10, 'mi...           0.759677   \n23  {'criterion': 'log_loss', 'max_depth': 10, 'mi...           0.759677   \n24  {'criterion': 'log_loss', 'max_depth': 15, 'mi...           0.757258   \n25  {'criterion': 'log_loss', 'max_depth': 15, 'mi...           0.761290   \n26  {'criterion': 'log_loss', 'max_depth': 15, 'mi...           0.760484   \n\n    split1_test_score  split2_test_score  split3_test_score  \\\n0            0.754839           0.811290           0.777419   \n1            0.754839           0.811290           0.777419   \n2            0.754839           0.811290           0.777419   \n3            0.747581           0.770968           0.766129   \n4            0.749194           0.773387           0.771774   \n5            0.749194           0.771774           0.771774   \n6            0.740323           0.754839           0.745968   \n7            0.740323           0.757258           0.750806   \n8            0.741935           0.757258           0.750000   \n9            0.747581           0.812903           0.778226   \n10           0.747581           0.812903           0.778226   \n11           0.747581           0.812903           0.778226   \n12           0.746774           0.775000           0.762097   \n13           0.748387           0.776613           0.768548   \n14           0.748387           0.775806           0.766129   \n15           0.737097           0.754839           0.741129   \n16           0.737097           0.755645           0.750806   \n17           0.738710           0.758065           0.751613   \n18           0.747581           0.812903           0.778226   \n19           0.747581           0.812903           0.778226   \n20           0.747581           0.812903           0.778226   \n21           0.746774           0.775000           0.762097   \n22           0.748387           0.777419           0.767742   \n23           0.748387           0.775806           0.768548   \n24           0.737097           0.754839           0.743548   \n25           0.736290           0.754839           0.747581   \n26           0.738710           0.758065           0.750000   \n\n    split4_test_score  mean_test_score  std_test_score  rank_test_score  \n0            0.778226         0.776774        0.019445                1  \n1            0.778226         0.776774        0.019445                1  \n2            0.778226         0.776774        0.019445                1  \n3            0.760484         0.762419        0.008138               12  \n4            0.762097         0.764839        0.008739               10  \n5            0.762903         0.764839        0.008467               11  \n6            0.750806         0.750323        0.006740               25  \n7            0.752419         0.752419        0.007086               22  \n8            0.755645         0.753065        0.006520               19  \n9            0.779032         0.776129        0.021703                4  \n10           0.779032         0.776129        0.021703                4  \n11           0.779032         0.775968        0.021803                8  \n12           0.754032         0.759194        0.009385               17  \n13           0.755645         0.761774        0.009872               15  \n14           0.757258         0.761452        0.009158               16  \n15           0.751613         0.748387        0.007885               27  \n16           0.754839         0.751935        0.008138               23  \n17           0.756452         0.753065        0.007742               20  \n18           0.779032         0.776129        0.021703                4  \n19           0.779032         0.776129        0.021703                4  \n20           0.779032         0.775968        0.021803                8  \n21           0.754032         0.759032        0.009410               18  \n22           0.756452         0.761935        0.009922               13  \n23           0.757258         0.761935        0.009452               13  \n24           0.750806         0.748710        0.007437               26  \n25           0.754839         0.750968        0.008526               24  \n26           0.756452         0.752742        0.007829               21  ",
      "text/html": "<div>\n<style scoped>\n    .dataframe tbody tr th:only-of-type {\n        vertical-align: middle;\n    }\n\n    .dataframe tbody tr th {\n        vertical-align: top;\n    }\n\n    .dataframe thead th {\n        text-align: right;\n    }\n</style>\n<table border=\"1\" class=\"dataframe\">\n  <thead>\n    <tr style=\"text-align: right;\">\n      <th></th>\n      <th>mean_fit_time</th>\n      <th>std_fit_time</th>\n      <th>mean_score_time</th>\n      <th>std_score_time</th>\n      <th>param_criterion</th>\n      <th>param_max_depth</th>\n      <th>param_min_samples_split</th>\n      <th>params</th>\n      <th>split0_test_score</th>\n      <th>split1_test_score</th>\n      <th>split2_test_score</th>\n      <th>split3_test_score</th>\n      <th>split4_test_score</th>\n      <th>mean_test_score</th>\n      <th>std_test_score</th>\n      <th>rank_test_score</th>\n    </tr>\n  </thead>\n  <tbody>\n    <tr>\n      <th>0</th>\n      <td>0.008237</td>\n      <td>0.007544</td>\n      <td>0.000368</td>\n      <td>0.000451</td>\n      <td>gini</td>\n      <td>5</td>\n      <td>2</td>\n      <td>{'criterion': 'gini', 'max_depth': 5, 'min_sam...</td>\n      <td>0.762097</td>\n      <td>0.754839</td>\n      <td>0.811290</td>\n      <td>0.777419</td>\n      <td>0.778226</td>\n      <td>0.776774</td>\n      <td>0.019445</td>\n      <td>1</td>\n    </tr>\n    <tr>\n      <th>1</th>\n      <td>0.005170</td>\n      <td>0.006687</td>\n      <td>0.005012</td>\n      <td>0.009437</td>\n      <td>gini</td>\n      <td>5</td>\n      <td>4</td>\n      <td>{'criterion': 'gini', 'max_depth': 5, 'min_sam...</td>\n      <td>0.762097</td>\n      <td>0.754839</td>\n      <td>0.811290</td>\n      <td>0.777419</td>\n      <td>0.778226</td>\n      <td>0.776774</td>\n      <td>0.019445</td>\n      <td>1</td>\n    </tr>\n    <tr>\n      <th>2</th>\n      <td>0.003616</td>\n      <td>0.005258</td>\n      <td>0.003006</td>\n      <td>0.005058</td>\n      <td>gini</td>\n      <td>5</td>\n      <td>6</td>\n      <td>{'criterion': 'gini', 'max_depth': 5, 'min_sam...</td>\n      <td>0.762097</td>\n      <td>0.754839</td>\n      <td>0.811290</td>\n      <td>0.777419</td>\n      <td>0.778226</td>\n      <td>0.776774</td>\n      <td>0.019445</td>\n      <td>1</td>\n    </tr>\n    <tr>\n      <th>3</th>\n      <td>0.013117</td>\n      <td>0.006585</td>\n      <td>0.000000</td>\n      <td>0.000000</td>\n      <td>gini</td>\n      <td>10</td>\n      <td>2</td>\n      <td>{'criterion': 'gini', 'max_depth': 10, 'min_sa...</td>\n      <td>0.766935</td>\n      <td>0.747581</td>\n      <td>0.770968</td>\n      <td>0.766129</td>\n      <td>0.760484</td>\n      <td>0.762419</td>\n      <td>0.008138</td>\n      <td>12</td>\n    </tr>\n    <tr>\n      <th>4</th>\n      <td>0.007180</td>\n      <td>0.007933</td>\n      <td>0.002826</td>\n      <td>0.005652</td>\n      <td>gini</td>\n      <td>10</td>\n      <td>4</td>\n      <td>{'criterion': 'gini', 'max_depth': 10, 'min_sa...</td>\n      <td>0.767742</td>\n      <td>0.749194</td>\n      <td>0.773387</td>\n      <td>0.771774</td>\n      <td>0.762097</td>\n      <td>0.764839</td>\n      <td>0.008739</td>\n      <td>10</td>\n    </tr>\n    <tr>\n      <th>5</th>\n      <td>0.006026</td>\n      <td>0.007839</td>\n      <td>0.003506</td>\n      <td>0.006139</td>\n      <td>gini</td>\n      <td>10</td>\n      <td>6</td>\n      <td>{'criterion': 'gini', 'max_depth': 10, 'min_sa...</td>\n      <td>0.768548</td>\n      <td>0.749194</td>\n      <td>0.771774</td>\n      <td>0.771774</td>\n      <td>0.762903</td>\n      <td>0.764839</td>\n      <td>0.008467</td>\n      <td>11</td>\n    </tr>\n    <tr>\n      <th>6</th>\n      <td>0.011668</td>\n      <td>0.005097</td>\n      <td>0.001483</td>\n      <td>0.000995</td>\n      <td>gini</td>\n      <td>15</td>\n      <td>2</td>\n      <td>{'criterion': 'gini', 'max_depth': 15, 'min_sa...</td>\n      <td>0.759677</td>\n      <td>0.740323</td>\n      <td>0.754839</td>\n      <td>0.745968</td>\n      <td>0.750806</td>\n      <td>0.750323</td>\n      <td>0.006740</td>\n      <td>25</td>\n    </tr>\n    <tr>\n      <th>7</th>\n      <td>0.006249</td>\n      <td>0.007654</td>\n      <td>0.003138</td>\n      <td>0.006277</td>\n      <td>gini</td>\n      <td>15</td>\n      <td>4</td>\n      <td>{'criterion': 'gini', 'max_depth': 15, 'min_sa...</td>\n      <td>0.761290</td>\n      <td>0.740323</td>\n      <td>0.757258</td>\n      <td>0.750806</td>\n      <td>0.752419</td>\n      <td>0.752419</td>\n      <td>0.007086</td>\n      <td>22</td>\n    </tr>\n    <tr>\n      <th>8</th>\n      <td>0.006373</td>\n      <td>0.007808</td>\n      <td>0.000000</td>\n      <td>0.000000</td>\n      <td>gini</td>\n      <td>15</td>\n      <td>6</td>\n      <td>{'criterion': 'gini', 'max_depth': 15, 'min_sa...</td>\n      <td>0.760484</td>\n      <td>0.741935</td>\n      <td>0.757258</td>\n      <td>0.750000</td>\n      <td>0.755645</td>\n      <td>0.753065</td>\n      <td>0.006520</td>\n      <td>19</td>\n    </tr>\n    <tr>\n      <th>9</th>\n      <td>0.003123</td>\n      <td>0.006246</td>\n      <td>0.003141</td>\n      <td>0.006283</td>\n      <td>entropy</td>\n      <td>5</td>\n      <td>2</td>\n      <td>{'criterion': 'entropy', 'max_depth': 5, 'min_...</td>\n      <td>0.762903</td>\n      <td>0.747581</td>\n      <td>0.812903</td>\n      <td>0.778226</td>\n      <td>0.779032</td>\n      <td>0.776129</td>\n      <td>0.021703</td>\n      <td>4</td>\n    </tr>\n    <tr>\n      <th>10</th>\n      <td>0.009737</td>\n      <td>0.003434</td>\n      <td>0.001610</td>\n      <td>0.001008</td>\n      <td>entropy</td>\n      <td>5</td>\n      <td>4</td>\n      <td>{'criterion': 'entropy', 'max_depth': 5, 'min_...</td>\n      <td>0.762903</td>\n      <td>0.747581</td>\n      <td>0.812903</td>\n      <td>0.778226</td>\n      <td>0.779032</td>\n      <td>0.776129</td>\n      <td>0.021703</td>\n      <td>4</td>\n    </tr>\n    <tr>\n      <th>11</th>\n      <td>0.006400</td>\n      <td>0.007841</td>\n      <td>0.003016</td>\n      <td>0.006032</td>\n      <td>entropy</td>\n      <td>5</td>\n      <td>6</td>\n      <td>{'criterion': 'entropy', 'max_depth': 5, 'min_...</td>\n      <td>0.762097</td>\n      <td>0.747581</td>\n      <td>0.812903</td>\n      <td>0.778226</td>\n      <td>0.779032</td>\n      <td>0.775968</td>\n      <td>0.021803</td>\n      <td>8</td>\n    </tr>\n    <tr>\n      <th>12</th>\n      <td>0.006796</td>\n      <td>0.005086</td>\n      <td>0.001226</td>\n      <td>0.001647</td>\n      <td>entropy</td>\n      <td>10</td>\n      <td>2</td>\n      <td>{'criterion': 'entropy', 'max_depth': 10, 'min...</td>\n      <td>0.758065</td>\n      <td>0.746774</td>\n      <td>0.775000</td>\n      <td>0.762097</td>\n      <td>0.754032</td>\n      <td>0.759194</td>\n      <td>0.009385</td>\n      <td>17</td>\n    </tr>\n    <tr>\n      <th>13</th>\n      <td>0.007928</td>\n      <td>0.006145</td>\n      <td>0.003394</td>\n      <td>0.005843</td>\n      <td>entropy</td>\n      <td>10</td>\n      <td>4</td>\n      <td>{'criterion': 'entropy', 'max_depth': 10, 'min...</td>\n      <td>0.759677</td>\n      <td>0.748387</td>\n      <td>0.776613</td>\n      <td>0.768548</td>\n      <td>0.755645</td>\n      <td>0.761774</td>\n      <td>0.009872</td>\n      <td>15</td>\n    </tr>\n    <tr>\n      <th>14</th>\n      <td>0.007671</td>\n      <td>0.001051</td>\n      <td>0.001753</td>\n      <td>0.000388</td>\n      <td>entropy</td>\n      <td>10</td>\n      <td>6</td>\n      <td>{'criterion': 'entropy', 'max_depth': 10, 'min...</td>\n      <td>0.759677</td>\n      <td>0.748387</td>\n      <td>0.775806</td>\n      <td>0.766129</td>\n      <td>0.757258</td>\n      <td>0.761452</td>\n      <td>0.009158</td>\n      <td>16</td>\n    </tr>\n    <tr>\n      <th>15</th>\n      <td>0.010146</td>\n      <td>0.004475</td>\n      <td>0.001414</td>\n      <td>0.001206</td>\n      <td>entropy</td>\n      <td>15</td>\n      <td>2</td>\n      <td>{'criterion': 'entropy', 'max_depth': 15, 'min...</td>\n      <td>0.757258</td>\n      <td>0.737097</td>\n      <td>0.754839</td>\n      <td>0.741129</td>\n      <td>0.751613</td>\n      <td>0.748387</td>\n      <td>0.007885</td>\n      <td>27</td>\n    </tr>\n    <tr>\n      <th>16</th>\n      <td>0.009761</td>\n      <td>0.005307</td>\n      <td>0.000997</td>\n      <td>0.001261</td>\n      <td>entropy</td>\n      <td>15</td>\n      <td>4</td>\n      <td>{'criterion': 'entropy', 'max_depth': 15, 'min...</td>\n      <td>0.761290</td>\n      <td>0.737097</td>\n      <td>0.755645</td>\n      <td>0.750806</td>\n      <td>0.754839</td>\n      <td>0.751935</td>\n      <td>0.008138</td>\n      <td>23</td>\n    </tr>\n    <tr>\n      <th>17</th>\n      <td>0.007133</td>\n      <td>0.007268</td>\n      <td>0.003322</td>\n      <td>0.005911</td>\n      <td>entropy</td>\n      <td>15</td>\n      <td>6</td>\n      <td>{'criterion': 'entropy', 'max_depth': 15, 'min...</td>\n      <td>0.760484</td>\n      <td>0.738710</td>\n      <td>0.758065</td>\n      <td>0.751613</td>\n      <td>0.756452</td>\n      <td>0.753065</td>\n      <td>0.007742</td>\n      <td>20</td>\n    </tr>\n    <tr>\n      <th>18</th>\n      <td>0.003460</td>\n      <td>0.006043</td>\n      <td>0.003126</td>\n      <td>0.006251</td>\n      <td>log_loss</td>\n      <td>5</td>\n      <td>2</td>\n      <td>{'criterion': 'log_loss', 'max_depth': 5, 'min...</td>\n      <td>0.762903</td>\n      <td>0.747581</td>\n      <td>0.812903</td>\n      <td>0.778226</td>\n      <td>0.779032</td>\n      <td>0.776129</td>\n      <td>0.021703</td>\n      <td>4</td>\n    </tr>\n    <tr>\n      <th>19</th>\n      <td>0.006388</td>\n      <td>0.007879</td>\n      <td>0.000190</td>\n      <td>0.000379</td>\n      <td>log_loss</td>\n      <td>5</td>\n      <td>4</td>\n      <td>{'criterion': 'log_loss', 'max_depth': 5, 'min...</td>\n      <td>0.762903</td>\n      <td>0.747581</td>\n      <td>0.812903</td>\n      <td>0.778226</td>\n      <td>0.779032</td>\n      <td>0.776129</td>\n      <td>0.021703</td>\n      <td>4</td>\n    </tr>\n    <tr>\n      <th>20</th>\n      <td>0.003618</td>\n      <td>0.006647</td>\n      <td>0.002915</td>\n      <td>0.005829</td>\n      <td>log_loss</td>\n      <td>5</td>\n      <td>6</td>\n      <td>{'criterion': 'log_loss', 'max_depth': 5, 'min...</td>\n      <td>0.762097</td>\n      <td>0.747581</td>\n      <td>0.812903</td>\n      <td>0.778226</td>\n      <td>0.779032</td>\n      <td>0.775968</td>\n      <td>0.021803</td>\n      <td>8</td>\n    </tr>\n    <tr>\n      <th>21</th>\n      <td>0.009845</td>\n      <td>0.008045</td>\n      <td>0.003025</td>\n      <td>0.005783</td>\n      <td>log_loss</td>\n      <td>10</td>\n      <td>2</td>\n      <td>{'criterion': 'log_loss', 'max_depth': 10, 'mi...</td>\n      <td>0.757258</td>\n      <td>0.746774</td>\n      <td>0.775000</td>\n      <td>0.762097</td>\n      <td>0.754032</td>\n      <td>0.759032</td>\n      <td>0.009410</td>\n      <td>18</td>\n    </tr>\n    <tr>\n      <th>22</th>\n      <td>0.010048</td>\n      <td>0.004874</td>\n      <td>0.000399</td>\n      <td>0.000797</td>\n      <td>log_loss</td>\n      <td>10</td>\n      <td>4</td>\n      <td>{'criterion': 'log_loss', 'max_depth': 10, 'mi...</td>\n      <td>0.759677</td>\n      <td>0.748387</td>\n      <td>0.777419</td>\n      <td>0.767742</td>\n      <td>0.756452</td>\n      <td>0.761935</td>\n      <td>0.009922</td>\n      <td>13</td>\n    </tr>\n    <tr>\n      <th>23</th>\n      <td>0.011927</td>\n      <td>0.005755</td>\n      <td>0.001375</td>\n      <td>0.001174</td>\n      <td>log_loss</td>\n      <td>10</td>\n      <td>6</td>\n      <td>{'criterion': 'log_loss', 'max_depth': 10, 'mi...</td>\n      <td>0.759677</td>\n      <td>0.748387</td>\n      <td>0.775806</td>\n      <td>0.768548</td>\n      <td>0.757258</td>\n      <td>0.761935</td>\n      <td>0.009452</td>\n      <td>13</td>\n    </tr>\n    <tr>\n      <th>24</th>\n      <td>0.007334</td>\n      <td>0.007295</td>\n      <td>0.005649</td>\n      <td>0.006966</td>\n      <td>log_loss</td>\n      <td>15</td>\n      <td>2</td>\n      <td>{'criterion': 'log_loss', 'max_depth': 15, 'mi...</td>\n      <td>0.757258</td>\n      <td>0.737097</td>\n      <td>0.754839</td>\n      <td>0.743548</td>\n      <td>0.750806</td>\n      <td>0.748710</td>\n      <td>0.007437</td>\n      <td>26</td>\n    </tr>\n    <tr>\n      <th>25</th>\n      <td>0.013589</td>\n      <td>0.006389</td>\n      <td>0.000000</td>\n      <td>0.000000</td>\n      <td>log_loss</td>\n      <td>15</td>\n      <td>4</td>\n      <td>{'criterion': 'log_loss', 'max_depth': 15, 'mi...</td>\n      <td>0.761290</td>\n      <td>0.736290</td>\n      <td>0.754839</td>\n      <td>0.747581</td>\n      <td>0.754839</td>\n      <td>0.750968</td>\n      <td>0.008526</td>\n      <td>24</td>\n    </tr>\n    <tr>\n      <th>26</th>\n      <td>0.016634</td>\n      <td>0.000210</td>\n      <td>0.000000</td>\n      <td>0.000000</td>\n      <td>log_loss</td>\n      <td>15</td>\n      <td>6</td>\n      <td>{'criterion': 'log_loss', 'max_depth': 15, 'mi...</td>\n      <td>0.760484</td>\n      <td>0.738710</td>\n      <td>0.758065</td>\n      <td>0.750000</td>\n      <td>0.756452</td>\n      <td>0.752742</td>\n      <td>0.007829</td>\n      <td>21</td>\n    </tr>\n  </tbody>\n</table>\n</div>"
     },
     "execution_count": 697,
     "metadata": {},
     "output_type": "execute_result"
    }
   ],
   "source": [
    "cv_resultsDF"
   ],
   "metadata": {
    "collapsed": false,
    "ExecuteTime": {
     "end_time": "2024-03-11T02:13:17.891162900Z",
     "start_time": "2024-03-11T02:13:17.782985600Z"
    }
   },
   "id": "3a97f8ec43ae74f4",
   "execution_count": 697
  },
  {
   "cell_type": "code",
   "outputs": [
    {
     "data": {
      "text/plain": "{'criterion': 'gini', 'max_depth': 5, 'min_samples_split': 2}"
     },
     "execution_count": 698,
     "metadata": {},
     "output_type": "execute_result"
    }
   ],
   "source": [
    "# 조합된 모델 중 최고의 성능을 내는 하이퍼파라미터\n",
    "gs.best_params_"
   ],
   "metadata": {
    "collapsed": false,
    "ExecuteTime": {
     "end_time": "2024-03-11T02:13:17.991548500Z",
     "start_time": "2024-03-11T02:13:17.792103800Z"
    }
   },
   "id": "9ffa07b15f1a10d4",
   "execution_count": 698
  },
  {
   "cell_type": "code",
   "outputs": [],
   "source": [
    "# 조합된 모델 중 최고의 성능을 내는 모델 인스턴스\n",
    "my_best_model=gs.best_estimator_"
   ],
   "metadata": {
    "collapsed": false,
    "ExecuteTime": {
     "end_time": "2024-03-11T02:13:17.991548500Z",
     "start_time": "2024-03-11T02:13:17.809524500Z"
    }
   },
   "id": "4212bdffaecf4d8a",
   "execution_count": 699
  },
  {
   "cell_type": "code",
   "outputs": [
    {
     "data": {
      "text/plain": "0.7767741935483871"
     },
     "execution_count": 700,
     "metadata": {},
     "output_type": "execute_result"
    }
   ],
   "source": [
    "#조합된 모델 중 최고의 점수\n",
    "gs.best_score_  #테스트 스코어가 기준, 만약 트레인 스코어가 보고 싶으면, return_train_score 부분을 False로 해준다."
   ],
   "metadata": {
    "collapsed": false,
    "ExecuteTime": {
     "end_time": "2024-03-11T02:13:18.026889100Z",
     "start_time": "2024-03-11T02:13:17.827574500Z"
    }
   },
   "id": "bd91350735f23deb",
   "execution_count": 700
  },
  {
   "cell_type": "markdown",
   "source": [
    "[6] 학습 및 튜닝 후 모델 저장 <hr>\n",
    "-다른 파일에서 활용이 가능한 파일 형태로 저장\n",
    "-웹/앱 원하는 곳에서 활용가능\n",
    "-scikit-learn에서는 pickle 포맷으로 저장\n",
    "-joblib 모듈에 해당 기능 포함되어 있음"
   ],
   "metadata": {
    "collapsed": false
   },
   "id": "9837b56a140a4e2d"
  },
  {
   "cell_type": "code",
   "outputs": [],
   "source": [
    "import joblib \n",
    "import os"
   ],
   "metadata": {
    "collapsed": false,
    "ExecuteTime": {
     "end_time": "2024-03-11T02:13:18.026889100Z",
     "start_time": "2024-03-11T02:13:17.841132300Z"
    }
   },
   "id": "bd10dce0228fabf6",
   "execution_count": 701
  },
  {
   "cell_type": "code",
   "outputs": [],
   "source": [
    "# 모델 저장\n",
    "model_dir='../model/'\n",
    "model_filename=model_dir+'bald_dt.pkl'\n",
    "\n",
    "if not os.path.exists(model_dir):\n",
    "    os.mkdir(model_dir)\n"
   ],
   "metadata": {
    "collapsed": false,
    "ExecuteTime": {
     "end_time": "2024-03-11T02:13:18.026889100Z",
     "start_time": "2024-03-11T02:13:17.861678900Z"
    }
   },
   "id": "4718c293eb90fddf",
   "execution_count": 702
  },
  {
   "cell_type": "code",
   "outputs": [
    {
     "data": {
      "text/plain": "['../model/bald_dt.pkl']"
     },
     "execution_count": 703,
     "metadata": {},
     "output_type": "execute_result"
    }
   ],
   "source": [
    "joblib.dump(my_best_model,model_filename)"
   ],
   "metadata": {
    "collapsed": false,
    "ExecuteTime": {
     "end_time": "2024-03-11T02:13:18.073446900Z",
     "start_time": "2024-03-11T02:13:17.874762100Z"
    }
   },
   "id": "9eb6decf213bd58a",
   "execution_count": 703
  },
  {
   "cell_type": "code",
   "outputs": [],
   "source": [],
   "metadata": {
    "collapsed": false,
    "ExecuteTime": {
     "end_time": "2024-03-11T02:13:18.075867900Z",
     "start_time": "2024-03-11T02:13:17.891162900Z"
    }
   },
   "id": "25991cb71515dcdf",
   "execution_count": 703
  }
 ],
 "metadata": {
  "kernelspec": {
   "display_name": "Python 3",
   "language": "python",
   "name": "python3"
  },
  "language_info": {
   "codemirror_mode": {
    "name": "ipython",
    "version": 2
   },
   "file_extension": ".py",
   "mimetype": "text/x-python",
   "name": "python",
   "nbconvert_exporter": "python",
   "pygments_lexer": "ipython2",
   "version": "2.7.6"
  }
 },
 "nbformat": 4,
 "nbformat_minor": 5
}
