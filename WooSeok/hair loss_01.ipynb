{
 "cells": [
  {
   "cell_type": "code",
   "execution_count": 2,
   "id": "initial_id",
   "metadata": {
    "collapsed": true,
    "ExecuteTime": {
     "end_time": "2024-03-10T12:50:31.038099800Z",
     "start_time": "2024-03-10T12:50:30.479339800Z"
    }
   },
   "outputs": [],
   "source": [
    "import pandas as pd  #데이터 파일 관련 보뮬\n",
    "from sklearn.neighbors import KNeighborsClassifier  #기계 학습 관련 모듈\n",
    "from matplotlib import pyplot as plt\n",
    "# from sklearnex import patch_sklearn\n",
    "# patch_sklearn()\n",
    "import seaborn as sns"
   ]
  },
  {
   "cell_type": "code",
   "outputs": [],
   "source": [
    "file=\"../data/hair_loss.csv\""
   ],
   "metadata": {
    "collapsed": false,
    "ExecuteTime": {
     "end_time": "2024-03-10T12:50:31.062172300Z",
     "start_time": "2024-03-10T12:50:31.028508500Z"
    }
   },
   "id": "976a144c5760c95d",
   "execution_count": 3
  },
  {
   "cell_type": "code",
   "outputs": [],
   "source": [
    "hairlossDF=pd.read_csv(file)"
   ],
   "metadata": {
    "collapsed": false,
    "ExecuteTime": {
     "end_time": "2024-03-10T12:50:31.153916500Z",
     "start_time": "2024-03-10T12:50:31.043293500Z"
    }
   },
   "id": "2c9ebefb46227712",
   "execution_count": 4
  },
  {
   "cell_type": "code",
   "outputs": [
    {
     "data": {
      "text/plain": "       total_protein  total_keratine  hair_texture  vitamin  manganese  iron  \\\n0                312             100            14      249         87    55   \n1                 52             207             3      425        387     1   \n2                170             197            11      140        199    91   \n3                256             334            19      358        120     3   \n4                309             185            58      207        329   301   \n...              ...             ...           ...      ...        ...   ...   \n99995            440              20            63      209        473   260   \n99996            311             233            37      352        194   159   \n99997             27             210            10      185        376   278   \n99998            450              18            35      250        287   157   \n99999            464             487            15      440        110   164   \n\n       calcium  body_water_content  stress_level  liver_data  hair_fall  \n0          333                  44            41         368          4  \n1          182                  26            65          41          1  \n2          414                  30            54          90          4  \n3           35                  48            45          65          2  \n4          345                  23            90         346          4  \n...        ...                 ...           ...         ...        ...  \n99995       12                  86             7         281          5  \n99996      391                  57            76          30          5  \n99997       96                  40            49         110          3  \n99998       81                  31             2         156          1  \n99999      356                  33            93          12          0  \n\n[100000 rows x 11 columns]",
      "text/html": "<div>\n<style scoped>\n    .dataframe tbody tr th:only-of-type {\n        vertical-align: middle;\n    }\n\n    .dataframe tbody tr th {\n        vertical-align: top;\n    }\n\n    .dataframe thead th {\n        text-align: right;\n    }\n</style>\n<table border=\"1\" class=\"dataframe\">\n  <thead>\n    <tr style=\"text-align: right;\">\n      <th></th>\n      <th>total_protein</th>\n      <th>total_keratine</th>\n      <th>hair_texture</th>\n      <th>vitamin</th>\n      <th>manganese</th>\n      <th>iron</th>\n      <th>calcium</th>\n      <th>body_water_content</th>\n      <th>stress_level</th>\n      <th>liver_data</th>\n      <th>hair_fall</th>\n    </tr>\n  </thead>\n  <tbody>\n    <tr>\n      <th>0</th>\n      <td>312</td>\n      <td>100</td>\n      <td>14</td>\n      <td>249</td>\n      <td>87</td>\n      <td>55</td>\n      <td>333</td>\n      <td>44</td>\n      <td>41</td>\n      <td>368</td>\n      <td>4</td>\n    </tr>\n    <tr>\n      <th>1</th>\n      <td>52</td>\n      <td>207</td>\n      <td>3</td>\n      <td>425</td>\n      <td>387</td>\n      <td>1</td>\n      <td>182</td>\n      <td>26</td>\n      <td>65</td>\n      <td>41</td>\n      <td>1</td>\n    </tr>\n    <tr>\n      <th>2</th>\n      <td>170</td>\n      <td>197</td>\n      <td>11</td>\n      <td>140</td>\n      <td>199</td>\n      <td>91</td>\n      <td>414</td>\n      <td>30</td>\n      <td>54</td>\n      <td>90</td>\n      <td>4</td>\n    </tr>\n    <tr>\n      <th>3</th>\n      <td>256</td>\n      <td>334</td>\n      <td>19</td>\n      <td>358</td>\n      <td>120</td>\n      <td>3</td>\n      <td>35</td>\n      <td>48</td>\n      <td>45</td>\n      <td>65</td>\n      <td>2</td>\n    </tr>\n    <tr>\n      <th>4</th>\n      <td>309</td>\n      <td>185</td>\n      <td>58</td>\n      <td>207</td>\n      <td>329</td>\n      <td>301</td>\n      <td>345</td>\n      <td>23</td>\n      <td>90</td>\n      <td>346</td>\n      <td>4</td>\n    </tr>\n    <tr>\n      <th>...</th>\n      <td>...</td>\n      <td>...</td>\n      <td>...</td>\n      <td>...</td>\n      <td>...</td>\n      <td>...</td>\n      <td>...</td>\n      <td>...</td>\n      <td>...</td>\n      <td>...</td>\n      <td>...</td>\n    </tr>\n    <tr>\n      <th>99995</th>\n      <td>440</td>\n      <td>20</td>\n      <td>63</td>\n      <td>209</td>\n      <td>473</td>\n      <td>260</td>\n      <td>12</td>\n      <td>86</td>\n      <td>7</td>\n      <td>281</td>\n      <td>5</td>\n    </tr>\n    <tr>\n      <th>99996</th>\n      <td>311</td>\n      <td>233</td>\n      <td>37</td>\n      <td>352</td>\n      <td>194</td>\n      <td>159</td>\n      <td>391</td>\n      <td>57</td>\n      <td>76</td>\n      <td>30</td>\n      <td>5</td>\n    </tr>\n    <tr>\n      <th>99997</th>\n      <td>27</td>\n      <td>210</td>\n      <td>10</td>\n      <td>185</td>\n      <td>376</td>\n      <td>278</td>\n      <td>96</td>\n      <td>40</td>\n      <td>49</td>\n      <td>110</td>\n      <td>3</td>\n    </tr>\n    <tr>\n      <th>99998</th>\n      <td>450</td>\n      <td>18</td>\n      <td>35</td>\n      <td>250</td>\n      <td>287</td>\n      <td>157</td>\n      <td>81</td>\n      <td>31</td>\n      <td>2</td>\n      <td>156</td>\n      <td>1</td>\n    </tr>\n    <tr>\n      <th>99999</th>\n      <td>464</td>\n      <td>487</td>\n      <td>15</td>\n      <td>440</td>\n      <td>110</td>\n      <td>164</td>\n      <td>356</td>\n      <td>33</td>\n      <td>93</td>\n      <td>12</td>\n      <td>0</td>\n    </tr>\n  </tbody>\n</table>\n<p>100000 rows × 11 columns</p>\n</div>"
     },
     "execution_count": 5,
     "metadata": {},
     "output_type": "execute_result"
    }
   ],
   "source": [
    "hairlossDF"
   ],
   "metadata": {
    "collapsed": false,
    "ExecuteTime": {
     "end_time": "2024-03-10T12:50:31.198764600Z",
     "start_time": "2024-03-10T12:50:31.136900900Z"
    }
   },
   "id": "9e5349ad30ee29bb",
   "execution_count": 5
  },
  {
   "cell_type": "code",
   "outputs": [],
   "source": [
    "hairlossDF=hairlossDF.astype({'hair_fall':'category'})"
   ],
   "metadata": {
    "collapsed": false,
    "ExecuteTime": {
     "end_time": "2024-03-10T12:50:31.236169300Z",
     "start_time": "2024-03-10T12:50:31.174057100Z"
    }
   },
   "id": "712886aed3f4d79c",
   "execution_count": 6
  },
  {
   "cell_type": "code",
   "outputs": [
    {
     "name": "stdout",
     "output_type": "stream",
     "text": [
      "<class 'pandas.core.frame.DataFrame'>\n",
      "RangeIndex: 100000 entries, 0 to 99999\n",
      "Data columns (total 11 columns):\n",
      " #   Column              Non-Null Count   Dtype   \n",
      "---  ------              --------------   -----   \n",
      " 0   total_protein       100000 non-null  int64   \n",
      " 1   total_keratine      100000 non-null  int64   \n",
      " 2   hair_texture        100000 non-null  int64   \n",
      " 3   vitamin             100000 non-null  int64   \n",
      " 4   manganese           100000 non-null  int64   \n",
      " 5   iron                100000 non-null  int64   \n",
      " 6   calcium             100000 non-null  int64   \n",
      " 7   body_water_content  100000 non-null  int64   \n",
      " 8   stress_level        100000 non-null  int64   \n",
      " 9   liver_data          100000 non-null  int64   \n",
      " 10  hair_fall           100000 non-null  category\n",
      "dtypes: category(1), int64(10)\n",
      "memory usage: 7.7 MB\n"
     ]
    }
   ],
   "source": [
    "hairlossDF.info()"
   ],
   "metadata": {
    "collapsed": false,
    "ExecuteTime": {
     "end_time": "2024-03-10T12:50:31.354122700Z",
     "start_time": "2024-03-10T12:50:31.201955900Z"
    }
   },
   "id": "ce276e76907cdd30",
   "execution_count": 7
  },
  {
   "cell_type": "code",
   "outputs": [
    {
     "data": {
      "text/plain": "total_protein         0\ntotal_keratine        0\nhair_texture          0\nvitamin               0\nmanganese             0\niron                  0\ncalcium               0\nbody_water_content    0\nstress_level          0\nliver_data            0\nhair_fall             0\ndtype: int64"
     },
     "execution_count": 37,
     "metadata": {},
     "output_type": "execute_result"
    }
   ],
   "source": [
    "hairlossDF.isnull().sum()"
   ],
   "metadata": {
    "collapsed": false,
    "ExecuteTime": {
     "end_time": "2024-03-10T13:26:34.850990400Z",
     "start_time": "2024-03-10T13:26:34.819659100Z"
    }
   },
   "id": "9395840fe25a4c34",
   "execution_count": 37
  },
  {
   "cell_type": "code",
   "outputs": [],
   "source": [
    "corhair=hairlossDF.corr()"
   ],
   "metadata": {
    "collapsed": false,
    "ExecuteTime": {
     "end_time": "2024-03-10T12:50:31.356220800Z",
     "start_time": "2024-03-10T12:50:31.248442200Z"
    }
   },
   "id": "a8b47be566e15d4f",
   "execution_count": 8
  },
  {
   "cell_type": "code",
   "outputs": [],
   "source": [],
   "metadata": {
    "collapsed": false,
    "ExecuteTime": {
     "end_time": "2024-03-10T12:50:31.358280200Z",
     "start_time": "2024-03-10T12:50:31.294139900Z"
    }
   },
   "id": "4f21dccf7822a821",
   "execution_count": 8
  },
  {
   "cell_type": "code",
   "outputs": [
    {
     "data": {
      "text/plain": "                    total_protein  total_keratine  hair_texture   vitamin  \\\ntotal_protein            1.000000        0.003125      0.001476  0.002986   \ntotal_keratine           0.003125        1.000000     -0.004992 -0.009062   \nhair_texture             0.001476       -0.004992      1.000000  0.003983   \nvitamin                  0.002986       -0.009062      0.003983  1.000000   \nmanganese                0.004049        0.003274      0.003974  0.000153   \niron                    -0.001733       -0.007433      0.006231 -0.002434   \ncalcium                  0.001075       -0.003344      0.004535 -0.000687   \nbody_water_content       0.001715        0.000361     -0.000281  0.003608   \nstress_level            -0.004181       -0.006286     -0.002273 -0.002619   \nliver_data              -0.000333       -0.001403     -0.001279 -0.001782   \nhair_fall                0.001335       -0.003384      0.000468 -0.002807   \n\n                    manganese      iron   calcium  body_water_content  \\\ntotal_protein        0.004049 -0.001733  0.001075            0.001715   \ntotal_keratine       0.003274 -0.007433 -0.003344            0.000361   \nhair_texture         0.003974  0.006231  0.004535           -0.000281   \nvitamin              0.000153 -0.002434 -0.000687            0.003608   \nmanganese            1.000000 -0.000187 -0.002805            0.001352   \niron                -0.000187  1.000000 -0.002237            0.001166   \ncalcium             -0.002805 -0.002237  1.000000           -0.001189   \nbody_water_content   0.001352  0.001166 -0.001189            1.000000   \nstress_level         0.005764  0.004517  0.001974           -0.003345   \nliver_data           0.001370  0.002613 -0.001003           -0.001276   \nhair_fall           -0.001927 -0.001475 -0.000300           -0.005824   \n\n                    stress_level  liver_data  hair_fall  \ntotal_protein          -0.004181   -0.000333   0.001335  \ntotal_keratine         -0.006286   -0.001403  -0.003384  \nhair_texture           -0.002273   -0.001279   0.000468  \nvitamin                -0.002619   -0.001782  -0.002807  \nmanganese               0.005764    0.001370  -0.001927  \niron                    0.004517    0.002613  -0.001475  \ncalcium                 0.001974   -0.001003  -0.000300  \nbody_water_content     -0.003345   -0.001276  -0.005824  \nstress_level            1.000000    0.000195   0.003969  \nliver_data              0.000195    1.000000  -0.003030  \nhair_fall               0.003969   -0.003030   1.000000  ",
      "text/html": "<div>\n<style scoped>\n    .dataframe tbody tr th:only-of-type {\n        vertical-align: middle;\n    }\n\n    .dataframe tbody tr th {\n        vertical-align: top;\n    }\n\n    .dataframe thead th {\n        text-align: right;\n    }\n</style>\n<table border=\"1\" class=\"dataframe\">\n  <thead>\n    <tr style=\"text-align: right;\">\n      <th></th>\n      <th>total_protein</th>\n      <th>total_keratine</th>\n      <th>hair_texture</th>\n      <th>vitamin</th>\n      <th>manganese</th>\n      <th>iron</th>\n      <th>calcium</th>\n      <th>body_water_content</th>\n      <th>stress_level</th>\n      <th>liver_data</th>\n      <th>hair_fall</th>\n    </tr>\n  </thead>\n  <tbody>\n    <tr>\n      <th>total_protein</th>\n      <td>1.000000</td>\n      <td>0.003125</td>\n      <td>0.001476</td>\n      <td>0.002986</td>\n      <td>0.004049</td>\n      <td>-0.001733</td>\n      <td>0.001075</td>\n      <td>0.001715</td>\n      <td>-0.004181</td>\n      <td>-0.000333</td>\n      <td>0.001335</td>\n    </tr>\n    <tr>\n      <th>total_keratine</th>\n      <td>0.003125</td>\n      <td>1.000000</td>\n      <td>-0.004992</td>\n      <td>-0.009062</td>\n      <td>0.003274</td>\n      <td>-0.007433</td>\n      <td>-0.003344</td>\n      <td>0.000361</td>\n      <td>-0.006286</td>\n      <td>-0.001403</td>\n      <td>-0.003384</td>\n    </tr>\n    <tr>\n      <th>hair_texture</th>\n      <td>0.001476</td>\n      <td>-0.004992</td>\n      <td>1.000000</td>\n      <td>0.003983</td>\n      <td>0.003974</td>\n      <td>0.006231</td>\n      <td>0.004535</td>\n      <td>-0.000281</td>\n      <td>-0.002273</td>\n      <td>-0.001279</td>\n      <td>0.000468</td>\n    </tr>\n    <tr>\n      <th>vitamin</th>\n      <td>0.002986</td>\n      <td>-0.009062</td>\n      <td>0.003983</td>\n      <td>1.000000</td>\n      <td>0.000153</td>\n      <td>-0.002434</td>\n      <td>-0.000687</td>\n      <td>0.003608</td>\n      <td>-0.002619</td>\n      <td>-0.001782</td>\n      <td>-0.002807</td>\n    </tr>\n    <tr>\n      <th>manganese</th>\n      <td>0.004049</td>\n      <td>0.003274</td>\n      <td>0.003974</td>\n      <td>0.000153</td>\n      <td>1.000000</td>\n      <td>-0.000187</td>\n      <td>-0.002805</td>\n      <td>0.001352</td>\n      <td>0.005764</td>\n      <td>0.001370</td>\n      <td>-0.001927</td>\n    </tr>\n    <tr>\n      <th>iron</th>\n      <td>-0.001733</td>\n      <td>-0.007433</td>\n      <td>0.006231</td>\n      <td>-0.002434</td>\n      <td>-0.000187</td>\n      <td>1.000000</td>\n      <td>-0.002237</td>\n      <td>0.001166</td>\n      <td>0.004517</td>\n      <td>0.002613</td>\n      <td>-0.001475</td>\n    </tr>\n    <tr>\n      <th>calcium</th>\n      <td>0.001075</td>\n      <td>-0.003344</td>\n      <td>0.004535</td>\n      <td>-0.000687</td>\n      <td>-0.002805</td>\n      <td>-0.002237</td>\n      <td>1.000000</td>\n      <td>-0.001189</td>\n      <td>0.001974</td>\n      <td>-0.001003</td>\n      <td>-0.000300</td>\n    </tr>\n    <tr>\n      <th>body_water_content</th>\n      <td>0.001715</td>\n      <td>0.000361</td>\n      <td>-0.000281</td>\n      <td>0.003608</td>\n      <td>0.001352</td>\n      <td>0.001166</td>\n      <td>-0.001189</td>\n      <td>1.000000</td>\n      <td>-0.003345</td>\n      <td>-0.001276</td>\n      <td>-0.005824</td>\n    </tr>\n    <tr>\n      <th>stress_level</th>\n      <td>-0.004181</td>\n      <td>-0.006286</td>\n      <td>-0.002273</td>\n      <td>-0.002619</td>\n      <td>0.005764</td>\n      <td>0.004517</td>\n      <td>0.001974</td>\n      <td>-0.003345</td>\n      <td>1.000000</td>\n      <td>0.000195</td>\n      <td>0.003969</td>\n    </tr>\n    <tr>\n      <th>liver_data</th>\n      <td>-0.000333</td>\n      <td>-0.001403</td>\n      <td>-0.001279</td>\n      <td>-0.001782</td>\n      <td>0.001370</td>\n      <td>0.002613</td>\n      <td>-0.001003</td>\n      <td>-0.001276</td>\n      <td>0.000195</td>\n      <td>1.000000</td>\n      <td>-0.003030</td>\n    </tr>\n    <tr>\n      <th>hair_fall</th>\n      <td>0.001335</td>\n      <td>-0.003384</td>\n      <td>0.000468</td>\n      <td>-0.002807</td>\n      <td>-0.001927</td>\n      <td>-0.001475</td>\n      <td>-0.000300</td>\n      <td>-0.005824</td>\n      <td>0.003969</td>\n      <td>-0.003030</td>\n      <td>1.000000</td>\n    </tr>\n  </tbody>\n</table>\n</div>"
     },
     "execution_count": 9,
     "metadata": {},
     "output_type": "execute_result"
    }
   ],
   "source": [
    "hairlossDF.corr()"
   ],
   "metadata": {
    "collapsed": false,
    "ExecuteTime": {
     "end_time": "2024-03-10T12:50:31.481473300Z",
     "start_time": "2024-03-10T12:50:31.308007400Z"
    }
   },
   "id": "ebe12234922a66da",
   "execution_count": 9
  },
  {
   "cell_type": "code",
   "outputs": [
    {
     "data": {
      "text/plain": "<Axes: >"
     },
     "execution_count": 10,
     "metadata": {},
     "output_type": "execute_result"
    },
    {
     "data": {
      "text/plain": "<Figure size 1000x800 with 2 Axes>",
      "image/png": "[encoded data removed]"
     },
     "metadata": {},
     "output_type": "display_data"
    }
   ],
   "source": [
    "plt.figure(figsize=(10,8))\n",
    "sns.heatmap(data =corhair, annot=True, \n",
    "fmt = '.2f', linewidths=.5, cmap='Blues')"
   ],
   "metadata": {
    "collapsed": false,
    "ExecuteTime": {
     "end_time": "2024-03-10T12:50:31.961022Z",
     "start_time": "2024-03-10T12:50:31.361446900Z"
    }
   },
   "id": "434f31d144d83120",
   "execution_count": 10
  },
  {
   "cell_type": "code",
   "outputs": [
    {
     "name": "stdout",
     "output_type": "stream",
     "text": [
      "<class 'pandas.core.frame.DataFrame'>\n",
      "RangeIndex: 100000 entries, 0 to 99999\n",
      "Data columns (total 11 columns):\n",
      " #   Column              Non-Null Count   Dtype   \n",
      "---  ------              --------------   -----   \n",
      " 0   total_protein       100000 non-null  int64   \n",
      " 1   total_keratine      100000 non-null  int64   \n",
      " 2   hair_texture        100000 non-null  int64   \n",
      " 3   vitamin             100000 non-null  int64   \n",
      " 4   manganese           100000 non-null  int64   \n",
      " 5   iron                100000 non-null  int64   \n",
      " 6   calcium             100000 non-null  int64   \n",
      " 7   body_water_content  100000 non-null  int64   \n",
      " 8   stress_level        100000 non-null  int64   \n",
      " 9   liver_data          100000 non-null  int64   \n",
      " 10  hair_fall           100000 non-null  category\n",
      "dtypes: category(1), int64(10)\n",
      "memory usage: 7.7 MB\n"
     ]
    }
   ],
   "source": [
    "hairlossDF.info()"
   ],
   "metadata": {
    "collapsed": false,
    "ExecuteTime": {
     "end_time": "2024-03-10T12:50:31.963097300Z",
     "start_time": "2024-03-10T12:50:31.946740Z"
    }
   },
   "id": "3efbe3774d847e90",
   "execution_count": 11
  },
  {
   "cell_type": "code",
   "outputs": [
    {
     "data": {
      "text/plain": "total_protein  total_keratine  hair_texture  vitamin  manganese  iron  calcium  body_water_content  stress_level  liver_data  hair_fall\n0              1               67            70       426        31    493      95                  96            214         2            1\n333            16              96            64       193        282   50       92                  23            362         1            1\n               63              50            419      450        124   126      29                  67            311         1            1\n               60              61            175      101        413   47       56                  35            232         5            1\n               59              43            478      283        357   194      76                  79            70          3            1\n                                                                                                                                          ..\n167            144             13            302      254        387   4        64                  60            494         4            1\n               140             28            288      376        105   6        64                  1             474         2            1\n               139             74            453      56         337   124      51                  98            427         2            1\n               131             53            489      450        479   370      87                  18            429         3            1\n499            498             34            444      383        64    212      83                  27            237         4            1\nName: count, Length: 100000, dtype: int64"
     },
     "execution_count": 12,
     "metadata": {},
     "output_type": "execute_result"
    }
   ],
   "source": [
    "hairlossDF.value_counts()"
   ],
   "metadata": {
    "collapsed": false,
    "ExecuteTime": {
     "end_time": "2024-03-10T12:50:32.054724500Z",
     "start_time": "2024-03-10T12:50:31.959560400Z"
    }
   },
   "id": "4889150299c4e107",
   "execution_count": 12
  },
  {
   "cell_type": "code",
   "outputs": [
    {
     "data": {
      "text/plain": "0"
     },
     "execution_count": 13,
     "metadata": {},
     "output_type": "execute_result"
    }
   ],
   "source": [
    "\n",
    "hairlossDF.duplicated().sum()"
   ],
   "metadata": {
    "collapsed": false,
    "ExecuteTime": {
     "end_time": "2024-03-10T12:50:32.168237Z",
     "start_time": "2024-03-10T12:50:32.051080200Z"
    }
   },
   "id": "df078923ffe476fe",
   "execution_count": 13
  },
  {
   "cell_type": "code",
   "outputs": [
    {
     "data": {
      "text/plain": "Index(['total_protein', 'total_keratine', 'hair_texture', 'vitamin',\n       'manganese', 'iron', 'calcium', 'body_water_content', 'stress_level',\n       'liver_data', 'hair_fall'],\n      dtype='object')"
     },
     "execution_count": 14,
     "metadata": {},
     "output_type": "execute_result"
    }
   ],
   "source": [
    "hairlossDF.columns"
   ],
   "metadata": {
    "collapsed": false,
    "ExecuteTime": {
     "end_time": "2024-03-10T12:50:32.177384300Z",
     "start_time": "2024-03-10T12:50:32.102437400Z"
    }
   },
   "id": "a3379e0ba0c881fc",
   "execution_count": 14
  },
  {
   "cell_type": "code",
   "outputs": [],
   "source": [
    "# (3) 기계학습 데이터셋 준비 => 피쳐와 타겟 분리"
   ],
   "metadata": {
    "collapsed": false,
    "ExecuteTime": {
     "end_time": "2024-03-10T12:50:32.239672900Z",
     "start_time": "2024-03-10T12:50:32.112155200Z"
    }
   },
   "id": "a3d366775628516a",
   "execution_count": 15
  },
  {
   "cell_type": "code",
   "outputs": [],
   "source": [
    "featureDF=hairlossDF[hairlossDF.columns[:-1]]\n",
    "targetDF=hairlossDF[hairlossDF.columns[-1]]\n",
    "\n"
   ],
   "metadata": {
    "collapsed": false,
    "ExecuteTime": {
     "end_time": "2024-03-10T12:50:32.246988700Z",
     "start_time": "2024-03-10T12:50:32.132882300Z"
    }
   },
   "id": "36ba1024f8e8dd34",
   "execution_count": 16
  },
  {
   "cell_type": "code",
   "outputs": [],
   "source": [
    "from sklearn.model_selection import train_test_split\n",
    "X_train, X_test, y_train, y_test = train_test_split(featureDF, targetDF, test_size=0.2,random_state=23)"
   ],
   "metadata": {
    "collapsed": false,
    "ExecuteTime": {
     "end_time": "2024-03-10T12:50:32.249042800Z",
     "start_time": "2024-03-10T12:50:32.142905800Z"
    }
   },
   "id": "d17f483996699369",
   "execution_count": 17
  },
  {
   "cell_type": "code",
   "outputs": [],
   "source": [
    "#스케일링 "
   ],
   "metadata": {
    "collapsed": false,
    "ExecuteTime": {
     "end_time": "2024-03-10T12:50:32.271030400Z",
     "start_time": "2024-03-10T12:50:32.172385500Z"
    }
   },
   "id": "ec8266a82d347b3",
   "execution_count": 18
  },
  {
   "cell_type": "code",
   "outputs": [],
   "source": [
    "from sklearn.preprocessing import StandardScaler\n",
    "sc=StandardScaler()\n",
    "sc.fit_transform(X_train)\n",
    "\n",
    "X_train_sc=sc.transform(X_train)\n",
    "X_test_sc=sc.transform(X_test)"
   ],
   "metadata": {
    "collapsed": false,
    "ExecuteTime": {
     "end_time": "2024-03-10T12:50:32.303491700Z",
     "start_time": "2024-03-10T12:50:32.193831900Z"
    }
   },
   "id": "d307e4f71f756f",
   "execution_count": 19
  },
  {
   "cell_type": "code",
   "outputs": [],
   "source": [],
   "metadata": {
    "collapsed": false,
    "ExecuteTime": {
     "end_time": "2024-03-10T12:50:32.305597400Z",
     "start_time": "2024-03-10T12:50:32.228126800Z"
    }
   },
   "id": "42206dbc0d17d176",
   "execution_count": 19
  },
  {
   "cell_type": "markdown",
   "source": [
    "lm  decedce[모델 학습] "
   ],
   "metadata": {
    "collapsed": false
   },
   "id": "68b39a1c7669448d"
  },
  {
   "cell_type": "markdown",
   "source": [
    "# [앙상블 모델]"
   ],
   "metadata": {
    "collapsed": false
   },
   "id": "1c7bafa38ca54008"
  },
  {
   "cell_type": "code",
   "outputs": [],
   "source": [
    "from sklearn.ensemble import RandomForestClassifier"
   ],
   "metadata": {
    "collapsed": false,
    "ExecuteTime": {
     "end_time": "2024-03-10T12:50:32.330341900Z",
     "start_time": "2024-03-10T12:50:32.244926100Z"
    }
   },
   "id": "bde7eee5e59a65e6",
   "execution_count": 20
  },
  {
   "cell_type": "code",
   "outputs": [
    {
     "data": {
      "text/plain": "RandomForestClassifier(random_state=55)",
      "text/html": "<style>#sk-container-id-1 {color: black;}#sk-container-id-1 pre{padding: 0;}#sk-container-id-1 div.sk-toggleable {background-color: white;}#sk-container-id-1 label.sk-toggleable__label {cursor: pointer;display: block;width: 100%;margin-bottom: 0;padding: 0.3em;box-sizing: border-box;text-align: center;}#sk-container-id-1 label.sk-toggleable__label-arrow:before {content: \"▸\";float: left;margin-right: 0.25em;color: #696969;}#sk-container-id-1 label.sk-toggleable__label-arrow:hover:before {color: black;}#sk-container-id-1 div.sk-estimator:hover label.sk-toggleable__label-arrow:before {color: black;}#sk-container-id-1 div.sk-toggleable__content {max-height: 0;max-width: 0;overflow: hidden;text-align: left;background-color: #f0f8ff;}#sk-container-id-1 div.sk-toggleable__content pre {margin: 0.2em;color: black;border-radius: 0.25em;background-color: #f0f8ff;}#sk-container-id-1 input.sk-toggleable__control:checked~div.sk-toggleable__content {max-height: 200px;max-width: 100%;overflow: auto;}#sk-container-id-1 input.sk-toggleable__control:checked~label.sk-toggleable__label-arrow:before {content: \"▾\";}#sk-container-id-1 div.sk-estimator input.sk-toggleable__control:checked~label.sk-toggleable__label {background-color: #d4ebff;}#sk-container-id-1 div.sk-label input.sk-toggleable__control:checked~label.sk-toggleable__label {background-color: #d4ebff;}#sk-container-id-1 input.sk-hidden--visually {border: 0;clip: rect(1px 1px 1px 1px);clip: rect(1px, 1px, 1px, 1px);height: 1px;margin: -1px;overflow: hidden;padding: 0;position: absolute;width: 1px;}#sk-container-id-1 div.sk-estimator {font-family: monospace;background-color: #f0f8ff;border: 1px dotted black;border-radius: 0.25em;box-sizing: border-box;margin-bottom: 0.5em;}#sk-container-id-1 div.sk-estimator:hover {background-color: #d4ebff;}#sk-container-id-1 div.sk-parallel-item::after {content: \"\";width: 100%;border-bottom: 1px solid gray;flex-grow: 1;}#sk-container-id-1 div.sk-label:hover label.sk-toggleable__label {background-color: #d4ebff;}#sk-container-id-1 div.sk-serial::before {content: \"\";position: absolute;border-left: 1px solid gray;box-sizing: border-box;top: 0;bottom: 0;left: 50%;z-index: 0;}#sk-container-id-1 div.sk-serial {display: flex;flex-direction: column;align-items: center;background-color: white;padding-right: 0.2em;padding-left: 0.2em;position: relative;}#sk-container-id-1 div.sk-item {position: relative;z-index: 1;}#sk-container-id-1 div.sk-parallel {display: flex;align-items: stretch;justify-content: center;background-color: white;position: relative;}#sk-container-id-1 div.sk-item::before, #sk-container-id-1 div.sk-parallel-item::before {content: \"\";position: absolute;border-left: 1px solid gray;box-sizing: border-box;top: 0;bottom: 0;left: 50%;z-index: -1;}#sk-container-id-1 div.sk-parallel-item {display: flex;flex-direction: column;z-index: 1;position: relative;background-color: white;}#sk-container-id-1 div.sk-parallel-item:first-child::after {align-self: flex-end;width: 50%;}#sk-container-id-1 div.sk-parallel-item:last-child::after {align-self: flex-start;width: 50%;}#sk-container-id-1 div.sk-parallel-item:only-child::after {width: 0;}#sk-container-id-1 div.sk-dashed-wrapped {border: 1px dashed gray;margin: 0 0.4em 0.5em 0.4em;box-sizing: border-box;padding-bottom: 0.4em;background-color: white;}#sk-container-id-1 div.sk-label label {font-family: monospace;font-weight: bold;display: inline-block;line-height: 1.2em;}#sk-container-id-1 div.sk-label-container {text-align: center;}#sk-container-id-1 div.sk-container {/* jupyter's `normalize.less` sets `[hidden] { display: none; }` but bootstrap.min.css set `[hidden] { display: none !important; }` so we also need the `!important` here to be able to override the default hidden behavior on the sphinx rendered scikit-learn.org. See: https://github.com/scikit-learn/scikit-learn/issues/21755 */display: inline-block !important;position: relative;}#sk-container-id-1 div.sk-text-repr-fallback {display: none;}</style><div id=\"sk-container-id-1\" class=\"sk-top-container\"><div class=\"sk-text-repr-fallback\"><pre>RandomForestClassifier(random_state=55)</pre><b>In a Jupyter environment, please rerun this cell to show the HTML representation or trust the notebook. <br />On GitHub, the HTML representation is unable to render, please try loading this page with nbviewer.org.</b></div><div class=\"sk-container\" hidden><div class=\"sk-item\"><div class=\"sk-estimator sk-toggleable\"><input class=\"sk-toggleable__control sk-hidden--visually\" id=\"sk-estimator-id-1\" type=\"checkbox\" checked><label for=\"sk-estimator-id-1\" class=\"sk-toggleable__label sk-toggleable__label-arrow\">RandomForestClassifier</label><div class=\"sk-toggleable__content\"><pre>RandomForestClassifier(random_state=55)</pre></div></div></div></div></div>"
     },
     "execution_count": 21,
     "metadata": {},
     "output_type": "execute_result"
    }
   ],
   "source": [
    "en_model=RandomForestClassifier(random_state=55)\n",
    "en_model.fit(X_train,y_train)"
   ],
   "metadata": {
    "collapsed": false,
    "ExecuteTime": {
     "end_time": "2024-03-10T12:51:55.877039800Z",
     "start_time": "2024-03-10T12:50:32.330341900Z"
    }
   },
   "id": "8ebb1cde7a0a1280",
   "execution_count": 21
  },
  {
   "cell_type": "code",
   "outputs": [],
   "source": [
    "en_predictions=en_model.predict(X_test)"
   ],
   "metadata": {
    "collapsed": false,
    "ExecuteTime": {
     "end_time": "2024-03-10T12:51:57.978257400Z",
     "start_time": "2024-03-10T12:51:55.877039800Z"
    }
   },
   "id": "c06dc2d904af3d57",
   "execution_count": 22
  },
  {
   "cell_type": "code",
   "outputs": [],
   "source": [
    "en_score=en_model.score(X_test,y_test)"
   ],
   "metadata": {
    "collapsed": false,
    "ExecuteTime": {
     "end_time": "2024-03-10T12:52:00.097556500Z",
     "start_time": "2024-03-10T12:51:57.978257400Z"
    }
   },
   "id": "88423649ae0eadb8",
   "execution_count": 23
  },
  {
   "cell_type": "code",
   "outputs": [
    {
     "data": {
      "text/plain": "0.16165"
     },
     "execution_count": 24,
     "metadata": {},
     "output_type": "execute_result"
    }
   ],
   "source": [
    "en_score"
   ],
   "metadata": {
    "collapsed": false,
    "ExecuteTime": {
     "end_time": "2024-03-10T12:52:00.144592400Z",
     "start_time": "2024-03-10T12:52:00.105449300Z"
    }
   },
   "id": "9cefc3de1b64bbe5",
   "execution_count": 24
  },
  {
   "cell_type": "code",
   "outputs": [
    {
     "name": "stdout",
     "output_type": "stream",
     "text": [
      "[Train Score: 1.0, Test Score: 0.16165]\n"
     ]
    }
   ],
   "source": [
    "train_score=en_model.score(X_train,y_train)\n",
    "test_score=en_model.score(X_test,y_test)\n",
    "\n",
    "print(f'[Train Score: {train_score:}, Test Score: {test_score:}]')"
   ],
   "metadata": {
    "collapsed": false,
    "ExecuteTime": {
     "end_time": "2024-03-10T12:52:10.198127100Z",
     "start_time": "2024-03-10T12:52:00.128898700Z"
    }
   },
   "id": "2ec83051b006a152",
   "execution_count": 25
  },
  {
   "cell_type": "markdown",
   "source": [
    "[5] 문제 해결 및 성능 향상 즉, 튜닝 <hr>\n",
    "- 원인 예상\n",
    "    * 데이터 셋 부족\n",
    "    * DT의 여러가지 하이퍼파라미터 기본값으로만 사용=> 다양한 값 조절\n",
    "- 해결 방법\n",
    "    * 2개의 원인을 한꺼번에 해결하기 위해서 GridSearchCV를 사용\n"
   ],
   "metadata": {
    "collapsed": false
   },
   "id": "e5f473b587408074"
  },
  {
   "cell_type": "code",
   "outputs": [],
   "source": [
    "# 모듈 로딩\n",
    "from sklearn.model_selection import GridSearchCV,RandomizedSearchCV"
   ],
   "metadata": {
    "collapsed": false,
    "ExecuteTime": {
     "end_time": "2024-03-10T12:52:10.198127100Z",
     "start_time": "2024-03-10T12:52:10.182427Z"
    }
   },
   "id": "7d9aca3f562d6dff",
   "execution_count": 26
  },
  {
   "cell_type": "code",
   "outputs": [],
   "source": [
    "# 모델 조합 조건\n",
    "# CV => 기본 5,..\n",
    "# DT의 하이퍼파라미터 => max_depth,gini.....\n",
    "from sklearn.tree import DecisionTreeClassifier\n",
    "dt_model =DecisionTreeClassifier()\n",
    "n_cv =7\n",
    "params={'criterion':['gini','entropy','log_loss'],\n",
    "        'max_depth':[5,10,15],\n",
    "        'min_samples_split':[2,4,6]\n",
    "        }\n",
    "# 하이퍼파라미터 조합된 모델 생성 후 교차검증 데이터셋으로 학습\n",
    "#시켜주는 인스턴스"
   ],
   "metadata": {
    "collapsed": false,
    "ExecuteTime": {
     "end_time": "2024-03-10T12:52:10.324080700Z",
     "start_time": "2024-03-10T12:52:10.198127100Z"
    }
   },
   "id": "dcfa6672d607bf11",
   "execution_count": 27
  },
  {
   "cell_type": "code",
   "outputs": [],
   "source": [
    "gs=GridSearchCV(dt_model,param_grid=params,cv=n_cv)"
   ],
   "metadata": {
    "collapsed": false,
    "ExecuteTime": {
     "end_time": "2024-03-10T12:52:10.324080700Z",
     "start_time": "2024-03-10T12:52:10.225576100Z"
    }
   },
   "id": "dc91d3c6a0585d5e",
   "execution_count": 28
  },
  {
   "cell_type": "code",
   "outputs": [],
   "source": [
    "result=gs.fit(X_train,y_train)"
   ],
   "metadata": {
    "collapsed": false,
    "ExecuteTime": {
     "end_time": "2024-03-10T12:55:55.570705600Z",
     "start_time": "2024-03-10T12:52:10.229653100Z"
    }
   },
   "id": "36c2f28755e536c9",
   "execution_count": 29
  },
  {
   "cell_type": "code",
   "outputs": [
    {
     "data": {
      "text/plain": "GridSearchCV(cv=7, estimator=DecisionTreeClassifier(),\n             param_grid={'criterion': ['gini', 'entropy', 'log_loss'],\n                         'max_depth': [5, 10, 15],\n                         'min_samples_split': [2, 4, 6]})",
      "text/html": "<style>#sk-container-id-2 {color: black;}#sk-container-id-2 pre{padding: 0;}#sk-container-id-2 div.sk-toggleable {background-color: white;}#sk-container-id-2 label.sk-toggleable__label {cursor: pointer;display: block;width: 100%;margin-bottom: 0;padding: 0.3em;box-sizing: border-box;text-align: center;}#sk-container-id-2 label.sk-toggleable__label-arrow:before {content: \"▸\";float: left;margin-right: 0.25em;color: #696969;}#sk-container-id-2 label.sk-toggleable__label-arrow:hover:before {color: black;}#sk-container-id-2 div.sk-estimator:hover label.sk-toggleable__label-arrow:before {color: black;}#sk-container-id-2 div.sk-toggleable__content {max-height: 0;max-width: 0;overflow: hidden;text-align: left;background-color: #f0f8ff;}#sk-container-id-2 div.sk-toggleable__content pre {margin: 0.2em;color: black;border-radius: 0.25em;background-color: #f0f8ff;}#sk-container-id-2 input.sk-toggleable__control:checked~div.sk-toggleable__content {max-height: 200px;max-width: 100%;overflow: auto;}#sk-container-id-2 input.sk-toggleable__control:checked~label.sk-toggleable__label-arrow:before {content: \"▾\";}#sk-container-id-2 div.sk-estimator input.sk-toggleable__control:checked~label.sk-toggleable__label {background-color: #d4ebff;}#sk-container-id-2 div.sk-label input.sk-toggleable__control:checked~label.sk-toggleable__label {background-color: #d4ebff;}#sk-container-id-2 input.sk-hidden--visually {border: 0;clip: rect(1px 1px 1px 1px);clip: rect(1px, 1px, 1px, 1px);height: 1px;margin: -1px;overflow: hidden;padding: 0;position: absolute;width: 1px;}#sk-container-id-2 div.sk-estimator {font-family: monospace;background-color: #f0f8ff;border: 1px dotted black;border-radius: 0.25em;box-sizing: border-box;margin-bottom: 0.5em;}#sk-container-id-2 div.sk-estimator:hover {background-color: #d4ebff;}#sk-container-id-2 div.sk-parallel-item::after {content: \"\";width: 100%;border-bottom: 1px solid gray;flex-grow: 1;}#sk-container-id-2 div.sk-label:hover label.sk-toggleable__label {background-color: #d4ebff;}#sk-container-id-2 div.sk-serial::before {content: \"\";position: absolute;border-left: 1px solid gray;box-sizing: border-box;top: 0;bottom: 0;left: 50%;z-index: 0;}#sk-container-id-2 div.sk-serial {display: flex;flex-direction: column;align-items: center;background-color: white;padding-right: 0.2em;padding-left: 0.2em;position: relative;}#sk-container-id-2 div.sk-item {position: relative;z-index: 1;}#sk-container-id-2 div.sk-parallel {display: flex;align-items: stretch;justify-content: center;background-color: white;position: relative;}#sk-container-id-2 div.sk-item::before, #sk-container-id-2 div.sk-parallel-item::before {content: \"\";position: absolute;border-left: 1px solid gray;box-sizing: border-box;top: 0;bottom: 0;left: 50%;z-index: -1;}#sk-container-id-2 div.sk-parallel-item {display: flex;flex-direction: column;z-index: 1;position: relative;background-color: white;}#sk-container-id-2 div.sk-parallel-item:first-child::after {align-self: flex-end;width: 50%;}#sk-container-id-2 div.sk-parallel-item:last-child::after {align-self: flex-start;width: 50%;}#sk-container-id-2 div.sk-parallel-item:only-child::after {width: 0;}#sk-container-id-2 div.sk-dashed-wrapped {border: 1px dashed gray;margin: 0 0.4em 0.5em 0.4em;box-sizing: border-box;padding-bottom: 0.4em;background-color: white;}#sk-container-id-2 div.sk-label label {font-family: monospace;font-weight: bold;display: inline-block;line-height: 1.2em;}#sk-container-id-2 div.sk-label-container {text-align: center;}#sk-container-id-2 div.sk-container {/* jupyter's `normalize.less` sets `[hidden] { display: none; }` but bootstrap.min.css set `[hidden] { display: none !important; }` so we also need the `!important` here to be able to override the default hidden behavior on the sphinx rendered scikit-learn.org. See: https://github.com/scikit-learn/scikit-learn/issues/21755 */display: inline-block !important;position: relative;}#sk-container-id-2 div.sk-text-repr-fallback {display: none;}</style><div id=\"sk-container-id-2\" class=\"sk-top-container\"><div class=\"sk-text-repr-fallback\"><pre>GridSearchCV(cv=7, estimator=DecisionTreeClassifier(),\n             param_grid={&#x27;criterion&#x27;: [&#x27;gini&#x27;, &#x27;entropy&#x27;, &#x27;log_loss&#x27;],\n                         &#x27;max_depth&#x27;: [5, 10, 15],\n                         &#x27;min_samples_split&#x27;: [2, 4, 6]})</pre><b>In a Jupyter environment, please rerun this cell to show the HTML representation or trust the notebook. <br />On GitHub, the HTML representation is unable to render, please try loading this page with nbviewer.org.</b></div><div class=\"sk-container\" hidden><div class=\"sk-item sk-dashed-wrapped\"><div class=\"sk-label-container\"><div class=\"sk-label sk-toggleable\"><input class=\"sk-toggleable__control sk-hidden--visually\" id=\"sk-estimator-id-2\" type=\"checkbox\" ><label for=\"sk-estimator-id-2\" class=\"sk-toggleable__label sk-toggleable__label-arrow\">GridSearchCV</label><div class=\"sk-toggleable__content\"><pre>GridSearchCV(cv=7, estimator=DecisionTreeClassifier(),\n             param_grid={&#x27;criterion&#x27;: [&#x27;gini&#x27;, &#x27;entropy&#x27;, &#x27;log_loss&#x27;],\n                         &#x27;max_depth&#x27;: [5, 10, 15],\n                         &#x27;min_samples_split&#x27;: [2, 4, 6]})</pre></div></div></div><div class=\"sk-parallel\"><div class=\"sk-parallel-item\"><div class=\"sk-item\"><div class=\"sk-label-container\"><div class=\"sk-label sk-toggleable\"><input class=\"sk-toggleable__control sk-hidden--visually\" id=\"sk-estimator-id-3\" type=\"checkbox\" ><label for=\"sk-estimator-id-3\" class=\"sk-toggleable__label sk-toggleable__label-arrow\">estimator: DecisionTreeClassifier</label><div class=\"sk-toggleable__content\"><pre>DecisionTreeClassifier()</pre></div></div></div><div class=\"sk-serial\"><div class=\"sk-item\"><div class=\"sk-estimator sk-toggleable\"><input class=\"sk-toggleable__control sk-hidden--visually\" id=\"sk-estimator-id-4\" type=\"checkbox\" ><label for=\"sk-estimator-id-4\" class=\"sk-toggleable__label sk-toggleable__label-arrow\">DecisionTreeClassifier</label><div class=\"sk-toggleable__content\"><pre>DecisionTreeClassifier()</pre></div></div></div></div></div></div></div></div></div></div>"
     },
     "execution_count": 30,
     "metadata": {},
     "output_type": "execute_result"
    }
   ],
   "source": [
    "result"
   ],
   "metadata": {
    "collapsed": false,
    "ExecuteTime": {
     "end_time": "2024-03-10T12:55:55.587166100Z",
     "start_time": "2024-03-10T12:55:55.572819700Z"
    }
   },
   "id": "b6c92fb4503fcad8",
   "execution_count": 30
  },
  {
   "cell_type": "code",
   "outputs": [],
   "source": [
    "# 학습 후 저장된 모델 파라미터 확인 \n",
    "#교차 학습의 결과 알려주는 코드\n",
    "gs.cv_results_\n",
    "#보기 불편해서 데이터 프레임에 담기\n",
    "cv_resultsDF=pd.DataFrame(gs.cv_results_)"
   ],
   "metadata": {
    "collapsed": false,
    "ExecuteTime": {
     "end_time": "2024-03-10T12:55:55.606514100Z",
     "start_time": "2024-03-10T12:55:55.591284400Z"
    }
   },
   "id": "c5c20286c3fa5740",
   "execution_count": 31
  },
  {
   "cell_type": "code",
   "outputs": [
    {
     "data": {
      "text/plain": "    mean_fit_time  std_fit_time  mean_score_time  std_score_time  \\\n0        0.520504      0.019701         0.011150        0.007052   \n1        0.508557      0.013868         0.013411        0.005476   \n2        0.513394      0.024921         0.006674        0.007706   \n3        1.112040      0.090196         0.006708        0.007746   \n4        1.120042      0.087500         0.009140        0.007928   \n5        1.119916      0.050763         0.006719        0.007758   \n6        1.982406      0.186776         0.010458        0.006841   \n7        2.014657      0.197503         0.015535        0.000215   \n8        1.973858      0.182577         0.013606        0.005561   \n9        0.535824      0.022341         0.004468        0.007065   \n10       0.525865      0.013060         0.006608        0.007633   \n11       0.537446      0.019422         0.008907        0.007713   \n12       1.233382      0.127940         0.011197        0.007082   \n13       1.237706      0.106692         0.013570        0.005555   \n14       1.197825      0.117561         0.002231        0.005466   \n15       2.413396      0.293607         0.011213        0.007093   \n16       2.379584      0.287402         0.009021        0.007815   \n17       2.364560      0.279202         0.006698        0.007734   \n18       0.544649      0.011781         0.010215        0.006826   \n19       0.544641      0.010647         0.011172        0.007066   \n20       0.505963      0.040635         0.005138        0.006837   \n21       1.250268      0.078565         0.011088        0.007016   \n22       1.227565      0.100441         0.004482        0.007086   \n23       1.237140      0.120132         0.009022        0.007815   \n24       1.708522      0.705445         0.008388        0.006448   \n25       0.734098      0.063662         0.004265        0.000903   \n26       0.728957      0.075535         0.004327        0.000683   \n\n   param_criterion param_max_depth param_min_samples_split  \\\n0             gini               5                       2   \n1             gini               5                       4   \n2             gini               5                       6   \n3             gini              10                       2   \n4             gini              10                       4   \n5             gini              10                       6   \n6             gini              15                       2   \n7             gini              15                       4   \n8             gini              15                       6   \n9          entropy               5                       2   \n10         entropy               5                       4   \n11         entropy               5                       6   \n12         entropy              10                       2   \n13         entropy              10                       4   \n14         entropy              10                       6   \n15         entropy              15                       2   \n16         entropy              15                       4   \n17         entropy              15                       6   \n18        log_loss               5                       2   \n19        log_loss               5                       4   \n20        log_loss               5                       6   \n21        log_loss              10                       2   \n22        log_loss              10                       4   \n23        log_loss              10                       6   \n24        log_loss              15                       2   \n25        log_loss              15                       4   \n26        log_loss              15                       6   \n\n                                               params  split0_test_score  \\\n0   {'criterion': 'gini', 'max_depth': 5, 'min_sam...           0.167731   \n1   {'criterion': 'gini', 'max_depth': 5, 'min_sam...           0.167731   \n2   {'criterion': 'gini', 'max_depth': 5, 'min_sam...           0.167731   \n3   {'criterion': 'gini', 'max_depth': 10, 'min_sa...           0.162656   \n4   {'criterion': 'gini', 'max_depth': 10, 'min_sa...           0.162656   \n5   {'criterion': 'gini', 'max_depth': 10, 'min_sa...           0.162744   \n6   {'criterion': 'gini', 'max_depth': 15, 'min_sa...           0.167994   \n7   {'criterion': 'gini', 'max_depth': 15, 'min_sa...           0.166681   \n8   {'criterion': 'gini', 'max_depth': 15, 'min_sa...           0.167644   \n9   {'criterion': 'entropy', 'max_depth': 5, 'min_...           0.168256   \n10  {'criterion': 'entropy', 'max_depth': 5, 'min_...           0.168256   \n11  {'criterion': 'entropy', 'max_depth': 5, 'min_...           0.168256   \n12  {'criterion': 'entropy', 'max_depth': 10, 'min...           0.161519   \n13  {'criterion': 'entropy', 'max_depth': 10, 'min...           0.161081   \n14  {'criterion': 'entropy', 'max_depth': 10, 'min...           0.161081   \n15  {'criterion': 'entropy', 'max_depth': 15, 'min...           0.168869   \n16  {'criterion': 'entropy', 'max_depth': 15, 'min...           0.168694   \n17  {'criterion': 'entropy', 'max_depth': 15, 'min...           0.168869   \n18  {'criterion': 'log_loss', 'max_depth': 5, 'min...           0.168256   \n19  {'criterion': 'log_loss', 'max_depth': 5, 'min...           0.168256   \n20  {'criterion': 'log_loss', 'max_depth': 5, 'min...           0.168256   \n21  {'criterion': 'log_loss', 'max_depth': 10, 'mi...           0.161256   \n22  {'criterion': 'log_loss', 'max_depth': 10, 'mi...           0.161344   \n23  {'criterion': 'log_loss', 'max_depth': 10, 'mi...           0.161256   \n24  {'criterion': 'log_loss', 'max_depth': 15, 'mi...           0.170094   \n25  {'criterion': 'log_loss', 'max_depth': 15, 'mi...           0.168081   \n26  {'criterion': 'log_loss', 'max_depth': 15, 'mi...           0.168519   \n\n    split1_test_score  split2_test_score  split3_test_score  \\\n0            0.166331           0.164406           0.169219   \n1            0.166331           0.164406           0.169219   \n2            0.166331           0.164406           0.169219   \n3            0.167206           0.171231           0.172019   \n4            0.167381           0.171319           0.172281   \n5            0.167381           0.171231           0.172194   \n6            0.170181           0.164406           0.164844   \n7            0.169569           0.163531           0.163531   \n8            0.169919           0.163706           0.164406   \n9            0.167031           0.164231           0.169831   \n10           0.167031           0.164319           0.169831   \n11           0.167031           0.164231           0.169831   \n12           0.172106           0.165456           0.171231   \n13           0.172369           0.165806           0.171144   \n14           0.171844           0.165894           0.171494   \n15           0.170794           0.171581           0.169919   \n16           0.170094           0.170969           0.170444   \n17           0.170181           0.171231           0.170531   \n18           0.167031           0.164231           0.169831   \n19           0.167031           0.164319           0.169831   \n20           0.167031           0.164231           0.169831   \n21           0.172194           0.165544           0.171056   \n22           0.171756           0.165544           0.171144   \n23           0.172194           0.165981           0.171231   \n24           0.171144           0.171231           0.170181   \n25           0.169656           0.171231           0.170706   \n26           0.170006           0.171581           0.170794   \n\n    split4_test_score  split5_test_score  split6_test_score  mean_test_score  \\\n0            0.159345           0.165121           0.165733         0.165412   \n1            0.159345           0.165121           0.165733         0.165412   \n2            0.159345           0.165121           0.165733         0.165412   \n3            0.166608           0.165558           0.166083         0.167337   \n4            0.167133           0.165908           0.165646         0.167475   \n5            0.166783           0.165558           0.165646         0.167362   \n6            0.165208           0.165383           0.163808         0.165975   \n7            0.166258           0.166258           0.162671         0.165500   \n8            0.165908           0.165908           0.162058         0.165650   \n9            0.158558           0.165996           0.165558         0.165637   \n10           0.158558           0.165996           0.165558         0.165650   \n11           0.158558           0.165996           0.165558         0.165637   \n12           0.157770           0.174134           0.164858         0.166725   \n13           0.157508           0.174221           0.165033         0.166737   \n14           0.157245           0.174221           0.164771         0.166650   \n15           0.165821           0.165996           0.163108         0.168012   \n16           0.164683           0.165121           0.162408         0.167487   \n17           0.164946           0.164771           0.162933         0.167637   \n18           0.158558           0.165996           0.165558         0.165637   \n19           0.158558           0.165996           0.165558         0.165650   \n20           0.158558           0.165996           0.165558         0.165637   \n21           0.157595           0.174134           0.164771         0.166650   \n22           0.157858           0.174396           0.164683         0.166675   \n23           0.157420           0.174221           0.165121         0.166775   \n24           0.165383           0.165908           0.162496         0.168062   \n25           0.165033           0.166346           0.162408         0.167637   \n26           0.164771           0.165033           0.162933         0.167662   \n\n    std_test_score  rank_test_score  \n0         0.002896               25  \n1         0.002896               25  \n2         0.002896               25  \n3         0.003030                9  \n4         0.003094                7  \n5         0.003075                8  \n6         0.002109               16  \n7         0.002231               24  \n8         0.002407               17  \n9         0.003351               20  \n10        0.003346               18  \n11        0.003351               20  \n12        0.005562               12  \n13        0.005708               11  \n14        0.005748               15  \n15        0.002872                2  \n16        0.003125                6  \n17        0.003091                5  \n18        0.003351               20  \n19        0.003346               18  \n20        0.003351               20  \n21        0.005631               14  \n22        0.005565               13  \n23        0.005682               10  \n24        0.003184                1  \n25        0.002986                4  \n26        0.003140                3  ",
      "text/html": "<div>\n<style scoped>\n    .dataframe tbody tr th:only-of-type {\n        vertical-align: middle;\n    }\n\n    .dataframe tbody tr th {\n        vertical-align: top;\n    }\n\n    .dataframe thead th {\n        text-align: right;\n    }\n</style>\n<table border=\"1\" class=\"dataframe\">\n  <thead>\n    <tr style=\"text-align: right;\">\n      <th></th>\n      <th>mean_fit_time</th>\n      <th>std_fit_time</th>\n      <th>mean_score_time</th>\n      <th>std_score_time</th>\n      <th>param_criterion</th>\n      <th>param_max_depth</th>\n      <th>param_min_samples_split</th>\n      <th>params</th>\n      <th>split0_test_score</th>\n      <th>split1_test_score</th>\n      <th>split2_test_score</th>\n      <th>split3_test_score</th>\n      <th>split4_test_score</th>\n      <th>split5_test_score</th>\n      <th>split6_test_score</th>\n      <th>mean_test_score</th>\n      <th>std_test_score</th>\n      <th>rank_test_score</th>\n    </tr>\n  </thead>\n  <tbody>\n    <tr>\n      <th>0</th>\n      <td>0.520504</td>\n      <td>0.019701</td>\n      <td>0.011150</td>\n      <td>0.007052</td>\n      <td>gini</td>\n      <td>5</td>\n      <td>2</td>\n      <td>{'criterion': 'gini', 'max_depth': 5, 'min_sam...</td>\n      <td>0.167731</td>\n      <td>0.166331</td>\n      <td>0.164406</td>\n      <td>0.169219</td>\n      <td>0.159345</td>\n      <td>0.165121</td>\n      <td>0.165733</td>\n      <td>0.165412</td>\n      <td>0.002896</td>\n      <td>25</td>\n    </tr>\n    <tr>\n      <th>1</th>\n      <td>0.508557</td>\n      <td>0.013868</td>\n      <td>0.013411</td>\n      <td>0.005476</td>\n      <td>gini</td>\n      <td>5</td>\n      <td>4</td>\n      <td>{'criterion': 'gini', 'max_depth': 5, 'min_sam...</td>\n      <td>0.167731</td>\n      <td>0.166331</td>\n      <td>0.164406</td>\n      <td>0.169219</td>\n      <td>0.159345</td>\n      <td>0.165121</td>\n      <td>0.165733</td>\n      <td>0.165412</td>\n      <td>0.002896</td>\n      <td>25</td>\n    </tr>\n    <tr>\n      <th>2</th>\n      <td>0.513394</td>\n      <td>0.024921</td>\n      <td>0.006674</td>\n      <td>0.007706</td>\n      <td>gini</td>\n      <td>5</td>\n      <td>6</td>\n      <td>{'criterion': 'gini', 'max_depth': 5, 'min_sam...</td>\n      <td>0.167731</td>\n      <td>0.166331</td>\n      <td>0.164406</td>\n      <td>0.169219</td>\n      <td>0.159345</td>\n      <td>0.165121</td>\n      <td>0.165733</td>\n      <td>0.165412</td>\n      <td>0.002896</td>\n      <td>25</td>\n    </tr>\n    <tr>\n      <th>3</th>\n      <td>1.112040</td>\n      <td>0.090196</td>\n      <td>0.006708</td>\n      <td>0.007746</td>\n      <td>gini</td>\n      <td>10</td>\n      <td>2</td>\n      <td>{'criterion': 'gini', 'max_depth': 10, 'min_sa...</td>\n      <td>0.162656</td>\n      <td>0.167206</td>\n      <td>0.171231</td>\n      <td>0.172019</td>\n      <td>0.166608</td>\n      <td>0.165558</td>\n      <td>0.166083</td>\n      <td>0.167337</td>\n      <td>0.003030</td>\n      <td>9</td>\n    </tr>\n    <tr>\n      <th>4</th>\n      <td>1.120042</td>\n      <td>0.087500</td>\n      <td>0.009140</td>\n      <td>0.007928</td>\n      <td>gini</td>\n      <td>10</td>\n      <td>4</td>\n      <td>{'criterion': 'gini', 'max_depth': 10, 'min_sa...</td>\n      <td>0.162656</td>\n      <td>0.167381</td>\n      <td>0.171319</td>\n      <td>0.172281</td>\n      <td>0.167133</td>\n      <td>0.165908</td>\n      <td>0.165646</td>\n      <td>0.167475</td>\n      <td>0.003094</td>\n      <td>7</td>\n    </tr>\n    <tr>\n      <th>5</th>\n      <td>1.119916</td>\n      <td>0.050763</td>\n      <td>0.006719</td>\n      <td>0.007758</td>\n      <td>gini</td>\n      <td>10</td>\n      <td>6</td>\n      <td>{'criterion': 'gini', 'max_depth': 10, 'min_sa...</td>\n      <td>0.162744</td>\n      <td>0.167381</td>\n      <td>0.171231</td>\n      <td>0.172194</td>\n      <td>0.166783</td>\n      <td>0.165558</td>\n      <td>0.165646</td>\n      <td>0.167362</td>\n      <td>0.003075</td>\n      <td>8</td>\n    </tr>\n    <tr>\n      <th>6</th>\n      <td>1.982406</td>\n      <td>0.186776</td>\n      <td>0.010458</td>\n      <td>0.006841</td>\n      <td>gini</td>\n      <td>15</td>\n      <td>2</td>\n      <td>{'criterion': 'gini', 'max_depth': 15, 'min_sa...</td>\n      <td>0.167994</td>\n      <td>0.170181</td>\n      <td>0.164406</td>\n      <td>0.164844</td>\n      <td>0.165208</td>\n      <td>0.165383</td>\n      <td>0.163808</td>\n      <td>0.165975</td>\n      <td>0.002109</td>\n      <td>16</td>\n    </tr>\n    <tr>\n      <th>7</th>\n      <td>2.014657</td>\n      <td>0.197503</td>\n      <td>0.015535</td>\n      <td>0.000215</td>\n      <td>gini</td>\n      <td>15</td>\n      <td>4</td>\n      <td>{'criterion': 'gini', 'max_depth': 15, 'min_sa...</td>\n      <td>0.166681</td>\n      <td>0.169569</td>\n      <td>0.163531</td>\n      <td>0.163531</td>\n      <td>0.166258</td>\n      <td>0.166258</td>\n      <td>0.162671</td>\n      <td>0.165500</td>\n      <td>0.002231</td>\n      <td>24</td>\n    </tr>\n    <tr>\n      <th>8</th>\n      <td>1.973858</td>\n      <td>0.182577</td>\n      <td>0.013606</td>\n      <td>0.005561</td>\n      <td>gini</td>\n      <td>15</td>\n      <td>6</td>\n      <td>{'criterion': 'gini', 'max_depth': 15, 'min_sa...</td>\n      <td>0.167644</td>\n      <td>0.169919</td>\n      <td>0.163706</td>\n      <td>0.164406</td>\n      <td>0.165908</td>\n      <td>0.165908</td>\n      <td>0.162058</td>\n      <td>0.165650</td>\n      <td>0.002407</td>\n      <td>17</td>\n    </tr>\n    <tr>\n      <th>9</th>\n      <td>0.535824</td>\n      <td>0.022341</td>\n      <td>0.004468</td>\n      <td>0.007065</td>\n      <td>entropy</td>\n      <td>5</td>\n      <td>2</td>\n      <td>{'criterion': 'entropy', 'max_depth': 5, 'min_...</td>\n      <td>0.168256</td>\n      <td>0.167031</td>\n      <td>0.164231</td>\n      <td>0.169831</td>\n      <td>0.158558</td>\n      <td>0.165996</td>\n      <td>0.165558</td>\n      <td>0.165637</td>\n      <td>0.003351</td>\n      <td>20</td>\n    </tr>\n    <tr>\n      <th>10</th>\n      <td>0.525865</td>\n      <td>0.013060</td>\n      <td>0.006608</td>\n      <td>0.007633</td>\n      <td>entropy</td>\n      <td>5</td>\n      <td>4</td>\n      <td>{'criterion': 'entropy', 'max_depth': 5, 'min_...</td>\n      <td>0.168256</td>\n      <td>0.167031</td>\n      <td>0.164319</td>\n      <td>0.169831</td>\n      <td>0.158558</td>\n      <td>0.165996</td>\n      <td>0.165558</td>\n      <td>0.165650</td>\n      <td>0.003346</td>\n      <td>18</td>\n    </tr>\n    <tr>\n      <th>11</th>\n      <td>0.537446</td>\n      <td>0.019422</td>\n      <td>0.008907</td>\n      <td>0.007713</td>\n      <td>entropy</td>\n      <td>5</td>\n      <td>6</td>\n      <td>{'criterion': 'entropy', 'max_depth': 5, 'min_...</td>\n      <td>0.168256</td>\n      <td>0.167031</td>\n      <td>0.164231</td>\n      <td>0.169831</td>\n      <td>0.158558</td>\n      <td>0.165996</td>\n      <td>0.165558</td>\n      <td>0.165637</td>\n      <td>0.003351</td>\n      <td>20</td>\n    </tr>\n    <tr>\n      <th>12</th>\n      <td>1.233382</td>\n      <td>0.127940</td>\n      <td>0.011197</td>\n      <td>0.007082</td>\n      <td>entropy</td>\n      <td>10</td>\n      <td>2</td>\n      <td>{'criterion': 'entropy', 'max_depth': 10, 'min...</td>\n      <td>0.161519</td>\n      <td>0.172106</td>\n      <td>0.165456</td>\n      <td>0.171231</td>\n      <td>0.157770</td>\n      <td>0.174134</td>\n      <td>0.164858</td>\n      <td>0.166725</td>\n      <td>0.005562</td>\n      <td>12</td>\n    </tr>\n    <tr>\n      <th>13</th>\n      <td>1.237706</td>\n      <td>0.106692</td>\n      <td>0.013570</td>\n      <td>0.005555</td>\n      <td>entropy</td>\n      <td>10</td>\n      <td>4</td>\n      <td>{'criterion': 'entropy', 'max_depth': 10, 'min...</td>\n      <td>0.161081</td>\n      <td>0.172369</td>\n      <td>0.165806</td>\n      <td>0.171144</td>\n      <td>0.157508</td>\n      <td>0.174221</td>\n      <td>0.165033</td>\n      <td>0.166737</td>\n      <td>0.005708</td>\n      <td>11</td>\n    </tr>\n    <tr>\n      <th>14</th>\n      <td>1.197825</td>\n      <td>0.117561</td>\n      <td>0.002231</td>\n      <td>0.005466</td>\n      <td>entropy</td>\n      <td>10</td>\n      <td>6</td>\n      <td>{'criterion': 'entropy', 'max_depth': 10, 'min...</td>\n      <td>0.161081</td>\n      <td>0.171844</td>\n      <td>0.165894</td>\n      <td>0.171494</td>\n      <td>0.157245</td>\n      <td>0.174221</td>\n      <td>0.164771</td>\n      <td>0.166650</td>\n      <td>0.005748</td>\n      <td>15</td>\n    </tr>\n    <tr>\n      <th>15</th>\n      <td>2.413396</td>\n      <td>0.293607</td>\n      <td>0.011213</td>\n      <td>0.007093</td>\n      <td>entropy</td>\n      <td>15</td>\n      <td>2</td>\n      <td>{'criterion': 'entropy', 'max_depth': 15, 'min...</td>\n      <td>0.168869</td>\n      <td>0.170794</td>\n      <td>0.171581</td>\n      <td>0.169919</td>\n      <td>0.165821</td>\n      <td>0.165996</td>\n      <td>0.163108</td>\n      <td>0.168012</td>\n      <td>0.002872</td>\n      <td>2</td>\n    </tr>\n    <tr>\n      <th>16</th>\n      <td>2.379584</td>\n      <td>0.287402</td>\n      <td>0.009021</td>\n      <td>0.007815</td>\n      <td>entropy</td>\n      <td>15</td>\n      <td>4</td>\n      <td>{'criterion': 'entropy', 'max_depth': 15, 'min...</td>\n      <td>0.168694</td>\n      <td>0.170094</td>\n      <td>0.170969</td>\n      <td>0.170444</td>\n      <td>0.164683</td>\n      <td>0.165121</td>\n      <td>0.162408</td>\n      <td>0.167487</td>\n      <td>0.003125</td>\n      <td>6</td>\n    </tr>\n    <tr>\n      <th>17</th>\n      <td>2.364560</td>\n      <td>0.279202</td>\n      <td>0.006698</td>\n      <td>0.007734</td>\n      <td>entropy</td>\n      <td>15</td>\n      <td>6</td>\n      <td>{'criterion': 'entropy', 'max_depth': 15, 'min...</td>\n      <td>0.168869</td>\n      <td>0.170181</td>\n      <td>0.171231</td>\n      <td>0.170531</td>\n      <td>0.164946</td>\n      <td>0.164771</td>\n      <td>0.162933</td>\n      <td>0.167637</td>\n      <td>0.003091</td>\n      <td>5</td>\n    </tr>\n    <tr>\n      <th>18</th>\n      <td>0.544649</td>\n      <td>0.011781</td>\n      <td>0.010215</td>\n      <td>0.006826</td>\n      <td>log_loss</td>\n      <td>5</td>\n      <td>2</td>\n      <td>{'criterion': 'log_loss', 'max_depth': 5, 'min...</td>\n      <td>0.168256</td>\n      <td>0.167031</td>\n      <td>0.164231</td>\n      <td>0.169831</td>\n      <td>0.158558</td>\n      <td>0.165996</td>\n      <td>0.165558</td>\n      <td>0.165637</td>\n      <td>0.003351</td>\n      <td>20</td>\n    </tr>\n    <tr>\n      <th>19</th>\n      <td>0.544641</td>\n      <td>0.010647</td>\n      <td>0.011172</td>\n      <td>0.007066</td>\n      <td>log_loss</td>\n      <td>5</td>\n      <td>4</td>\n      <td>{'criterion': 'log_loss', 'max_depth': 5, 'min...</td>\n      <td>0.168256</td>\n      <td>0.167031</td>\n      <td>0.164319</td>\n      <td>0.169831</td>\n      <td>0.158558</td>\n      <td>0.165996</td>\n      <td>0.165558</td>\n      <td>0.165650</td>\n      <td>0.003346</td>\n      <td>18</td>\n    </tr>\n    <tr>\n      <th>20</th>\n      <td>0.505963</td>\n      <td>0.040635</td>\n      <td>0.005138</td>\n      <td>0.006837</td>\n      <td>log_loss</td>\n      <td>5</td>\n      <td>6</td>\n      <td>{'criterion': 'log_loss', 'max_depth': 5, 'min...</td>\n      <td>0.168256</td>\n      <td>0.167031</td>\n      <td>0.164231</td>\n      <td>0.169831</td>\n      <td>0.158558</td>\n      <td>0.165996</td>\n      <td>0.165558</td>\n      <td>0.165637</td>\n      <td>0.003351</td>\n      <td>20</td>\n    </tr>\n    <tr>\n      <th>21</th>\n      <td>1.250268</td>\n      <td>0.078565</td>\n      <td>0.011088</td>\n      <td>0.007016</td>\n      <td>log_loss</td>\n      <td>10</td>\n      <td>2</td>\n      <td>{'criterion': 'log_loss', 'max_depth': 10, 'mi...</td>\n      <td>0.161256</td>\n      <td>0.172194</td>\n      <td>0.165544</td>\n      <td>0.171056</td>\n      <td>0.157595</td>\n      <td>0.174134</td>\n      <td>0.164771</td>\n      <td>0.166650</td>\n      <td>0.005631</td>\n      <td>14</td>\n    </tr>\n    <tr>\n      <th>22</th>\n      <td>1.227565</td>\n      <td>0.100441</td>\n      <td>0.004482</td>\n      <td>0.007086</td>\n      <td>log_loss</td>\n      <td>10</td>\n      <td>4</td>\n      <td>{'criterion': 'log_loss', 'max_depth': 10, 'mi...</td>\n      <td>0.161344</td>\n      <td>0.171756</td>\n      <td>0.165544</td>\n      <td>0.171144</td>\n      <td>0.157858</td>\n      <td>0.174396</td>\n      <td>0.164683</td>\n      <td>0.166675</td>\n      <td>0.005565</td>\n      <td>13</td>\n    </tr>\n    <tr>\n      <th>23</th>\n      <td>1.237140</td>\n      <td>0.120132</td>\n      <td>0.009022</td>\n      <td>0.007815</td>\n      <td>log_loss</td>\n      <td>10</td>\n      <td>6</td>\n      <td>{'criterion': 'log_loss', 'max_depth': 10, 'mi...</td>\n      <td>0.161256</td>\n      <td>0.172194</td>\n      <td>0.165981</td>\n      <td>0.171231</td>\n      <td>0.157420</td>\n      <td>0.174221</td>\n      <td>0.165121</td>\n      <td>0.166775</td>\n      <td>0.005682</td>\n      <td>10</td>\n    </tr>\n    <tr>\n      <th>24</th>\n      <td>1.708522</td>\n      <td>0.705445</td>\n      <td>0.008388</td>\n      <td>0.006448</td>\n      <td>log_loss</td>\n      <td>15</td>\n      <td>2</td>\n      <td>{'criterion': 'log_loss', 'max_depth': 15, 'mi...</td>\n      <td>0.170094</td>\n      <td>0.171144</td>\n      <td>0.171231</td>\n      <td>0.170181</td>\n      <td>0.165383</td>\n      <td>0.165908</td>\n      <td>0.162496</td>\n      <td>0.168062</td>\n      <td>0.003184</td>\n      <td>1</td>\n    </tr>\n    <tr>\n      <th>25</th>\n      <td>0.734098</td>\n      <td>0.063662</td>\n      <td>0.004265</td>\n      <td>0.000903</td>\n      <td>log_loss</td>\n      <td>15</td>\n      <td>4</td>\n      <td>{'criterion': 'log_loss', 'max_depth': 15, 'mi...</td>\n      <td>0.168081</td>\n      <td>0.169656</td>\n      <td>0.171231</td>\n      <td>0.170706</td>\n      <td>0.165033</td>\n      <td>0.166346</td>\n      <td>0.162408</td>\n      <td>0.167637</td>\n      <td>0.002986</td>\n      <td>4</td>\n    </tr>\n    <tr>\n      <th>26</th>\n      <td>0.728957</td>\n      <td>0.075535</td>\n      <td>0.004327</td>\n      <td>0.000683</td>\n      <td>log_loss</td>\n      <td>15</td>\n      <td>6</td>\n      <td>{'criterion': 'log_loss', 'max_depth': 15, 'mi...</td>\n      <td>0.168519</td>\n      <td>0.170006</td>\n      <td>0.171581</td>\n      <td>0.170794</td>\n      <td>0.164771</td>\n      <td>0.165033</td>\n      <td>0.162933</td>\n      <td>0.167662</td>\n      <td>0.003140</td>\n      <td>3</td>\n    </tr>\n  </tbody>\n</table>\n</div>"
     },
     "execution_count": 32,
     "metadata": {},
     "output_type": "execute_result"
    }
   ],
   "source": [
    "cv_resultsDF"
   ],
   "metadata": {
    "collapsed": false,
    "ExecuteTime": {
     "end_time": "2024-03-10T12:55:55.640149900Z",
     "start_time": "2024-03-10T12:55:55.617051900Z"
    }
   },
   "id": "6aa5c67f345574fa",
   "execution_count": 32
  },
  {
   "cell_type": "code",
   "outputs": [
    {
     "data": {
      "text/plain": "{'criterion': 'log_loss', 'max_depth': 15, 'min_samples_split': 2}"
     },
     "execution_count": 33,
     "metadata": {},
     "output_type": "execute_result"
    }
   ],
   "source": [
    "# 조합된 모델 중 최고의 성능을 내는 하이퍼파라미터\n",
    "gs.best_params_"
   ],
   "metadata": {
    "collapsed": false,
    "ExecuteTime": {
     "end_time": "2024-03-10T12:55:55.670561800Z",
     "start_time": "2024-03-10T12:55:55.638089700Z"
    }
   },
   "id": "7b10c5334f25e290",
   "execution_count": 33
  },
  {
   "cell_type": "code",
   "outputs": [
    {
     "data": {
      "text/plain": "0.16806237000099195"
     },
     "execution_count": 34,
     "metadata": {},
     "output_type": "execute_result"
    }
   ],
   "source": [
    "#조합된 모델 중 최고의 점수\n",
    "gs.best_score_  #테스트 스코어가 기준, 만약 트레인 스코어가 보고 싶으면, return_train_score 부분을 False로 해준다."
   ],
   "metadata": {
    "collapsed": false,
    "ExecuteTime": {
     "end_time": "2024-03-10T12:55:55.733358400Z",
     "start_time": "2024-03-10T12:55:55.654955200Z"
    }
   },
   "id": "98165a76c0cd1be2",
   "execution_count": 34
  },
  {
   "cell_type": "code",
   "outputs": [
    {
     "data": {
      "text/plain": "array([4, 4, 4, ..., 2, 5, 1], dtype=int64)"
     },
     "execution_count": 35,
     "metadata": {},
     "output_type": "execute_result"
    }
   ],
   "source": [
    "en_model.predict(X_train)"
   ],
   "metadata": {
    "collapsed": false,
    "ExecuteTime": {
     "end_time": "2024-03-10T12:55:58.473826300Z",
     "start_time": "2024-03-10T12:55:55.671559100Z"
    }
   },
   "id": "40817da22435b81b",
   "execution_count": 35
  },
  {
   "cell_type": "code",
   "outputs": [
    {
     "data": {
      "text/plain": "array([[0.02, 0.06, 0.08, 0.05, 0.75, 0.04],\n       [0.05, 0.09, 0.09, 0.09, 0.6 , 0.08],\n       [0.02, 0.08, 0.09, 0.05, 0.73, 0.03],\n       ...,\n       [0.06, 0.1 , 0.65, 0.08, 0.07, 0.04],\n       [0.06, 0.04, 0.07, 0.01, 0.09, 0.73],\n       [0.05, 0.77, 0.04, 0.05, 0.06, 0.03]])"
     },
     "execution_count": 36,
     "metadata": {},
     "output_type": "execute_result"
    }
   ],
   "source": [
    "en_model.predict_proba(X_train)"
   ],
   "metadata": {
    "collapsed": false,
    "ExecuteTime": {
     "end_time": "2024-03-10T12:56:01.259399500Z",
     "start_time": "2024-03-10T12:55:58.478729400Z"
    }
   },
   "id": "b22d172526ca174a",
   "execution_count": 36
  },
  {
   "cell_type": "code",
   "outputs": [],
   "source": [],
   "metadata": {
    "collapsed": false,
    "ExecuteTime": {
     "end_time": "2024-03-10T12:56:01.274268900Z",
     "start_time": "2024-03-10T12:56:01.260398900Z"
    }
   },
   "id": "65ac79fe40109223",
   "execution_count": 36
  }
 ],
 "metadata": {
  "kernelspec": {
   "display_name": "Python 3",
   "language": "python",
   "name": "python3"
  },
  "language_info": {
   "codemirror_mode": {
    "name": "ipython",
    "version": 2
   },
   "file_extension": ".py",
   "mimetype": "text/x-python",
   "name": "python",
   "nbconvert_exporter": "python",
   "pygments_lexer": "ipython2",
   "version": "2.7.6"
  }
 },
 "nbformat": 4,
 "nbformat_minor": 5
}
